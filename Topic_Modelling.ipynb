{
  "nbformat": 4,
  "nbformat_minor": 0,
  "metadata": {
    "colab": {
      "provenance": [],
      "authorship_tag": "ABX9TyPR1AdqNETYCK4nVDo8sykV"
    },
    "kernelspec": {
      "name": "python3",
      "display_name": "Python 3"
    },
    "language_info": {
      "name": "python"
    },
    "accelerator": "GPU",
    "gpuClass": "standard"
  },
  "cells": [
    {
      "cell_type": "code",
      "source": [
        "# to enable table format\n",
        "# from google.colab import data_table\n",
        "# data_table.enable_dataframe_formatter()\n",
        "\n",
        "# to disbale table format\n",
        "# from google.colab import data_table\n",
        "# data_table.disable_dataframe_formatter()\n",
        "\n",
        "!pip install pyLDAvis"
      ],
      "metadata": {
        "id": "heEyyGNOXH4Y",
        "colab": {
          "base_uri": "https://localhost:8080/"
        },
        "outputId": "b3c7c261-5ebd-4e79-9e68-4af8f58193d9"
      },
      "execution_count": 1,
      "outputs": [
        {
          "output_type": "stream",
          "name": "stdout",
          "text": [
            "Looking in indexes: https://pypi.org/simple, https://us-python.pkg.dev/colab-wheels/public/simple/\n",
            "Collecting pyLDAvis\n",
            "  Downloading pyLDAvis-3.4.0-py3-none-any.whl (2.6 MB)\n",
            "\u001b[2K     \u001b[90m━━━━━━━━━━━━━━━━━━━━━━━━━━━━━━━━━━━━━━━━\u001b[0m \u001b[32m2.6/2.6 MB\u001b[0m \u001b[31m49.5 MB/s\u001b[0m eta \u001b[36m0:00:00\u001b[0m\n",
            "\u001b[?25hRequirement already satisfied: scikit-learn>=1.0.0 in /usr/local/lib/python3.9/dist-packages (from pyLDAvis) (1.2.2)\n",
            "Collecting joblib>=1.2.0\n",
            "  Downloading joblib-1.2.0-py3-none-any.whl (297 kB)\n",
            "\u001b[2K     \u001b[90m━━━━━━━━━━━━━━━━━━━━━━━━━━━━━━━━━━━━━━━\u001b[0m \u001b[32m298.0/298.0 KB\u001b[0m \u001b[31m9.2 MB/s\u001b[0m eta \u001b[36m0:00:00\u001b[0m\n",
            "\u001b[?25hRequirement already satisfied: numexpr in /usr/local/lib/python3.9/dist-packages (from pyLDAvis) (2.8.4)\n",
            "Requirement already satisfied: gensim in /usr/local/lib/python3.9/dist-packages (from pyLDAvis) (3.6.0)\n",
            "Requirement already satisfied: numpy>=1.22.0 in /usr/local/lib/python3.9/dist-packages (from pyLDAvis) (1.22.4)\n",
            "Requirement already satisfied: setuptools in /usr/local/lib/python3.9/dist-packages (from pyLDAvis) (63.4.3)\n",
            "Requirement already satisfied: pandas>=1.3.4 in /usr/local/lib/python3.9/dist-packages (from pyLDAvis) (1.4.4)\n",
            "Requirement already satisfied: scipy in /usr/local/lib/python3.9/dist-packages (from pyLDAvis) (1.10.1)\n",
            "Collecting funcy\n",
            "  Downloading funcy-1.18-py2.py3-none-any.whl (33 kB)\n",
            "Requirement already satisfied: jinja2 in /usr/local/lib/python3.9/dist-packages (from pyLDAvis) (3.1.2)\n",
            "Requirement already satisfied: pytz>=2020.1 in /usr/local/lib/python3.9/dist-packages (from pandas>=1.3.4->pyLDAvis) (2022.7.1)\n",
            "Requirement already satisfied: python-dateutil>=2.8.1 in /usr/local/lib/python3.9/dist-packages (from pandas>=1.3.4->pyLDAvis) (2.8.2)\n",
            "Requirement already satisfied: threadpoolctl>=2.0.0 in /usr/local/lib/python3.9/dist-packages (from scikit-learn>=1.0.0->pyLDAvis) (3.1.0)\n",
            "Requirement already satisfied: six>=1.5.0 in /usr/local/lib/python3.9/dist-packages (from gensim->pyLDAvis) (1.15.0)\n",
            "Requirement already satisfied: smart-open>=1.2.1 in /usr/local/lib/python3.9/dist-packages (from gensim->pyLDAvis) (6.3.0)\n",
            "Requirement already satisfied: MarkupSafe>=2.0 in /usr/local/lib/python3.9/dist-packages (from jinja2->pyLDAvis) (2.1.2)\n",
            "Installing collected packages: funcy, joblib, pyLDAvis\n",
            "  Attempting uninstall: joblib\n",
            "    Found existing installation: joblib 1.1.1\n",
            "    Uninstalling joblib-1.1.1:\n",
            "      Successfully uninstalled joblib-1.1.1\n",
            "\u001b[31mERROR: pip's dependency resolver does not currently take into account all the packages that are installed. This behaviour is the source of the following dependency conflicts.\n",
            "pandas-profiling 3.2.0 requires joblib~=1.1.0, but you have joblib 1.2.0 which is incompatible.\u001b[0m\u001b[31m\n",
            "\u001b[0mSuccessfully installed funcy-1.18 joblib-1.2.0 pyLDAvis-3.4.0\n"
          ]
        }
      ]
    },
    {
      "cell_type": "code",
      "source": [
        "# magic interactive shell command\n",
        "from IPython.core.interactiveshell import InteractiveShell\n",
        "InteractiveShell.ast_node_interactivity = 'all'"
      ],
      "metadata": {
        "id": "hp097M2dUmhK"
      },
      "execution_count": 2,
      "outputs": []
    },
    {
      "cell_type": "code",
      "execution_count": 3,
      "metadata": {
        "id": "zNsexNv4JgDT",
        "colab": {
          "base_uri": "https://localhost:8080/",
          "height": 35
        },
        "outputId": "a8c6feb1-da43-4d12-aca0-78fee8d11ed9"
      },
      "outputs": [
        {
          "output_type": "execute_result",
          "data": {
            "text/plain": [
              "'!\"#$%&\\'()*+,-./:;<=>?@[\\\\]^_`{|}~'"
            ],
            "application/vnd.google.colaboratory.intrinsic+json": {
              "type": "string"
            }
          },
          "metadata": {},
          "execution_count": 3
        },
        {
          "output_type": "stream",
          "name": "stdout",
          "text": [
            "Libraries Imported!\n"
          ]
        }
      ],
      "source": [
        "# for data exploration\n",
        "import pandas as pd\n",
        "import numpy as np\n",
        "import datetime as dt \n",
        "\n",
        "# remove warnings \n",
        "import warnings\n",
        "warnings.simplefilter(action='ignore', category=FutureWarning)\n",
        "warnings.filterwarnings(\"ignore\")\n",
        "\n",
        "# for text processing \n",
        "import re\n",
        "import nltk \n",
        "\n",
        "from nltk.corpus import stopwords\n",
        "from nltk.corpus import wordnet\n",
        "from nltk.tokenize import word_tokenize\n",
        "from nltk.stem import WordNetLemmatizer\n",
        "from nltk.stem import PorterStemmer\n",
        "from sklearn.feature_extraction.text import TfidfVectorizer\n",
        "import string \n",
        "string.punctuation\n",
        "\n",
        "from bs4 import BeautifulSoup\n",
        "# from nltk.sentiment.vader import SentimentIntensityAnalyzer as SIA\n",
        "from wordcloud import WordCloud,STOPWORDS, ImageColorGenerator\n",
        "\n",
        "# gensim for LDA\n",
        "import gensim\n",
        "import gensim.corpora as corpora\n",
        "from gensim.utils import simple_preprocess\n",
        "from gensim.models import CoherenceModel\n",
        "\n",
        "# plotting tools\n",
        "import matplotlib.pyplot as plt\n",
        "import seaborn as sns\n",
        "import plotly.express as ex\n",
        "from plotly.subplots import make_subplots\n",
        "import pyLDAvis\n",
        "# import pyLDAvis.gensim #dont skip this\n",
        "import pyLDAvis.gensim_models\n",
        "import matplotlib.pyplot as plt\n",
        "%matplotlib inline\n",
        "\n",
        "# to display all columns ana rows\n",
        "pd.set_option('display.max_columns',None)\n",
        "pd.set_option('display.max_rows',None)\n",
        "pd.set_option('display.min_rows',None)\n",
        "pd.set_option('display.expand_frame_repr',True)\n",
        "\n",
        "print('Libraries Imported!')\n",
        "\n"
      ]
    },
    {
      "cell_type": "code",
      "source": [
        "import nltk\n",
        "nltk.download('stopwords')\n",
        "nltk.download('punkt')\n",
        "nltk.download('wordnet')\n",
        "nltk.download('omw-1.4')\n",
        "nltk.download('averaged_perceptron_tagger')"
      ],
      "metadata": {
        "colab": {
          "base_uri": "https://localhost:8080/"
        },
        "id": "u01wWGybEQE5",
        "outputId": "a5581244-71cc-4b31-a1f7-cccde113bdc5"
      },
      "execution_count": 27,
      "outputs": [
        {
          "output_type": "stream",
          "name": "stderr",
          "text": [
            "[nltk_data] Downloading package stopwords to /root/nltk_data...\n",
            "[nltk_data]   Package stopwords is already up-to-date!\n"
          ]
        },
        {
          "output_type": "execute_result",
          "data": {
            "text/plain": [
              "True"
            ]
          },
          "metadata": {},
          "execution_count": 27
        },
        {
          "output_type": "stream",
          "name": "stderr",
          "text": [
            "[nltk_data] Downloading package punkt to /root/nltk_data...\n",
            "[nltk_data]   Package punkt is already up-to-date!\n"
          ]
        },
        {
          "output_type": "execute_result",
          "data": {
            "text/plain": [
              "True"
            ]
          },
          "metadata": {},
          "execution_count": 27
        },
        {
          "output_type": "stream",
          "name": "stderr",
          "text": [
            "[nltk_data] Downloading package wordnet to /root/nltk_data...\n",
            "[nltk_data]   Package wordnet is already up-to-date!\n"
          ]
        },
        {
          "output_type": "execute_result",
          "data": {
            "text/plain": [
              "True"
            ]
          },
          "metadata": {},
          "execution_count": 27
        },
        {
          "output_type": "stream",
          "name": "stderr",
          "text": [
            "[nltk_data] Downloading package omw-1.4 to /root/nltk_data...\n",
            "[nltk_data]   Package omw-1.4 is already up-to-date!\n"
          ]
        },
        {
          "output_type": "execute_result",
          "data": {
            "text/plain": [
              "True"
            ]
          },
          "metadata": {},
          "execution_count": 27
        },
        {
          "output_type": "stream",
          "name": "stderr",
          "text": [
            "[nltk_data] Downloading package averaged_perceptron_tagger to\n",
            "[nltk_data]     /root/nltk_data...\n",
            "[nltk_data]   Unzipping taggers/averaged_perceptron_tagger.zip.\n"
          ]
        },
        {
          "output_type": "execute_result",
          "data": {
            "text/plain": [
              "True"
            ]
          },
          "metadata": {},
          "execution_count": 27
        }
      ]
    },
    {
      "cell_type": "code",
      "source": [
        "# upload file locally\n",
        "# from google.colab import files\n",
        "# uploaded = files.upload()\n",
        "\n",
        "# file upload through google drive\n",
        "from google.colab import drive\n",
        "drive.mount('/content/drive')"
      ],
      "metadata": {
        "id": "SyD3mE8aTsWy",
        "colab": {
          "base_uri": "https://localhost:8080/"
        },
        "outputId": "f9e2cf21-9e10-4449-aa6f-0d6e6f7c6394"
      },
      "execution_count": 5,
      "outputs": [
        {
          "output_type": "stream",
          "name": "stdout",
          "text": [
            "Mounted at /content/drive\n"
          ]
        }
      ]
    },
    {
      "cell_type": "code",
      "source": [
        "# # read raw data\n",
        "# dataset = pd.read_csv(io.BytesIO(uploaded['sample_us.tsv'],sep='\\t',error_bad_lines=False))\n",
        "# df = pd.read_csv('/content/sample_us.tsv',sep='\\t',error_bad_lines=False)\n",
        "df = pd.read_csv(\"drive/MyDrive/datasets/watch_reviews.tsv\",sep='\\t',error_bad_lines=False)\n",
        "df.head()\n",
        "df.shape"
      ],
      "metadata": {
        "colab": {
          "base_uri": "https://localhost:8080/",
          "height": 617
        },
        "id": "Iev9f1eKU78h",
        "outputId": "5823bce9-7943-48de-c540-8020b143b512"
      },
      "execution_count": 6,
      "outputs": [
        {
          "output_type": "stream",
          "name": "stderr",
          "text": [
            "b'Skipping line 8704: expected 15 fields, saw 22\\nSkipping line 16933: expected 15 fields, saw 22\\nSkipping line 23726: expected 15 fields, saw 22\\n'\n",
            "b'Skipping line 85637: expected 15 fields, saw 22\\n'\n",
            "b'Skipping line 132136: expected 15 fields, saw 22\\nSkipping line 158070: expected 15 fields, saw 22\\nSkipping line 166007: expected 15 fields, saw 22\\nSkipping line 171877: expected 15 fields, saw 22\\nSkipping line 177756: expected 15 fields, saw 22\\nSkipping line 181773: expected 15 fields, saw 22\\nSkipping line 191085: expected 15 fields, saw 22\\nSkipping line 196273: expected 15 fields, saw 22\\nSkipping line 196331: expected 15 fields, saw 22\\n'\n",
            "b'Skipping line 197000: expected 15 fields, saw 22\\nSkipping line 197011: expected 15 fields, saw 22\\nSkipping line 197432: expected 15 fields, saw 22\\nSkipping line 208016: expected 15 fields, saw 22\\nSkipping line 214110: expected 15 fields, saw 22\\nSkipping line 244328: expected 15 fields, saw 22\\nSkipping line 248519: expected 15 fields, saw 22\\nSkipping line 254936: expected 15 fields, saw 22\\n'\n",
            "b'Skipping line 272057: expected 15 fields, saw 22\\nSkipping line 293214: expected 15 fields, saw 22\\nSkipping line 310507: expected 15 fields, saw 22\\nSkipping line 312306: expected 15 fields, saw 22\\nSkipping line 316296: expected 15 fields, saw 22\\n'\n",
            "b'Skipping line 336028: expected 15 fields, saw 22\\nSkipping line 344885: expected 15 fields, saw 22\\nSkipping line 352551: expected 15 fields, saw 22\\n'\n",
            "b'Skipping line 408773: expected 15 fields, saw 22\\nSkipping line 434535: expected 15 fields, saw 22\\n'\n",
            "b'Skipping line 581593: expected 15 fields, saw 22\\n'\n",
            "b'Skipping line 652409: expected 15 fields, saw 22\\n'\n"
          ]
        },
        {
          "output_type": "execute_result",
          "data": {
            "text/plain": [
              "  marketplace  customer_id       review_id  product_id  product_parent  \\\n",
              "0          US      3653882  R3O9SGZBVQBV76  B00FALQ1ZC       937001370   \n",
              "1          US     14661224   RKH8BNC3L5DLF  B00D3RGO20       484010722   \n",
              "2          US     27324930  R2HLE8WKZSU3NL  B00DKYC7TK       361166390   \n",
              "3          US      7211452  R31U3UH5AZ42LL  B000EQS1JW       958035625   \n",
              "4          US     12733322  R2SV659OUJ945Y  B00A6GFD7S       765328221   \n",
              "\n",
              "                                       product_title product_category  \\\n",
              "0  Invicta Women's 15150 \"Angel\" 18k Yellow Gold ...          Watches   \n",
              "1  Kenneth Cole New York Women's KC4944 Automatic...          Watches   \n",
              "2  Ritche 22mm Black Stainless Steel Bracelet Wat...          Watches   \n",
              "3  Citizen Men's BM8180-03E Eco-Drive Stainless S...          Watches   \n",
              "4  Orient ER27009B Men's Symphony Automatic Stain...          Watches   \n",
              "\n",
              "   star_rating  helpful_votes  total_votes vine verified_purchase  \\\n",
              "0            5              0            0    N                 Y   \n",
              "1            5              0            0    N                 Y   \n",
              "2            2              1            1    N                 Y   \n",
              "3            5              0            0    N                 Y   \n",
              "4            4              0            0    N                 Y   \n",
              "\n",
              "                              review_headline  \\\n",
              "0                                  Five Stars   \n",
              "1  I love thiswatch it keeps time wonderfully   \n",
              "2                                   Two Stars   \n",
              "3                                  Five Stars   \n",
              "4    Beautiful face, but cheap sounding links   \n",
              "\n",
              "                                         review_body review_date  \n",
              "0  Absolutely love this watch! Get compliments al...  2015-08-31  \n",
              "1       I love this watch it keeps time wonderfully.  2015-08-31  \n",
              "2                                          Scratches  2015-08-31  \n",
              "3  It works well on me. However, I found cheaper ...  2015-08-31  \n",
              "4  Beautiful watch face.  The band looks nice all...  2015-08-31  "
            ],
            "text/html": [
              "\n",
              "  <div id=\"df-84b43e69-054f-49c3-81fb-da9baa381fd5\">\n",
              "    <div class=\"colab-df-container\">\n",
              "      <div>\n",
              "<style scoped>\n",
              "    .dataframe tbody tr th:only-of-type {\n",
              "        vertical-align: middle;\n",
              "    }\n",
              "\n",
              "    .dataframe tbody tr th {\n",
              "        vertical-align: top;\n",
              "    }\n",
              "\n",
              "    .dataframe thead th {\n",
              "        text-align: right;\n",
              "    }\n",
              "</style>\n",
              "<table border=\"1\" class=\"dataframe\">\n",
              "  <thead>\n",
              "    <tr style=\"text-align: right;\">\n",
              "      <th></th>\n",
              "      <th>marketplace</th>\n",
              "      <th>customer_id</th>\n",
              "      <th>review_id</th>\n",
              "      <th>product_id</th>\n",
              "      <th>product_parent</th>\n",
              "      <th>product_title</th>\n",
              "      <th>product_category</th>\n",
              "      <th>star_rating</th>\n",
              "      <th>helpful_votes</th>\n",
              "      <th>total_votes</th>\n",
              "      <th>vine</th>\n",
              "      <th>verified_purchase</th>\n",
              "      <th>review_headline</th>\n",
              "      <th>review_body</th>\n",
              "      <th>review_date</th>\n",
              "    </tr>\n",
              "  </thead>\n",
              "  <tbody>\n",
              "    <tr>\n",
              "      <th>0</th>\n",
              "      <td>US</td>\n",
              "      <td>3653882</td>\n",
              "      <td>R3O9SGZBVQBV76</td>\n",
              "      <td>B00FALQ1ZC</td>\n",
              "      <td>937001370</td>\n",
              "      <td>Invicta Women's 15150 \"Angel\" 18k Yellow Gold ...</td>\n",
              "      <td>Watches</td>\n",
              "      <td>5</td>\n",
              "      <td>0</td>\n",
              "      <td>0</td>\n",
              "      <td>N</td>\n",
              "      <td>Y</td>\n",
              "      <td>Five Stars</td>\n",
              "      <td>Absolutely love this watch! Get compliments al...</td>\n",
              "      <td>2015-08-31</td>\n",
              "    </tr>\n",
              "    <tr>\n",
              "      <th>1</th>\n",
              "      <td>US</td>\n",
              "      <td>14661224</td>\n",
              "      <td>RKH8BNC3L5DLF</td>\n",
              "      <td>B00D3RGO20</td>\n",
              "      <td>484010722</td>\n",
              "      <td>Kenneth Cole New York Women's KC4944 Automatic...</td>\n",
              "      <td>Watches</td>\n",
              "      <td>5</td>\n",
              "      <td>0</td>\n",
              "      <td>0</td>\n",
              "      <td>N</td>\n",
              "      <td>Y</td>\n",
              "      <td>I love thiswatch it keeps time wonderfully</td>\n",
              "      <td>I love this watch it keeps time wonderfully.</td>\n",
              "      <td>2015-08-31</td>\n",
              "    </tr>\n",
              "    <tr>\n",
              "      <th>2</th>\n",
              "      <td>US</td>\n",
              "      <td>27324930</td>\n",
              "      <td>R2HLE8WKZSU3NL</td>\n",
              "      <td>B00DKYC7TK</td>\n",
              "      <td>361166390</td>\n",
              "      <td>Ritche 22mm Black Stainless Steel Bracelet Wat...</td>\n",
              "      <td>Watches</td>\n",
              "      <td>2</td>\n",
              "      <td>1</td>\n",
              "      <td>1</td>\n",
              "      <td>N</td>\n",
              "      <td>Y</td>\n",
              "      <td>Two Stars</td>\n",
              "      <td>Scratches</td>\n",
              "      <td>2015-08-31</td>\n",
              "    </tr>\n",
              "    <tr>\n",
              "      <th>3</th>\n",
              "      <td>US</td>\n",
              "      <td>7211452</td>\n",
              "      <td>R31U3UH5AZ42LL</td>\n",
              "      <td>B000EQS1JW</td>\n",
              "      <td>958035625</td>\n",
              "      <td>Citizen Men's BM8180-03E Eco-Drive Stainless S...</td>\n",
              "      <td>Watches</td>\n",
              "      <td>5</td>\n",
              "      <td>0</td>\n",
              "      <td>0</td>\n",
              "      <td>N</td>\n",
              "      <td>Y</td>\n",
              "      <td>Five Stars</td>\n",
              "      <td>It works well on me. However, I found cheaper ...</td>\n",
              "      <td>2015-08-31</td>\n",
              "    </tr>\n",
              "    <tr>\n",
              "      <th>4</th>\n",
              "      <td>US</td>\n",
              "      <td>12733322</td>\n",
              "      <td>R2SV659OUJ945Y</td>\n",
              "      <td>B00A6GFD7S</td>\n",
              "      <td>765328221</td>\n",
              "      <td>Orient ER27009B Men's Symphony Automatic Stain...</td>\n",
              "      <td>Watches</td>\n",
              "      <td>4</td>\n",
              "      <td>0</td>\n",
              "      <td>0</td>\n",
              "      <td>N</td>\n",
              "      <td>Y</td>\n",
              "      <td>Beautiful face, but cheap sounding links</td>\n",
              "      <td>Beautiful watch face.  The band looks nice all...</td>\n",
              "      <td>2015-08-31</td>\n",
              "    </tr>\n",
              "  </tbody>\n",
              "</table>\n",
              "</div>\n",
              "      <button class=\"colab-df-convert\" onclick=\"convertToInteractive('df-84b43e69-054f-49c3-81fb-da9baa381fd5')\"\n",
              "              title=\"Convert this dataframe to an interactive table.\"\n",
              "              style=\"display:none;\">\n",
              "        \n",
              "  <svg xmlns=\"http://www.w3.org/2000/svg\" height=\"24px\"viewBox=\"0 0 24 24\"\n",
              "       width=\"24px\">\n",
              "    <path d=\"M0 0h24v24H0V0z\" fill=\"none\"/>\n",
              "    <path d=\"M18.56 5.44l.94 2.06.94-2.06 2.06-.94-2.06-.94-.94-2.06-.94 2.06-2.06.94zm-11 1L8.5 8.5l.94-2.06 2.06-.94-2.06-.94L8.5 2.5l-.94 2.06-2.06.94zm10 10l.94 2.06.94-2.06 2.06-.94-2.06-.94-.94-2.06-.94 2.06-2.06.94z\"/><path d=\"M17.41 7.96l-1.37-1.37c-.4-.4-.92-.59-1.43-.59-.52 0-1.04.2-1.43.59L10.3 9.45l-7.72 7.72c-.78.78-.78 2.05 0 2.83L4 21.41c.39.39.9.59 1.41.59.51 0 1.02-.2 1.41-.59l7.78-7.78 2.81-2.81c.8-.78.8-2.07 0-2.86zM5.41 20L4 18.59l7.72-7.72 1.47 1.35L5.41 20z\"/>\n",
              "  </svg>\n",
              "      </button>\n",
              "      \n",
              "  <style>\n",
              "    .colab-df-container {\n",
              "      display:flex;\n",
              "      flex-wrap:wrap;\n",
              "      gap: 12px;\n",
              "    }\n",
              "\n",
              "    .colab-df-convert {\n",
              "      background-color: #E8F0FE;\n",
              "      border: none;\n",
              "      border-radius: 50%;\n",
              "      cursor: pointer;\n",
              "      display: none;\n",
              "      fill: #1967D2;\n",
              "      height: 32px;\n",
              "      padding: 0 0 0 0;\n",
              "      width: 32px;\n",
              "    }\n",
              "\n",
              "    .colab-df-convert:hover {\n",
              "      background-color: #E2EBFA;\n",
              "      box-shadow: 0px 1px 2px rgba(60, 64, 67, 0.3), 0px 1px 3px 1px rgba(60, 64, 67, 0.15);\n",
              "      fill: #174EA6;\n",
              "    }\n",
              "\n",
              "    [theme=dark] .colab-df-convert {\n",
              "      background-color: #3B4455;\n",
              "      fill: #D2E3FC;\n",
              "    }\n",
              "\n",
              "    [theme=dark] .colab-df-convert:hover {\n",
              "      background-color: #434B5C;\n",
              "      box-shadow: 0px 1px 3px 1px rgba(0, 0, 0, 0.15);\n",
              "      filter: drop-shadow(0px 1px 2px rgba(0, 0, 0, 0.3));\n",
              "      fill: #FFFFFF;\n",
              "    }\n",
              "  </style>\n",
              "\n",
              "      <script>\n",
              "        const buttonEl =\n",
              "          document.querySelector('#df-84b43e69-054f-49c3-81fb-da9baa381fd5 button.colab-df-convert');\n",
              "        buttonEl.style.display =\n",
              "          google.colab.kernel.accessAllowed ? 'block' : 'none';\n",
              "\n",
              "        async function convertToInteractive(key) {\n",
              "          const element = document.querySelector('#df-84b43e69-054f-49c3-81fb-da9baa381fd5');\n",
              "          const dataTable =\n",
              "            await google.colab.kernel.invokeFunction('convertToInteractive',\n",
              "                                                     [key], {});\n",
              "          if (!dataTable) return;\n",
              "\n",
              "          const docLinkHtml = 'Like what you see? Visit the ' +\n",
              "            '<a target=\"_blank\" href=https://colab.research.google.com/notebooks/data_table.ipynb>data table notebook</a>'\n",
              "            + ' to learn more about interactive tables.';\n",
              "          element.innerHTML = '';\n",
              "          dataTable['output_type'] = 'display_data';\n",
              "          await google.colab.output.renderOutput(dataTable, element);\n",
              "          const docLink = document.createElement('div');\n",
              "          docLink.innerHTML = docLinkHtml;\n",
              "          element.appendChild(docLink);\n",
              "        }\n",
              "      </script>\n",
              "    </div>\n",
              "  </div>\n",
              "  "
            ]
          },
          "metadata": {},
          "execution_count": 6
        },
        {
          "output_type": "execute_result",
          "data": {
            "text/plain": [
              "(960204, 15)"
            ]
          },
          "metadata": {},
          "execution_count": 6
        }
      ]
    },
    {
      "cell_type": "code",
      "source": [
        "df[['product_title','review_body','product_category']].head()"
      ],
      "metadata": {
        "colab": {
          "base_uri": "https://localhost:8080/",
          "height": 206
        },
        "id": "1EHMVR3fVjax",
        "outputId": "5aab323b-89f7-402d-9cde-30d4aa4b1aa0"
      },
      "execution_count": 7,
      "outputs": [
        {
          "output_type": "execute_result",
          "data": {
            "text/plain": [
              "                                       product_title  \\\n",
              "0  Invicta Women's 15150 \"Angel\" 18k Yellow Gold ...   \n",
              "1  Kenneth Cole New York Women's KC4944 Automatic...   \n",
              "2  Ritche 22mm Black Stainless Steel Bracelet Wat...   \n",
              "3  Citizen Men's BM8180-03E Eco-Drive Stainless S...   \n",
              "4  Orient ER27009B Men's Symphony Automatic Stain...   \n",
              "\n",
              "                                         review_body product_category  \n",
              "0  Absolutely love this watch! Get compliments al...          Watches  \n",
              "1       I love this watch it keeps time wonderfully.          Watches  \n",
              "2                                          Scratches          Watches  \n",
              "3  It works well on me. However, I found cheaper ...          Watches  \n",
              "4  Beautiful watch face.  The band looks nice all...          Watches  "
            ],
            "text/html": [
              "\n",
              "  <div id=\"df-e4f35f87-1253-47f3-9fed-17f64f0332b1\">\n",
              "    <div class=\"colab-df-container\">\n",
              "      <div>\n",
              "<style scoped>\n",
              "    .dataframe tbody tr th:only-of-type {\n",
              "        vertical-align: middle;\n",
              "    }\n",
              "\n",
              "    .dataframe tbody tr th {\n",
              "        vertical-align: top;\n",
              "    }\n",
              "\n",
              "    .dataframe thead th {\n",
              "        text-align: right;\n",
              "    }\n",
              "</style>\n",
              "<table border=\"1\" class=\"dataframe\">\n",
              "  <thead>\n",
              "    <tr style=\"text-align: right;\">\n",
              "      <th></th>\n",
              "      <th>product_title</th>\n",
              "      <th>review_body</th>\n",
              "      <th>product_category</th>\n",
              "    </tr>\n",
              "  </thead>\n",
              "  <tbody>\n",
              "    <tr>\n",
              "      <th>0</th>\n",
              "      <td>Invicta Women's 15150 \"Angel\" 18k Yellow Gold ...</td>\n",
              "      <td>Absolutely love this watch! Get compliments al...</td>\n",
              "      <td>Watches</td>\n",
              "    </tr>\n",
              "    <tr>\n",
              "      <th>1</th>\n",
              "      <td>Kenneth Cole New York Women's KC4944 Automatic...</td>\n",
              "      <td>I love this watch it keeps time wonderfully.</td>\n",
              "      <td>Watches</td>\n",
              "    </tr>\n",
              "    <tr>\n",
              "      <th>2</th>\n",
              "      <td>Ritche 22mm Black Stainless Steel Bracelet Wat...</td>\n",
              "      <td>Scratches</td>\n",
              "      <td>Watches</td>\n",
              "    </tr>\n",
              "    <tr>\n",
              "      <th>3</th>\n",
              "      <td>Citizen Men's BM8180-03E Eco-Drive Stainless S...</td>\n",
              "      <td>It works well on me. However, I found cheaper ...</td>\n",
              "      <td>Watches</td>\n",
              "    </tr>\n",
              "    <tr>\n",
              "      <th>4</th>\n",
              "      <td>Orient ER27009B Men's Symphony Automatic Stain...</td>\n",
              "      <td>Beautiful watch face.  The band looks nice all...</td>\n",
              "      <td>Watches</td>\n",
              "    </tr>\n",
              "  </tbody>\n",
              "</table>\n",
              "</div>\n",
              "      <button class=\"colab-df-convert\" onclick=\"convertToInteractive('df-e4f35f87-1253-47f3-9fed-17f64f0332b1')\"\n",
              "              title=\"Convert this dataframe to an interactive table.\"\n",
              "              style=\"display:none;\">\n",
              "        \n",
              "  <svg xmlns=\"http://www.w3.org/2000/svg\" height=\"24px\"viewBox=\"0 0 24 24\"\n",
              "       width=\"24px\">\n",
              "    <path d=\"M0 0h24v24H0V0z\" fill=\"none\"/>\n",
              "    <path d=\"M18.56 5.44l.94 2.06.94-2.06 2.06-.94-2.06-.94-.94-2.06-.94 2.06-2.06.94zm-11 1L8.5 8.5l.94-2.06 2.06-.94-2.06-.94L8.5 2.5l-.94 2.06-2.06.94zm10 10l.94 2.06.94-2.06 2.06-.94-2.06-.94-.94-2.06-.94 2.06-2.06.94z\"/><path d=\"M17.41 7.96l-1.37-1.37c-.4-.4-.92-.59-1.43-.59-.52 0-1.04.2-1.43.59L10.3 9.45l-7.72 7.72c-.78.78-.78 2.05 0 2.83L4 21.41c.39.39.9.59 1.41.59.51 0 1.02-.2 1.41-.59l7.78-7.78 2.81-2.81c.8-.78.8-2.07 0-2.86zM5.41 20L4 18.59l7.72-7.72 1.47 1.35L5.41 20z\"/>\n",
              "  </svg>\n",
              "      </button>\n",
              "      \n",
              "  <style>\n",
              "    .colab-df-container {\n",
              "      display:flex;\n",
              "      flex-wrap:wrap;\n",
              "      gap: 12px;\n",
              "    }\n",
              "\n",
              "    .colab-df-convert {\n",
              "      background-color: #E8F0FE;\n",
              "      border: none;\n",
              "      border-radius: 50%;\n",
              "      cursor: pointer;\n",
              "      display: none;\n",
              "      fill: #1967D2;\n",
              "      height: 32px;\n",
              "      padding: 0 0 0 0;\n",
              "      width: 32px;\n",
              "    }\n",
              "\n",
              "    .colab-df-convert:hover {\n",
              "      background-color: #E2EBFA;\n",
              "      box-shadow: 0px 1px 2px rgba(60, 64, 67, 0.3), 0px 1px 3px 1px rgba(60, 64, 67, 0.15);\n",
              "      fill: #174EA6;\n",
              "    }\n",
              "\n",
              "    [theme=dark] .colab-df-convert {\n",
              "      background-color: #3B4455;\n",
              "      fill: #D2E3FC;\n",
              "    }\n",
              "\n",
              "    [theme=dark] .colab-df-convert:hover {\n",
              "      background-color: #434B5C;\n",
              "      box-shadow: 0px 1px 3px 1px rgba(0, 0, 0, 0.15);\n",
              "      filter: drop-shadow(0px 1px 2px rgba(0, 0, 0, 0.3));\n",
              "      fill: #FFFFFF;\n",
              "    }\n",
              "  </style>\n",
              "\n",
              "      <script>\n",
              "        const buttonEl =\n",
              "          document.querySelector('#df-e4f35f87-1253-47f3-9fed-17f64f0332b1 button.colab-df-convert');\n",
              "        buttonEl.style.display =\n",
              "          google.colab.kernel.accessAllowed ? 'block' : 'none';\n",
              "\n",
              "        async function convertToInteractive(key) {\n",
              "          const element = document.querySelector('#df-e4f35f87-1253-47f3-9fed-17f64f0332b1');\n",
              "          const dataTable =\n",
              "            await google.colab.kernel.invokeFunction('convertToInteractive',\n",
              "                                                     [key], {});\n",
              "          if (!dataTable) return;\n",
              "\n",
              "          const docLinkHtml = 'Like what you see? Visit the ' +\n",
              "            '<a target=\"_blank\" href=https://colab.research.google.com/notebooks/data_table.ipynb>data table notebook</a>'\n",
              "            + ' to learn more about interactive tables.';\n",
              "          element.innerHTML = '';\n",
              "          dataTable['output_type'] = 'display_data';\n",
              "          await google.colab.output.renderOutput(dataTable, element);\n",
              "          const docLink = document.createElement('div');\n",
              "          docLink.innerHTML = docLinkHtml;\n",
              "          element.appendChild(docLink);\n",
              "        }\n",
              "      </script>\n",
              "    </div>\n",
              "  </div>\n",
              "  "
            ]
          },
          "metadata": {},
          "execution_count": 7
        }
      ]
    },
    {
      "cell_type": "code",
      "source": [
        "# check for time range of dataset\n",
        "time_range=pd.Series(pd.to_datetime((df.review_date.sort_values(ascending=False)))).dropna()\n",
        "time_diff=(time_range.iloc[0]-time_range.iloc[-1])\n",
        "print(f'The dataset has a time period from {time_range.iloc[-1].year} to {time_range.iloc[0].year}, in total of {time_diff}.')"
      ],
      "metadata": {
        "colab": {
          "base_uri": "https://localhost:8080/"
        },
        "id": "Q2NjagJoWVl_",
        "outputId": "aabff1b2-ed3f-41aa-a750-52ce1b39005e"
      },
      "execution_count": 8,
      "outputs": [
        {
          "output_type": "stream",
          "name": "stdout",
          "text": [
            "The dataset has a time period from 2001 to 2015, in total of 5261 days 00:00:00.\n"
          ]
        }
      ]
    },
    {
      "cell_type": "code",
      "source": [
        "# check dataset size and number of features\n",
        "print(f\"Dataset contians {df.shape[0]} rows and {df.shape[1]} columns\")"
      ],
      "metadata": {
        "colab": {
          "base_uri": "https://localhost:8080/"
        },
        "id": "1vjJS_eieUii",
        "outputId": "68f81b66-32b4-4f38-ab07-fa57f1729464"
      },
      "execution_count": 9,
      "outputs": [
        {
          "output_type": "stream",
          "name": "stdout",
          "text": [
            "Dataset contians 960204 rows and 15 columns\n"
          ]
        }
      ]
    },
    {
      "cell_type": "code",
      "source": [
        "# convert review body column to string datatype\n",
        "df['review_body'] = df['review_body'].astype('str')\n",
        "df.info()"
      ],
      "metadata": {
        "colab": {
          "base_uri": "https://localhost:8080/"
        },
        "id": "nereT_knaiHk",
        "outputId": "19d5d027-f47b-45cf-ac60-084177df29e8"
      },
      "execution_count": 10,
      "outputs": [
        {
          "output_type": "stream",
          "name": "stdout",
          "text": [
            "<class 'pandas.core.frame.DataFrame'>\n",
            "RangeIndex: 960204 entries, 0 to 960203\n",
            "Data columns (total 15 columns):\n",
            " #   Column             Non-Null Count   Dtype \n",
            "---  ------             --------------   ----- \n",
            " 0   marketplace        960204 non-null  object\n",
            " 1   customer_id        960204 non-null  int64 \n",
            " 2   review_id          960204 non-null  object\n",
            " 3   product_id         960204 non-null  object\n",
            " 4   product_parent     960204 non-null  int64 \n",
            " 5   product_title      960202 non-null  object\n",
            " 6   product_category   960204 non-null  object\n",
            " 7   star_rating        960204 non-null  int64 \n",
            " 8   helpful_votes      960204 non-null  int64 \n",
            " 9   total_votes        960204 non-null  int64 \n",
            " 10  vine               960204 non-null  object\n",
            " 11  verified_purchase  960204 non-null  object\n",
            " 12  review_headline    960197 non-null  object\n",
            " 13  review_body        960204 non-null  object\n",
            " 14  review_date        960200 non-null  object\n",
            "dtypes: int64(5), object(10)\n",
            "memory usage: 109.9+ MB\n"
          ]
        }
      ]
    },
    {
      "cell_type": "markdown",
      "source": [
        "**Building Up Text Corpus**"
      ],
      "metadata": {
        "id": "ZRcsU7R8FpZQ"
      }
    },
    {
      "cell_type": "code",
      "source": [
        "# filter() --> use to filter data from the dataset\n",
        "# finding missing values\n",
        "df['review_id'].isnull().sum()\n"
      ],
      "metadata": {
        "id": "m5QyB4jKldvg",
        "colab": {
          "base_uri": "https://localhost:8080/"
        },
        "outputId": "723295af-fae1-4804-ef90-77632a2cc568"
      },
      "execution_count": 11,
      "outputs": [
        {
          "output_type": "execute_result",
          "data": {
            "text/plain": [
              "0"
            ]
          },
          "metadata": {},
          "execution_count": 11
        }
      ]
    },
    {
      "cell_type": "markdown",
      "source": [
        "Considering only those popular products which have more than 300 reviews "
      ],
      "metadata": {
        "id": "Ge0vm7cOHBpA"
      }
    },
    {
      "cell_type": "code",
      "source": [
        "# finding popular products using group by and filtering data where reviews > 300\n",
        "popular_products = df.groupby(df['product_id']).filter(lambda x: x['review_id'].count()>=300)\n",
        "print(f'Number of datapoints matching the criteria is: {len(popular_products)}')\n",
        "data = pd.DataFrame(popular_products)\n",
        "# check null values for the new dataset\n",
        "popular_products.isnull().sum()"
      ],
      "metadata": {
        "id": "d3pXPl0RFlAy",
        "colab": {
          "base_uri": "https://localhost:8080/"
        },
        "outputId": "ae1a5b9b-1046-4bce-9a93-a4efc4984264"
      },
      "execution_count": 12,
      "outputs": [
        {
          "output_type": "stream",
          "name": "stdout",
          "text": [
            "Number of datapoints matching the criteria is: 132407\n"
          ]
        },
        {
          "output_type": "execute_result",
          "data": {
            "text/plain": [
              "marketplace          0\n",
              "customer_id          0\n",
              "review_id            0\n",
              "product_id           0\n",
              "product_parent       0\n",
              "product_title        0\n",
              "product_category     0\n",
              "star_rating          0\n",
              "helpful_votes        0\n",
              "total_votes          0\n",
              "vine                 0\n",
              "verified_purchase    0\n",
              "review_headline      0\n",
              "review_body          0\n",
              "review_date          0\n",
              "dtype: int64"
            ]
          },
          "metadata": {},
          "execution_count": 12
        }
      ]
    },
    {
      "cell_type": "markdown",
      "source": [
        "**Text Preprocessing**"
      ],
      "metadata": {
        "id": "2kc8zs4eJwK_"
      }
    },
    {
      "cell_type": "markdown",
      "source": [
        "**Text preprocessing/cleaning steps:**\n",
        "Lower Casing\n",
        "The idea is to convert the input text into same casing format so that 'text', 'Text' and 'TEXT' are treated the same way.\n",
        "Pros: More helpful for text featurization like frequency, TF-IDF as it reducing the duplicates.\n",
        "Cons: May not be helpful in sentiment analysis when upper cases often refers to anger.\n",
        "\n",
        "\n",
        "**Removal of Punctuation**\n",
        "The string.punctuation in Python contains the following punctuations:\n",
        "!\"#$%&'()*+,-./:;<=>?@[\\]^_{|}~`\n",
        "\n",
        "\n",
        "Removal of Stopwords **bold text**\n",
        "The commonly occuring words in a language that doesn't provides valuable information.\n",
        "\n",
        "\n",
        "Stemming **bold text**\n",
        "Convert words to it's word stem, base or root. Porter Stemmer is for English language. If we are working with other languages, we can use snowball stemmer.\n",
        "\n",
        "\n",
        "Lemmatization **bold text**\n",
        "Convert the word to it's original form based on its context, slower but more linguistic revalent.\n",
        "NLTK, Stanford, Bitext Lemmatizer available.\n",
        "\n",
        "\n",
        "**Removal of emojis**\n",
        "For social media text corpuses, an explosion usage of emoji should also be taken care of. Functions credit to this repo.\n",
        "For sentiment analysis or similar purposes, the emotion delivered from emojis are unnegligible, and thanks to this repo, we can make use this dictionary to conver the emojis to corresponding words.\n",
        "For this project's purposes, since the data ends in 2015 and not as abundant emojis are available by then, we can skip this part of preprocessing.\n",
        "\n",
        "\n",
        "**Removal of URLs**\n",
        "When doing Twitter/Reddit analysis, there's good chance of having URLs present in data, we might need to remove it for analysis.\n",
        "\n",
        "\n",
        "Removal of HTML tags\n",
        "When data is scrapped from websites, we might end up having html strings as part of the text. Can remove it by using Regex or a more elegant way of using BeautifulSoup."
      ],
      "metadata": {
        "id": "TNa-7Xwn4rb9"
      }
    },
    {
      "cell_type": "markdown",
      "source": [
        "Stemming"
      ],
      "metadata": {
        "id": "5qHTj3p9o7Qz"
      }
    },
    {
      "cell_type": "code",
      "source": [
        "def clean_text_stemming(var):\n",
        "    \"\"\"\n",
        "    Function for text preprocessing with Poter Stemming.\n",
        "    \"\"\"\n",
        "    sw = set(stopwords.words('english'))\n",
        "    ps = PorterStemmer() \n",
        "\n",
        "    # tokenize the word using nltk  \n",
        "    my_text = nltk.word_tokenize(var)\n",
        "    \n",
        "    # remove not english characters, lower case and remove the white space at end \n",
        "    my_text = re.sub('[^A-Za-z0-9]+', \" \", var).lower().strip()\n",
        "\n",
        "    # remove the stop words \n",
        "    my_text = [word for word in my_text.split() if word not in sw]\n",
        "\n",
        "    # stemming\n",
        "    my_text = [ps.stem(word) for word in my_text]\n",
        "\n",
        "    # removal of URLs\n",
        "    url_pattern = re.compile(r'https?://\\S+|www\\.\\S+')\n",
        "    my_text = url_pattern.sub(r'', ' '.join(my_text))\n",
        "\n",
        "    # removal of HTML Tags\n",
        "    my_text = BeautifulSoup(my_text, \"lxml\").text\n",
        "\n",
        "    # convert the text to list as the vectorized words  \n",
        "    my_text = my_text.split(\" \")\n",
        "    \n",
        "    return my_text"
      ],
      "metadata": {
        "id": "4T4zA_GK4sK0"
      },
      "execution_count": 19,
      "outputs": []
    },
    {
      "cell_type": "code",
      "source": [
        "a = data['review_body'][50:60]\n",
        "a.apply(lambda x: clean_text_stemming(x))"
      ],
      "metadata": {
        "colab": {
          "base_uri": "https://localhost:8080/"
        },
        "id": "T7jMm614E-1s",
        "outputId": "55ad125e-9a76-4708-9313-7a5786a1310a"
      },
      "execution_count": 20,
      "outputs": [
        {
          "output_type": "execute_result",
          "data": {
            "text/plain": [
              "375                [love, comfort, feel, weak, bracelet]\n",
              "377                                       [excel, watch]\n",
              "382          [exactli, need, want, awesom, great, price]\n",
              "398    [seem, cheap, watch, accur, time, keep, possib...\n",
              "400    [ok, watch, day, easili, say, best, cheapli, p...\n",
              "409      [excel, son, love, want, swim, yet, pass, test]\n",
              "450                                       [pretti, good]\n",
              "453    [great, watch, great, water, resist, substanti...\n",
              "497                                         [niec, love]\n",
              "513    [recommend, watch, high, qualiti, perform, adv...\n",
              "Name: review_body, dtype: object"
            ]
          },
          "metadata": {},
          "execution_count": 20
        }
      ]
    },
    {
      "cell_type": "markdown",
      "source": [
        "Lemmatization"
      ],
      "metadata": {
        "id": "mm5yp8MRo9qD"
      }
    },
    {
      "cell_type": "code",
      "source": [
        "def clean_text_lemma(var):\n",
        "    \"\"\"\n",
        "    Function for text preprocessing with Lemmatizing with POS tag.\n",
        "    \"\"\"\n",
        "    sw = set(stopwords.words('english'))\n",
        "    lemmatizer = WordNetLemmatizer()\n",
        "    wordnet_map = {\"N\": wordnet.NOUN,\"V\":wordnet.VERB, \"J\":wordnet.ADJ, \"R\":wordnet.ADV}\n",
        "    \n",
        "    # tokenize the word using nltk  \n",
        "    my_text = nltk.word_tokenize(var)\n",
        "    \n",
        "    # remove not english characters, lower case and split the text \n",
        "    my_text = re.sub('[^A-Za-z0-9]+', \" \", var).lower().strip() \n",
        "\n",
        "    # remove the stop words \n",
        "    my_text = [word for word in my_text.split() if word not in sw]\n",
        "\n",
        "    # lemmatizing \n",
        "    pos_tagged_text = nltk.pos_tag(my_text) \n",
        "    my_text = \" \".join([lemmatizer.lemmatize(word, wordnet_map.get(pos[0], wordnet.NOUN)) for word, pos in pos_tagged_text])\n",
        "\n",
        "    # removal of URLs\n",
        "    url_pattern = re.compile(r'https?://\\S+|www\\.\\S+')\n",
        "    my_text = url_pattern.sub(r'', my_text)\n",
        "\n",
        "    # removal of HTML Tags\n",
        "    my_text = BeautifulSoup(my_text, \"lxml\").text\n",
        "\n",
        "    # convert the text to list as the vectorized words  \n",
        "    my_text = my_text.split(\" \")\n",
        "\n",
        "    return my_text"
      ],
      "metadata": {
        "id": "vuRUx2RlpCGS"
      },
      "execution_count": 21,
      "outputs": []
    },
    {
      "cell_type": "code",
      "source": [
        "b = data['review_body'][50:60]\n",
        "b.apply(lambda var: clean_text_lemma(var))"
      ],
      "metadata": {
        "colab": {
          "base_uri": "https://localhost:8080/"
        },
        "id": "CrlUSBNspSTd",
        "outputId": "143ae379-a882-4bda-c959-2c5d11410055"
      },
      "execution_count": 28,
      "outputs": [
        {
          "output_type": "execute_result",
          "data": {
            "text/plain": [
              "375            [love, comfortable, feel, weak, bracelet]\n",
              "377                                   [excellent, watch]\n",
              "382         [exactly, need, want, awesome, great, price]\n",
              "398    [seem, cheap, watch, accurate, time, keep, pos...\n",
              "400    [ok, watch, day, easily, say, best, cheaply, p...\n",
              "409    [excellent, son, love, want, swim, yet, pass, ...\n",
              "450                                       [pretty, good]\n",
              "453    [great, watch, great, water, resistance, subst...\n",
              "497                                        [niece, love]\n",
              "513    [recommend, watch, high, quality, perform, adv...\n",
              "Name: review_body, dtype: object"
            ]
          },
          "metadata": {},
          "execution_count": 28
        }
      ]
    },
    {
      "cell_type": "markdown",
      "source": [
        "TF-IDF Tokenization"
      ],
      "metadata": {
        "id": "DIF_X5TVdsMu"
      }
    },
    {
      "cell_type": "code",
      "source": [
        "tfidf_model = TfidfVectorizer(max_df=0.99,\n",
        "                max_features=1000,\n",
        "                min_df = 0.01,\n",
        "                stop_words='english',\n",
        "                use_idf=True,\n",
        "                tokenizer=clean_text_lemma,\n",
        "                ngram_range=(1,3))\n",
        "\n",
        "tfidf_matrix = tfidf_model.fit_transform(data['review_body'])\n",
        "print(f\"In total there are {tfidf_matrix.shape[0]} review and {tfidf_matrix.shape[1]} terms\")\n",
        "\n"
      ],
      "metadata": {
        "id": "p5-k9FdFFCar",
        "colab": {
          "base_uri": "https://localhost:8080/"
        },
        "outputId": "5d56e77f-29ea-466e-849d-a8edaa08b167"
      },
      "execution_count": 29,
      "outputs": [
        {
          "output_type": "stream",
          "name": "stdout",
          "text": [
            "In total there are 132407 review and 386 terms\n"
          ]
        }
      ]
    },
    {
      "cell_type": "code",
      "source": [
        "# save the terms identified by TF-IDF and have a look \n",
        "tf_selected_words = tfidf_model.get_feature_names_out()\n",
        "\n",
        "# print out word snippet \n",
        "tf_selected_words[380:]"
      ],
      "metadata": {
        "colab": {
          "base_uri": "https://localhost:8080/"
        },
        "id": "UpZnetGNi_J3",
        "outputId": "7b783167-f06a-49d5-86e0-a5cd9457d035"
      },
      "execution_count": 31,
      "outputs": [
        {
          "output_type": "execute_result",
          "data": {
            "text/plain": [
              "array(['wrist', 'wrong', 'year', 'year ago', 'year old', 'zone'],\n",
              "      dtype=object)"
            ]
          },
          "metadata": {},
          "execution_count": 31
        }
      ]
    },
    {
      "cell_type": "code",
      "source": [
        "tfidf_matrix.todense()"
      ],
      "metadata": {
        "colab": {
          "base_uri": "https://localhost:8080/"
        },
        "id": "spH7Fnr1tdN2",
        "outputId": "e9d7e6ef-6370-4f21-fecb-906c9cd2ed68"
      },
      "execution_count": 32,
      "outputs": [
        {
          "output_type": "execute_result",
          "data": {
            "text/plain": [
              "matrix([[0.        , 0.        , 0.        , ..., 0.        , 0.        ,\n",
              "         0.        ],\n",
              "        [0.        , 0.        , 0.        , ..., 0.        , 0.        ,\n",
              "         0.        ],\n",
              "        [0.        , 0.        , 0.        , ..., 0.        , 0.        ,\n",
              "         0.        ],\n",
              "        ...,\n",
              "        [0.        , 0.        , 0.        , ..., 0.        , 0.26266533,\n",
              "         0.        ],\n",
              "        [0.        , 0.        , 0.        , ..., 0.        , 0.        ,\n",
              "         0.        ],\n",
              "        [0.        , 0.        , 0.        , ..., 0.        , 0.        ,\n",
              "         0.        ]])"
            ]
          },
          "metadata": {},
          "execution_count": 32
        }
      ]
    },
    {
      "cell_type": "code",
      "source": [],
      "metadata": {
        "id": "QZ_X9bpStrtT"
      },
      "execution_count": null,
      "outputs": []
    }
  ]
}