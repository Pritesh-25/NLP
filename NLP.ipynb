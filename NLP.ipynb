{
  "nbformat": 4,
  "nbformat_minor": 0,
  "metadata": {
    "colab": {
      "provenance": [],
      "authorship_tag": "ABX9TyPUcnwI137OuJUDXE0K1Hzu"
    },
    "kernelspec": {
      "name": "python3",
      "display_name": "Python 3"
    },
    "language_info": {
      "name": "python"
    }
  },
  "cells": [
    {
      "cell_type": "markdown",
      "source": [
        "Bag of words\n"
      ],
      "metadata": {
        "id": "_7cfzDVonBuX"
      }
    },
    {
      "cell_type": "code",
      "source": [
        "#Part 1 Declaring all documents and assigning to a document\n",
        "document1=\"This is my code on bag of words.\"\n",
        "document2=\"Bag of words is a NLP technique.\"\n",
        "document3=\"I will explain it to you in a simple way\""
      ],
      "metadata": {
        "id": "2QEBwYksnDkt"
      },
      "execution_count": 20,
      "outputs": []
    },
    {
      "cell_type": "code",
      "source": [
        "# Importing libraries and intializing CountVectorizer\n",
        "from sklearn.feature_extraction.text import CountVectorizer"
      ],
      "metadata": {
        "id": "jRMNG_bOnKo1"
      },
      "execution_count": 3,
      "outputs": []
    },
    {
      "cell_type": "code",
      "source": [
        "Doc=[document1,document2,document3]\n",
        "# Doc=[document1]"
      ],
      "metadata": {
        "id": "t0dU2liXnj2i"
      },
      "execution_count": 6,
      "outputs": []
    },
    {
      "cell_type": "code",
      "source": [
        "#Initializing CountVectorizer from sklearn\n",
        "vectorizer = CountVectorizer(stop_words='english')"
      ],
      "metadata": {
        "id": "qF_vk4smo1ed"
      },
      "execution_count": 5,
      "outputs": []
    },
    {
      "cell_type": "code",
      "source": [
        "# Getting feature names of final words that we will use to tag this document\n",
        "X = vectorizer.fit_transform(Doc)\n",
        "\n",
        "analyze = vectorizer.build_analyzer()\n",
        "\n",
        "doc1 = analyze(document1)\n",
        "\n",
        "doc2 = analyze(document2)\n",
        "\n",
        "doc3 = analyze(document3)\n",
        "\n"
      ],
      "metadata": {
        "id": "5jsDhTkao43-"
      },
      "execution_count": 9,
      "outputs": []
    },
    {
      "cell_type": "code",
      "source": [
        "doc1,doc2,doc3"
      ],
      "metadata": {
        "colab": {
          "base_uri": "https://localhost:8080/"
        },
        "id": "eFGFOB89pBjN",
        "outputId": "1aa99917-56b0-4bc5-df8b-77b565f1ad43"
      },
      "execution_count": 15,
      "outputs": [
        {
          "output_type": "execute_result",
          "data": {
            "text/plain": [
              "(['code', 'bag', 'words'],\n",
              " ['bag', 'words', 'nlp', 'technique'],\n",
              " ['explain', 'simple', 'way'])"
            ]
          },
          "metadata": {},
          "execution_count": 15
        }
      ]
    },
    {
      "cell_type": "code",
      "source": [
        "# vectorization\n",
        "vec1 = vectorizer.transform([document1]).toarray()\n",
        "\n",
        "vec2 = vectorizer.transform([document2]).toarray()\n",
        "\n",
        "vec3 = vectorizer.transform([document3]).toarray()"
      ],
      "metadata": {
        "id": "M8910fFDp4j4"
      },
      "execution_count": 23,
      "outputs": []
    },
    {
      "cell_type": "code",
      "source": [
        "vec1,vec2,vec3"
      ],
      "metadata": {
        "colab": {
          "base_uri": "https://localhost:8080/"
        },
        "id": "gl2XevxEqKM5",
        "outputId": "5d4972ee-cc93-4cdf-c240-b01f8932cc06"
      },
      "execution_count": 24,
      "outputs": [
        {
          "output_type": "execute_result",
          "data": {
            "text/plain": [
              "(array([[1, 1, 0, 0, 0, 0, 0, 1]]),\n",
              " array([[1, 0, 0, 1, 0, 1, 0, 1]]),\n",
              " array([[0, 0, 1, 0, 1, 0, 1, 0]]))"
            ]
          },
          "metadata": {},
          "execution_count": 24
        }
      ]
    },
    {
      "cell_type": "code",
      "source": [
        "# feature names\n",
        "print(vectorizer.get_feature_names_out())"
      ],
      "metadata": {
        "colab": {
          "base_uri": "https://localhost:8080/"
        },
        "id": "wH3HvM6bq2Bv",
        "outputId": "878c9eeb-fc3c-4f7b-bd40-5476fa1c5470"
      },
      "execution_count": 26,
      "outputs": [
        {
          "output_type": "stream",
          "name": "stdout",
          "text": [
            "['bag' 'code' 'explain' 'nlp' 'simple' 'technique' 'way' 'words']\n"
          ]
        }
      ]
    },
    {
      "cell_type": "code",
      "source": [
        "# Vectorizing or creating a matrix of all three documents\n",
        "print(X.toarray())"
      ],
      "metadata": {
        "colab": {
          "base_uri": "https://localhost:8080/"
        },
        "id": "97maX7VqrDFT",
        "outputId": "cf2b64c3-e805-4bc1-c170-7174c4a10a55"
      },
      "execution_count": 27,
      "outputs": [
        {
          "output_type": "stream",
          "name": "stdout",
          "text": [
            "[[1 1 0 0 0 0 0 1]\n",
            " [1 0 0 1 0 1 0 1]\n",
            " [0 0 1 0 1 0 1 0]]\n"
          ]
        }
      ]
    },
    {
      "cell_type": "code",
      "source": [],
      "metadata": {
        "id": "-qPNhfnMrRdA"
      },
      "execution_count": null,
      "outputs": []
    }
  ]
}