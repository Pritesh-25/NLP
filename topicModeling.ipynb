{
 "cells": [
  {
   "cell_type": "code",
   "execution_count": 1,
   "id": "0eeca890-1734-4cfa-8f7c-9f4235d89c48",
   "metadata": {
    "execution": {
     "iopub.execute_input": "2023-09-21T13:00:36.446562Z",
     "iopub.status.busy": "2023-09-21T13:00:36.446562Z",
     "iopub.status.idle": "2023-09-21T13:00:36.466069Z",
     "shell.execute_reply": "2023-09-21T13:00:36.465071Z",
     "shell.execute_reply.started": "2023-09-21T13:00:36.446562Z"
    }
   },
   "outputs": [],
   "source": [
    "# pip install pyldavis"
   ]
  },
  {
   "cell_type": "code",
   "execution_count": 55,
   "id": "e2f47d1f-6f2d-450b-96dc-fc9de4e1fc31",
   "metadata": {
    "execution": {
     "iopub.execute_input": "2023-09-21T17:43:46.228116Z",
     "iopub.status.busy": "2023-09-21T17:43:46.228116Z",
     "iopub.status.idle": "2023-09-21T17:43:46.253998Z",
     "shell.execute_reply": "2023-09-21T17:43:46.253002Z",
     "shell.execute_reply.started": "2023-09-21T17:43:46.228116Z"
    }
   },
   "outputs": [
    {
     "data": {
      "text/plain": [
       "'!\"#$%&\\'()*+,-./:;<=>?@[\\\\]^_`{|}~'"
      ]
     },
     "execution_count": 55,
     "metadata": {},
     "output_type": "execute_result"
    },
    {
     "name": "stdout",
     "output_type": "stream",
     "text": [
      "✔️ Libraries Imported!\n"
     ]
    }
   ],
   "source": [
    "# for data exploration\n",
    "import pandas as pd\n",
    "import numpy as np\n",
    "import datetime as dt \n",
    "\n",
    "# remove warnings \n",
    "import warnings\n",
    "warnings.simplefilter(action='ignore', category=FutureWarning)\n",
    "warnings.filterwarnings(\"ignore\")\n",
    "\n",
    "# for text processing \n",
    "import re\n",
    "import nltk \n",
    "import requests\n",
    "\n",
    "from nltk.corpus import stopwords\n",
    "from nltk.corpus import wordnet\n",
    "from nltk.tokenize import word_tokenize\n",
    "from nltk.stem import WordNetLemmatizer\n",
    "from nltk.stem import PorterStemmer\n",
    "from sklearn.feature_extraction.text import TfidfVectorizer\n",
    "from sklearn.feature_extraction.text import CountVectorizer\n",
    "import string \n",
    "string.punctuation\n",
    "\n",
    "from bs4 import BeautifulSoup\n",
    "# from nltk.sentiment.vader import SentimentIntensityAnalyzer as SIA\n",
    "from wordcloud import WordCloud,STOPWORDS, ImageColorGenerator\n",
    "\n",
    "# gensim for LDA\n",
    "import gensim\n",
    "import gensim.corpora as corpora\n",
    "from gensim.utils import simple_preprocess\n",
    "from gensim.models import CoherenceModel\n",
    "import pyLDAvis\n",
    "import pyLDAvis.gensim\n",
    "\n",
    "# plotting tools\n",
    "import matplotlib.pyplot as plt\n",
    "import seaborn as sns\n",
    "import plotly.express as ex\n",
    "from plotly.subplots import make_subplots\n",
    "\n",
    "import matplotlib.pyplot as plt\n",
    "%matplotlib inline\n",
    "\n",
    "# for word cloud\n",
    "from wordcloud import WordCloud\n",
    "\n",
    "print('✔️ Libraries Imported!')"
   ]
  },
  {
   "cell_type": "code",
   "execution_count": 3,
   "id": "75968421-13ef-4abf-af08-fb49b6487efe",
   "metadata": {
    "execution": {
     "iopub.execute_input": "2023-09-21T13:00:38.293395Z",
     "iopub.status.busy": "2023-09-21T13:00:38.291944Z",
     "iopub.status.idle": "2023-09-21T13:00:38.309680Z",
     "shell.execute_reply": "2023-09-21T13:00:38.308542Z",
     "shell.execute_reply.started": "2023-09-21T13:00:38.293395Z"
    }
   },
   "outputs": [
    {
     "name": "stdout",
     "output_type": "stream",
     "text": [
      "✔️ Magic Env Ready to Roll!\n"
     ]
    }
   ],
   "source": [
    "from IPython.core.interactiveshell import InteractiveShell\n",
    "InteractiveShell.ast_node_interactivity = \"all\"\n",
    "\n",
    "pd.set_option('display.max_columns',None)\n",
    "pd.set_option('display.max_rows',None)\n",
    "pd.set_option('display.min_rows',None)\n",
    "pd.set_option('display.expand_frame_repr',True)\n",
    "pd.set_option('display.max_colwidth', None)\n",
    "\n",
    "print('✔️ Magic Env Ready to Roll!')"
   ]
  },
  {
   "cell_type": "code",
   "execution_count": 4,
   "id": "647792b7-9ae2-48f4-8c0d-ba5e4c9b819b",
   "metadata": {
    "execution": {
     "iopub.execute_input": "2023-09-21T13:00:38.309680Z",
     "iopub.status.busy": "2023-09-21T13:00:38.309680Z",
     "iopub.status.idle": "2023-09-21T13:00:38.320158Z",
     "shell.execute_reply": "2023-09-21T13:00:38.320158Z",
     "shell.execute_reply.started": "2023-09-21T13:00:38.309680Z"
    }
   },
   "outputs": [],
   "source": [
    "url = \"https://www.gartner.com/en/information-technology/insights/trending-topics\""
   ]
  },
  {
   "cell_type": "code",
   "execution_count": 5,
   "id": "b726d187-d22a-499b-a6f2-9b29c335d39e",
   "metadata": {
    "execution": {
     "iopub.execute_input": "2023-09-21T13:00:38.321995Z",
     "iopub.status.busy": "2023-09-21T13:00:38.321995Z",
     "iopub.status.idle": "2023-09-21T13:00:38.625876Z",
     "shell.execute_reply": "2023-09-21T13:00:38.625189Z",
     "shell.execute_reply.started": "2023-09-21T13:00:38.321995Z"
    }
   },
   "outputs": [],
   "source": [
    "response = requests.get(url)"
   ]
  },
  {
   "cell_type": "code",
   "execution_count": 6,
   "id": "0956f039-e9a5-4c80-a3c8-1dff7a7ffeb4",
   "metadata": {
    "execution": {
     "iopub.execute_input": "2023-09-21T13:00:38.628234Z",
     "iopub.status.busy": "2023-09-21T13:00:38.626915Z",
     "iopub.status.idle": "2023-09-21T13:00:38.733089Z",
     "shell.execute_reply": "2023-09-21T13:00:38.732580Z",
     "shell.execute_reply.started": "2023-09-21T13:00:38.628234Z"
    }
   },
   "outputs": [
    {
     "name": "stdout",
     "output_type": "stream",
     "text": [
      "<!DOCTYPE HTML>\n",
      "\n",
      "<html lang=\"en\">\n",
      "<head>\n",
      "<meta content=\"IE=edge,chrome=1\" http-equiv=\"X-UA-Compatible\"/>\n",
      "<meta charset=\"utf-8\"/>\n",
      "<meta content=\"width=device-width, initial-scale=1, maximum-scale=1\" name=\"viewport\"/>\n",
      "<title>Trending Topics for IT (Information Technology) Leaders | Gartner</title>\n",
      "<meta content=\"Information Technology,Insights Hub\" name=\"keywords\"/>\n",
      "<meta content=\"Data analytics, AI, IoT, cybersecurity, cloud computing, and blockchain technology will be among the top trending tech\n"
     ]
    }
   ],
   "source": [
    "soup = BeautifulSoup(response.text,'html.parser')\n",
    "parsed_html = str(soup)\n",
    "truncated_html = parsed_html[:500]  # Display the first 500 characters\n",
    "print(truncated_html)"
   ]
  },
  {
   "cell_type": "code",
   "execution_count": 7,
   "id": "f63f5064-9749-423a-b6ea-6bf385ba8c3d",
   "metadata": {
    "execution": {
     "iopub.execute_input": "2023-09-21T13:00:38.735594Z",
     "iopub.status.busy": "2023-09-21T13:00:38.735085Z",
     "iopub.status.idle": "2023-09-21T13:00:38.747887Z",
     "shell.execute_reply": "2023-09-21T13:00:38.747887Z",
     "shell.execute_reply.started": "2023-09-21T13:00:38.735594Z"
    }
   },
   "outputs": [],
   "source": [
    "# display entire parsed data\n",
    "# print(soup.prettify())"
   ]
  },
  {
   "cell_type": "code",
   "execution_count": 8,
   "id": "8b838416-54c5-4f51-8267-ca1bfdde622b",
   "metadata": {
    "execution": {
     "iopub.execute_input": "2023-09-21T13:00:38.749887Z",
     "iopub.status.busy": "2023-09-21T13:00:38.748891Z",
     "iopub.status.idle": "2023-09-21T13:00:38.775229Z",
     "shell.execute_reply": "2023-09-21T13:00:38.774532Z",
     "shell.execute_reply.started": "2023-09-21T13:00:38.749887Z"
    }
   },
   "outputs": [],
   "source": [
    "# Find all the elements with class \"headline\" (which contains the titles)\n",
    "title_elements = soup.find_all('div', class_='headline')\n",
    "# title_elements\n",
    "# Find all the elements with class \"description\" (which contains the descriptions)\n",
    "description_elements = soup.find_all('div', class_='description')\n",
    "# description_elements"
   ]
  },
  {
   "cell_type": "code",
   "execution_count": 9,
   "id": "8d3633cd-2b79-44c6-9144-3b8706490c8c",
   "metadata": {
    "execution": {
     "iopub.execute_input": "2023-09-21T13:00:38.776757Z",
     "iopub.status.busy": "2023-09-21T13:00:38.776248Z",
     "iopub.status.idle": "2023-09-21T13:00:38.792836Z",
     "shell.execute_reply": "2023-09-21T13:00:38.792836Z",
     "shell.execute_reply.started": "2023-09-21T13:00:38.776248Z"
    }
   },
   "outputs": [
    {
     "data": {
      "text/plain": [
       "'What Generative AI Means for Business'"
      ]
     },
     "execution_count": 9,
     "metadata": {},
     "output_type": "execute_result"
    },
    {
     "data": {
      "text/plain": [
       "'An executive’s guide to understanding, implementing and planning for the future of GenAI'"
      ]
     },
     "execution_count": 9,
     "metadata": {},
     "output_type": "execute_result"
    }
   ],
   "source": [
    "title = title_elements[0].find('h4',class_='h4').text.lstrip()\n",
    "title\n",
    "description = description_elements[0].find('p', class_='p-short').text.strip()\n",
    "description"
   ]
  },
  {
   "cell_type": "code",
   "execution_count": 10,
   "id": "9b731fb4-a8cf-4ba3-91f4-5a07488977b0",
   "metadata": {
    "execution": {
     "iopub.execute_input": "2023-09-21T13:00:38.794084Z",
     "iopub.status.busy": "2023-09-21T13:00:38.794084Z",
     "iopub.status.idle": "2023-09-21T13:00:38.807602Z",
     "shell.execute_reply": "2023-09-21T13:00:38.807602Z",
     "shell.execute_reply.started": "2023-09-21T13:00:38.794084Z"
    }
   },
   "outputs": [],
   "source": [
    "data = []\n",
    "for title_elem,desc_elem in zip(title_elements,description_elements):\n",
    "    title = title_elem.find('h4',class_='h4').text.lstrip()\n",
    "    description = desc_elem.find('p', class_='p-short').text.strip()\n",
    "    # print(f\"Title: {title}\")\n",
    "    # print(f\"Description: {description}\")\n",
    "    # print()  # Add a separator between each title-description pair\n",
    "    data.append({'Title': title, 'Description': description})\n",
    "trend_data = pd.DataFrame(data)\n",
    "# trend_data"
   ]
  },
  {
   "cell_type": "code",
   "execution_count": 11,
   "id": "83c574d8-de31-4769-9c58-9f263684df0f",
   "metadata": {
    "execution": {
     "iopub.execute_input": "2023-09-21T13:00:38.809796Z",
     "iopub.status.busy": "2023-09-21T13:00:38.809266Z",
     "iopub.status.idle": "2023-09-21T13:00:38.819929Z",
     "shell.execute_reply": "2023-09-21T13:00:38.818848Z",
     "shell.execute_reply.started": "2023-09-21T13:00:38.809796Z"
    }
   },
   "outputs": [],
   "source": [
    "# trend_data.to_csv('trending_topics.csv',index=False)"
   ]
  },
  {
   "cell_type": "code",
   "execution_count": 12,
   "id": "fe994f16-20eb-4201-90e4-90c02344c9df",
   "metadata": {
    "execution": {
     "iopub.execute_input": "2023-09-21T13:00:38.819929Z",
     "iopub.status.busy": "2023-09-21T13:00:38.819929Z",
     "iopub.status.idle": "2023-09-21T13:00:38.842946Z",
     "shell.execute_reply": "2023-09-21T13:00:38.841929Z",
     "shell.execute_reply.started": "2023-09-21T13:00:38.819929Z"
    }
   },
   "outputs": [
    {
     "data": {
      "text/html": [
       "<div>\n",
       "<style scoped>\n",
       "    .dataframe tbody tr th:only-of-type {\n",
       "        vertical-align: middle;\n",
       "    }\n",
       "\n",
       "    .dataframe tbody tr th {\n",
       "        vertical-align: top;\n",
       "    }\n",
       "\n",
       "    .dataframe thead th {\n",
       "        text-align: right;\n",
       "    }\n",
       "</style>\n",
       "<table border=\"1\" class=\"dataframe\">\n",
       "  <thead>\n",
       "    <tr style=\"text-align: right;\">\n",
       "      <th></th>\n",
       "      <th>title</th>\n",
       "      <th>description</th>\n",
       "      <th>description_length</th>\n",
       "    </tr>\n",
       "  </thead>\n",
       "  <tbody>\n",
       "    <tr>\n",
       "      <th>0</th>\n",
       "      <td>What Generative AI Means for Business</td>\n",
       "      <td>An executive’s guide to understanding, implementing and planning for the future of GenAI</td>\n",
       "      <td>88</td>\n",
       "    </tr>\n",
       "    <tr>\n",
       "      <th>1</th>\n",
       "      <td>Build a Better IT Strategic Plan</td>\n",
       "      <td>Explore here a one-page IT strategy plan template to build a successful IT strategic plan &amp; communicate your strategy effectively. Unlock your IT Strategic plan template now.</td>\n",
       "      <td>174</td>\n",
       "    </tr>\n",
       "    <tr>\n",
       "      <th>2</th>\n",
       "      <td>Use Gartner Cybersecurity Research &amp; Insights to Develop Your Ideal Security Strategy</td>\n",
       "      <td>Use Gartner Cybersecurity Research, tools and insights to build a resilient security strategy and save time on planning and scoping against cybersecurity threats.</td>\n",
       "      <td>162</td>\n",
       "    </tr>\n",
       "    <tr>\n",
       "      <th>3</th>\n",
       "      <td>What Is Artificial Intelligence (AI)</td>\n",
       "      <td>Everything you need to know about artificial intelligence (AI) terms and techniques.</td>\n",
       "      <td>84</td>\n",
       "    </tr>\n",
       "    <tr>\n",
       "      <th>4</th>\n",
       "      <td>Explore The Latest Cloud Computing Technology and Security</td>\n",
       "      <td>Cloud computing forms the foundation for many digital business initiatives. A solid cloud strategy will help maximize the value of your cloud investments.</td>\n",
       "      <td>154</td>\n",
       "    </tr>\n",
       "    <tr>\n",
       "      <th>5</th>\n",
       "      <td>Gartner 2023 Top 10 Strategic Technology Trends</td>\n",
       "      <td>Download the eBook on Gartner Top Strategic Technology Trends and see when and how these 10 trends will drive strategic impact in 2023 and beyond.</td>\n",
       "      <td>146</td>\n",
       "    </tr>\n",
       "    <tr>\n",
       "      <th>6</th>\n",
       "      <td>Use Artificial Intelligence to Grow Your Business Revenue</td>\n",
       "      <td>Gartner's Artificial Intelligence insights help leadership to drive revenue growth and achieve business goals by improving quality, speed, and functionality.</td>\n",
       "      <td>157</td>\n",
       "    </tr>\n",
       "    <tr>\n",
       "      <th>7</th>\n",
       "      <td>Reinvest in Growth with Smarter IT Spending</td>\n",
       "      <td>To maximize cost savings, IT leaders should pursue cost optimization through both function-specific and enterprise-wide programs. Cost optimization is a business-focused, continuous discipline intended to maximize business value while reducing costs.</td>\n",
       "      <td>250</td>\n",
       "    </tr>\n",
       "    <tr>\n",
       "      <th>8</th>\n",
       "      <td>Technology Priorities CIOs Must Address in 2023</td>\n",
       "      <td>The 2023 Gartner CIO Agenda Report outlines the 4 key actions that CIOs can take to accelerate impact. Learn more here.</td>\n",
       "      <td>119</td>\n",
       "    </tr>\n",
       "    <tr>\n",
       "      <th>9</th>\n",
       "      <td>How Data Analytics Help in Making Business Decisions</td>\n",
       "      <td>Data and analytics leaders must create a data-driven culture focused on using enterprise analytics to drive digital transformation and redefine the CX.</td>\n",
       "      <td>151</td>\n",
       "    </tr>\n",
       "    <tr>\n",
       "      <th>10</th>\n",
       "      <td>Digitalization strategy for Business Transformation</td>\n",
       "      <td>The Gartner IT Roadmap for Digital Transformation is based on unbiased research and interactions with thousands of organizations who have successfully implemented digital business transformation initiatives.</td>\n",
       "      <td>207</td>\n",
       "    </tr>\n",
       "    <tr>\n",
       "      <th>11</th>\n",
       "      <td>Digitalization Transforms IT</td>\n",
       "      <td>Digitalization is changing how the business works with IT. Gartner helps you adopt the right IT talent management strategy to drive digital transformation.</td>\n",
       "      <td>155</td>\n",
       "    </tr>\n",
       "    <tr>\n",
       "      <th>12</th>\n",
       "      <td>What Generative AI Means for Business</td>\n",
       "      <td>An executive’s guide to understanding, implementing and planning for the future of GenAI</td>\n",
       "      <td>88</td>\n",
       "    </tr>\n",
       "  </tbody>\n",
       "</table>\n",
       "</div>"
      ],
      "text/plain": [
       "                                                                                    title  \\\n",
       "0                                                   What Generative AI Means for Business   \n",
       "1                                                        Build a Better IT Strategic Plan   \n",
       "2   Use Gartner Cybersecurity Research & Insights to Develop Your Ideal Security Strategy   \n",
       "3                                                    What Is Artificial Intelligence (AI)   \n",
       "4                              Explore The Latest Cloud Computing Technology and Security   \n",
       "5                                         Gartner 2023 Top 10 Strategic Technology Trends   \n",
       "6                               Use Artificial Intelligence to Grow Your Business Revenue   \n",
       "7                                             Reinvest in Growth with Smarter IT Spending   \n",
       "8                                         Technology Priorities CIOs Must Address in 2023   \n",
       "9                                    How Data Analytics Help in Making Business Decisions   \n",
       "10                                    Digitalization strategy for Business Transformation   \n",
       "11                                                           Digitalization Transforms IT   \n",
       "12                                                  What Generative AI Means for Business   \n",
       "\n",
       "                                                                                                                                                                                                                                                   description  \\\n",
       "0                                                                                                                                                                     An executive’s guide to understanding, implementing and planning for the future of GenAI   \n",
       "1                                                                               Explore here a one-page IT strategy plan template to build a successful IT strategic plan & communicate your strategy effectively. Unlock your IT Strategic plan template now.   \n",
       "2                                                                                           Use Gartner Cybersecurity Research, tools and insights to build a resilient security strategy and save time on planning and scoping against cybersecurity threats.   \n",
       "3                                                                                                                                                                         Everything you need to know about artificial intelligence (AI) terms and techniques.   \n",
       "4                                                                                                   Cloud computing forms the foundation for many digital business initiatives. A solid cloud strategy will help maximize the value of your cloud investments.   \n",
       "5                                                                                                           Download the eBook on Gartner Top Strategic Technology Trends and see when and how these 10 trends will drive strategic impact in 2023 and beyond.   \n",
       "6                                                                                                Gartner's Artificial Intelligence insights help leadership to drive revenue growth and achieve business goals by improving quality, speed, and functionality.   \n",
       "7   To maximize cost savings, IT leaders should pursue cost optimization through both function-specific and enterprise-wide programs. Cost optimization is a business-focused, continuous discipline intended to maximize business value while reducing costs.   \n",
       "8                                                                                                                                      The 2023 Gartner CIO Agenda Report outlines the 4 key actions that CIOs can take to accelerate impact. Learn more here.   \n",
       "9                                                                                                      Data and analytics leaders must create a data-driven culture focused on using enterprise analytics to drive digital transformation and redefine the CX.   \n",
       "10                                             The Gartner IT Roadmap for Digital Transformation is based on unbiased research and interactions with thousands of organizations who have successfully implemented digital business transformation initiatives.   \n",
       "11                                                                                                 Digitalization is changing how the business works with IT. Gartner helps you adopt the right IT talent management strategy to drive digital transformation.   \n",
       "12                                                                                                                                                                    An executive’s guide to understanding, implementing and planning for the future of GenAI   \n",
       "\n",
       "    description_length  \n",
       "0                   88  \n",
       "1                  174  \n",
       "2                  162  \n",
       "3                   84  \n",
       "4                  154  \n",
       "5                  146  \n",
       "6                  157  \n",
       "7                  250  \n",
       "8                  119  \n",
       "9                  151  \n",
       "10                 207  \n",
       "11                 155  \n",
       "12                  88  "
      ]
     },
     "execution_count": 12,
     "metadata": {},
     "output_type": "execute_result"
    }
   ],
   "source": [
    "df = trend_data.copy()\n",
    "df.columns = [col.lower() for col in df.columns]\n",
    "df['description_length'] = df['description'].str.len()\n",
    "df"
   ]
  },
  {
   "cell_type": "code",
   "execution_count": 13,
   "id": "280631fe-5445-4dea-8f94-4665e6613696",
   "metadata": {
    "execution": {
     "iopub.execute_input": "2023-09-21T13:00:38.843839Z",
     "iopub.status.busy": "2023-09-21T13:00:38.843839Z",
     "iopub.status.idle": "2023-09-21T13:00:38.847344Z",
     "shell.execute_reply": "2023-09-21T13:00:38.847344Z",
     "shell.execute_reply.started": "2023-09-21T13:00:38.843839Z"
    }
   },
   "outputs": [],
   "source": [
    "# plot distribution of length of characters in data\n",
    "# sns.distplot(df['description_length'],color='red')"
   ]
  },
  {
   "cell_type": "markdown",
   "id": "96ea1f95-7196-406c-9f06-6b9b82d0fc78",
   "metadata": {},
   "source": [
    "---\n",
    "Data Preprocessing\n",
    "---\n",
    "---"
   ]
  },
  {
   "cell_type": "markdown",
   "id": "6f9a07a5-4f90-4c2a-aaa2-726b5407e6da",
   "metadata": {},
   "source": [
    "\n",
    "1. Lower Casing\n",
    "- The idea is to convert the input text into same casing format so that 'text', 'Text' and 'TEXT' are treated the same way.\n",
    "\n",
    "2. Removal of Punctuation\n",
    "- The string.punctuation in Python contains the following punctuations:\n",
    "- !\"#$%&'()*+,-./:;<=>?@[\\]^_{|}~`\n",
    "\n",
    "3. Removal of Stopwords\n",
    "- The commonly occuring words in a language that doesn't provides valuable information.\n",
    "\n",
    "4. Stemming\n",
    "- Convert words to it's word stem, base or root. Porter Stemmer is for English language. If we are working with other languages, we can use snowball stemmer.\n",
    "\n",
    "5. Lemmatization\n",
    "- Convert the word to it's original form based on its context, slower but more linguistic revalent.\n",
    "\n",
    "\n"
   ]
  },
  {
   "cell_type": "code",
   "execution_count": 14,
   "id": "135ed332-b57c-4129-93ce-c12e40cc4a98",
   "metadata": {
    "execution": {
     "iopub.execute_input": "2023-09-21T13:00:38.848670Z",
     "iopub.status.busy": "2023-09-21T13:00:38.848670Z",
     "iopub.status.idle": "2023-09-21T13:00:38.859894Z",
     "shell.execute_reply": "2023-09-21T13:00:38.859894Z",
     "shell.execute_reply.started": "2023-09-21T13:00:38.848670Z"
    }
   },
   "outputs": [],
   "source": [
    "# nltk initialization\n",
    "# Data Preprocessing\n",
    "# nltk.download('stopwords')\n",
    "# nltk.download('wordnet')\n",
    "stopwords = set(nltk.corpus.stopwords.words('english'))\n",
    "lemmatizer = WordNetLemmatizer()  # Initialize the lemmatizer\n",
    "stemmer = PorterStemmer()  # Initialize the stemmer"
   ]
  },
  {
   "cell_type": "markdown",
   "id": "870a232b-83cd-41bb-b52a-b75adc2b104f",
   "metadata": {},
   "source": [
    "The experiment above shows that words are more revelant to their original meaning when lemmatizing is applied. Therefoer we would use the clean_text_lemma function for the whole text transformation.\n",
    "\n",
    "- stemming"
   ]
  },
  {
   "cell_type": "code",
   "execution_count": 15,
   "id": "6cdece0d-149f-4206-b62c-54ed3a6938c9",
   "metadata": {
    "execution": {
     "iopub.execute_input": "2023-09-21T13:00:38.860921Z",
     "iopub.status.busy": "2023-09-21T13:00:38.860921Z",
     "iopub.status.idle": "2023-09-21T13:00:38.876027Z",
     "shell.execute_reply": "2023-09-21T13:00:38.875179Z",
     "shell.execute_reply.started": "2023-09-21T13:00:38.860921Z"
    }
   },
   "outputs": [],
   "source": [
    "def clean_text_stemming(var):\n",
    "    # tokenize sentence\n",
    "    my_text = [ nltk.word_tokenize(word) for word in var]\n",
    "    # remove not english characters, lower case and remove the white apace at end \n",
    "    my_text = re.sub('[^A-Za-z0-9]+', \" \",var).lower().strip()\n",
    "    # remove stopwords\n",
    "    my_text = [word for word in my_text.split() if word not in stopwords]\n",
    "    return my_text\n"
   ]
  },
  {
   "cell_type": "code",
   "execution_count": 16,
   "id": "5518d998-5cea-40b0-b01f-bab77891bf8b",
   "metadata": {
    "execution": {
     "iopub.execute_input": "2023-09-21T13:00:38.876027Z",
     "iopub.status.busy": "2023-09-21T13:00:38.876027Z",
     "iopub.status.idle": "2023-09-21T13:00:38.959708Z",
     "shell.execute_reply": "2023-09-21T13:00:38.958367Z",
     "shell.execute_reply.started": "2023-09-21T13:00:38.876027Z"
    }
   },
   "outputs": [
    {
     "data": {
      "text/plain": [
       "0                                                                                                                                                                [executive, guide, understanding, implementing, planning, future, genai]\n",
       "1                                                                               [explore, one, page, strategy, plan, template, build, successful, strategic, plan, communicate, strategy, effectively, unlock, strategic, plan, template]\n",
       "2                                                                                   [use, gartner, cybersecurity, research, tools, insights, build, resilient, security, strategy, save, time, planning, scoping, cybersecurity, threats]\n",
       "3                                                                                                                                                               [everything, need, know, artificial, intelligence, ai, terms, techniques]\n",
       "4                                                                                          [cloud, computing, forms, foundation, many, digital, business, initiatives, solid, cloud, strategy, help, maximize, value, cloud, investments]\n",
       "5                                                                                                                 [download, ebook, gartner, top, strategic, technology, trends, see, 10, trends, drive, strategic, impact, 2023, beyond]\n",
       "6                                                                             [gartner, artificial, intelligence, insights, help, leadership, drive, revenue, growth, achieve, business, goals, improving, quality, speed, functionality]\n",
       "7     [maximize, cost, savings, leaders, pursue, cost, optimization, function, specific, enterprise, wide, programs, cost, optimization, business, focused, continuous, discipline, intended, maximize, business, value, reducing, costs]\n",
       "8                                                                                                                                  [2023, gartner, cio, agenda, report, outlines, 4, key, actions, cios, take, accelerate, impact, learn]\n",
       "9                                                                                    [data, analytics, leaders, must, create, data, driven, culture, focused, using, enterprise, analytics, drive, digital, transformation, redefine, cx]\n",
       "10                                              [gartner, roadmap, digital, transformation, based, unbiased, research, interactions, thousands, organizations, successfully, implemented, digital, business, transformation, initiatives]\n",
       "11                                                                                                [digitalization, changing, business, works, gartner, helps, adopt, right, talent, management, strategy, drive, digital, transformation]\n",
       "12                                                                                                                                                               [executive, guide, understanding, implementing, planning, future, genai]\n",
       "Name: description, dtype: object"
      ]
     },
     "execution_count": 16,
     "metadata": {},
     "output_type": "execute_result"
    }
   ],
   "source": [
    "a = df['description'].apply(lambda x: clean_text_stemming(x))\n",
    "a"
   ]
  },
  {
   "cell_type": "markdown",
   "id": "ff0644fa-48f1-4fe1-9edd-02f3caff5b53",
   "metadata": {
    "execution": {
     "iopub.execute_input": "2023-09-21T09:19:34.157973Z",
     "iopub.status.busy": "2023-09-21T09:19:34.147429Z",
     "iopub.status.idle": "2023-09-21T09:19:34.176618Z",
     "shell.execute_reply": "2023-09-21T09:19:34.176618Z",
     "shell.execute_reply.started": "2023-09-21T09:19:34.157973Z"
    }
   },
   "source": [
    "Lemmetization"
   ]
  },
  {
   "cell_type": "code",
   "execution_count": 17,
   "id": "dc861852-acce-4932-a019-bdd652d072c5",
   "metadata": {
    "execution": {
     "iopub.execute_input": "2023-09-21T13:00:38.960709Z",
     "iopub.status.busy": "2023-09-21T13:00:38.960709Z",
     "iopub.status.idle": "2023-09-21T13:00:38.973601Z",
     "shell.execute_reply": "2023-09-21T13:00:38.973601Z",
     "shell.execute_reply.started": "2023-09-21T13:00:38.960709Z"
    }
   },
   "outputs": [],
   "source": [
    "def clean_text_lemma(var):\n",
    "    \n",
    "    wordnet_map = {\"N\": wordnet.NOUN,\"V\":wordnet.VERB, \"J\":wordnet.ADJ, \"R\":wordnet.ADV}\n",
    "    # tokenize sentence\n",
    "    my_text = [ nltk.word_tokenize(word) for word in var]\n",
    "    # remove not english characters, lower case and remove the white apace at end \n",
    "    my_text = re.sub('[^A-Za-z0-9]+', \" \",var).lower().strip()\n",
    "    # remove stopwords\n",
    "    my_text = [word for word in my_text.split() if word not in stopwords]\n",
    "    # lemmatizing\n",
    "    pos_tagged_text = nltk.pos_tag(my_text)\n",
    "    lemmatized_tokens = [lemmatizer.lemmatize(token, wordnet_map.get(pos[0], wordnet.NOUN)) for token, pos in pos_tagged_text]\n",
    "    # Join the lemmatized tokens back into a text string\n",
    "    # lemmatized_tokens  = ' '.join(lemmatized_tokens)\n",
    "    \n",
    "    return lemmatized_tokens "
   ]
  },
  {
   "cell_type": "code",
   "execution_count": 18,
   "id": "9a6453ef-6ed9-4a74-baf0-7ef128495500",
   "metadata": {
    "execution": {
     "iopub.execute_input": "2023-09-21T13:00:38.975675Z",
     "iopub.status.busy": "2023-09-21T13:00:38.974598Z",
     "iopub.status.idle": "2023-09-21T13:00:40.186673Z",
     "shell.execute_reply": "2023-09-21T13:00:40.185646Z",
     "shell.execute_reply.started": "2023-09-21T13:00:38.974598Z"
    }
   },
   "outputs": [
    {
     "data": {
      "text/plain": [
       "0                                                                                                                                                              [executive, guide, understand, implement, planning, future, genai]\n",
       "1                                                                       [explore, one, page, strategy, plan, template, build, successful, strategic, plan, communicate, strategy, effectively, unlock, strategic, plan, template]\n",
       "2                                                                                  [use, gartner, cybersecurity, research, tool, insight, build, resilient, security, strategy, save, time, plan, scoping, cybersecurity, threat]\n",
       "3                                                                                                                                                         [everything, need, know, artificial, intelligence, ai, term, technique]\n",
       "4                                                                                       [cloud, compute, form, foundation, many, digital, business, initiative, solid, cloud, strategy, help, maximize, value, cloud, investment]\n",
       "5                                                                                                           [download, ebook, gartner, top, strategic, technology, trend, see, 10, trend, drive, strategic, impact, 2023, beyond]\n",
       "6                                                                         [gartner, artificial, intelligence, insight, help, leadership, drive, revenue, growth, achieve, business, goal, improve, quality, speed, functionality]\n",
       "7     [maximize, cost, saving, leader, pursue, cost, optimization, function, specific, enterprise, wide, program, cost, optimization, business, focus, continuous, discipline, intend, maximize, business, value, reducing, cost]\n",
       "8                                                                                                                             [2023, gartner, cio, agenda, report, outline, 4, key, action, cio, take, accelerate, impact, learn]\n",
       "9                                                                                 [data, analytics, leader, must, create, data, driven, culture, focus, use, enterprise, analytics, drive, digital, transformation, redefine, cx]\n",
       "10                                             [gartner, roadmap, digital, transformation, base, unbiased, research, interaction, thousand, organization, successfully, implement, digital, business, transformation, initiative]\n",
       "11                                                                                            [digitalization, change, business, work, gartner, help, adopt, right, talent, management, strategy, drive, digital, transformation]\n",
       "12                                                                                                                                                             [executive, guide, understand, implement, planning, future, genai]\n",
       "Name: description, dtype: object"
      ]
     },
     "execution_count": 18,
     "metadata": {},
     "output_type": "execute_result"
    }
   ],
   "source": [
    "b = df['description'].apply(lambda x: clean_text_lemma(x))\n",
    "b"
   ]
  },
  {
   "cell_type": "markdown",
   "id": "206d3ab4-7569-4ee1-84e3-ab26006d2f8f",
   "metadata": {
    "execution": {
     "iopub.execute_input": "2023-09-21T09:56:23.321188Z",
     "iopub.status.busy": "2023-09-21T09:56:23.321188Z",
     "iopub.status.idle": "2023-09-21T09:56:23.334976Z",
     "shell.execute_reply": "2023-09-21T09:56:23.334976Z",
     "shell.execute_reply.started": "2023-09-21T09:56:23.321188Z"
    }
   },
   "source": [
    "Observation:\n",
    "- since both stemming & lemma results are same we will go with lema because it is base or dictionary form (lemma), word wherease stemming is obtained by removing prefixes or suffixes from words to obtain a root or stem."
   ]
  },
  {
   "cell_type": "code",
   "execution_count": 19,
   "id": "60bf02d4-ea11-4955-bfc1-e8898a091383",
   "metadata": {
    "execution": {
     "iopub.execute_input": "2023-09-21T13:00:40.186673Z",
     "iopub.status.busy": "2023-09-21T13:00:40.186673Z",
     "iopub.status.idle": "2023-09-21T13:00:40.293360Z",
     "shell.execute_reply": "2023-09-21T13:00:40.291679Z",
     "shell.execute_reply.started": "2023-09-21T13:00:40.186673Z"
    }
   },
   "outputs": [
    {
     "data": {
      "text/html": [
       "<div>\n",
       "<style scoped>\n",
       "    .dataframe tbody tr th:only-of-type {\n",
       "        vertical-align: middle;\n",
       "    }\n",
       "\n",
       "    .dataframe tbody tr th {\n",
       "        vertical-align: top;\n",
       "    }\n",
       "\n",
       "    .dataframe thead th {\n",
       "        text-align: right;\n",
       "    }\n",
       "</style>\n",
       "<table border=\"1\" class=\"dataframe\">\n",
       "  <thead>\n",
       "    <tr style=\"text-align: right;\">\n",
       "      <th></th>\n",
       "      <th>title</th>\n",
       "      <th>description</th>\n",
       "      <th>description_length</th>\n",
       "      <th>lemma_words</th>\n",
       "    </tr>\n",
       "  </thead>\n",
       "  <tbody>\n",
       "    <tr>\n",
       "      <th>0</th>\n",
       "      <td>What Generative AI Means for Business</td>\n",
       "      <td>An executive’s guide to understanding, implementing and planning for the future of GenAI</td>\n",
       "      <td>88</td>\n",
       "      <td>[executive, guide, understand, implement, planning, future, genai]</td>\n",
       "    </tr>\n",
       "    <tr>\n",
       "      <th>1</th>\n",
       "      <td>Build a Better IT Strategic Plan</td>\n",
       "      <td>Explore here a one-page IT strategy plan template to build a successful IT strategic plan &amp; communicate your strategy effectively. Unlock your IT Strategic plan template now.</td>\n",
       "      <td>174</td>\n",
       "      <td>[explore, one, page, strategy, plan, template, build, successful, strategic, plan, communicate, strategy, effectively, unlock, strategic, plan, template]</td>\n",
       "    </tr>\n",
       "    <tr>\n",
       "      <th>2</th>\n",
       "      <td>Use Gartner Cybersecurity Research &amp; Insights to Develop Your Ideal Security Strategy</td>\n",
       "      <td>Use Gartner Cybersecurity Research, tools and insights to build a resilient security strategy and save time on planning and scoping against cybersecurity threats.</td>\n",
       "      <td>162</td>\n",
       "      <td>[use, gartner, cybersecurity, research, tool, insight, build, resilient, security, strategy, save, time, plan, scoping, cybersecurity, threat]</td>\n",
       "    </tr>\n",
       "    <tr>\n",
       "      <th>3</th>\n",
       "      <td>What Is Artificial Intelligence (AI)</td>\n",
       "      <td>Everything you need to know about artificial intelligence (AI) terms and techniques.</td>\n",
       "      <td>84</td>\n",
       "      <td>[everything, need, know, artificial, intelligence, ai, term, technique]</td>\n",
       "    </tr>\n",
       "    <tr>\n",
       "      <th>4</th>\n",
       "      <td>Explore The Latest Cloud Computing Technology and Security</td>\n",
       "      <td>Cloud computing forms the foundation for many digital business initiatives. A solid cloud strategy will help maximize the value of your cloud investments.</td>\n",
       "      <td>154</td>\n",
       "      <td>[cloud, compute, form, foundation, many, digital, business, initiative, solid, cloud, strategy, help, maximize, value, cloud, investment]</td>\n",
       "    </tr>\n",
       "    <tr>\n",
       "      <th>5</th>\n",
       "      <td>Gartner 2023 Top 10 Strategic Technology Trends</td>\n",
       "      <td>Download the eBook on Gartner Top Strategic Technology Trends and see when and how these 10 trends will drive strategic impact in 2023 and beyond.</td>\n",
       "      <td>146</td>\n",
       "      <td>[download, ebook, gartner, top, strategic, technology, trend, see, 10, trend, drive, strategic, impact, 2023, beyond]</td>\n",
       "    </tr>\n",
       "    <tr>\n",
       "      <th>6</th>\n",
       "      <td>Use Artificial Intelligence to Grow Your Business Revenue</td>\n",
       "      <td>Gartner's Artificial Intelligence insights help leadership to drive revenue growth and achieve business goals by improving quality, speed, and functionality.</td>\n",
       "      <td>157</td>\n",
       "      <td>[gartner, artificial, intelligence, insight, help, leadership, drive, revenue, growth, achieve, business, goal, improve, quality, speed, functionality]</td>\n",
       "    </tr>\n",
       "    <tr>\n",
       "      <th>7</th>\n",
       "      <td>Reinvest in Growth with Smarter IT Spending</td>\n",
       "      <td>To maximize cost savings, IT leaders should pursue cost optimization through both function-specific and enterprise-wide programs. Cost optimization is a business-focused, continuous discipline intended to maximize business value while reducing costs.</td>\n",
       "      <td>250</td>\n",
       "      <td>[maximize, cost, saving, leader, pursue, cost, optimization, function, specific, enterprise, wide, program, cost, optimization, business, focus, continuous, discipline, intend, maximize, business, value, reducing, cost]</td>\n",
       "    </tr>\n",
       "    <tr>\n",
       "      <th>8</th>\n",
       "      <td>Technology Priorities CIOs Must Address in 2023</td>\n",
       "      <td>The 2023 Gartner CIO Agenda Report outlines the 4 key actions that CIOs can take to accelerate impact. Learn more here.</td>\n",
       "      <td>119</td>\n",
       "      <td>[2023, gartner, cio, agenda, report, outline, 4, key, action, cio, take, accelerate, impact, learn]</td>\n",
       "    </tr>\n",
       "    <tr>\n",
       "      <th>9</th>\n",
       "      <td>How Data Analytics Help in Making Business Decisions</td>\n",
       "      <td>Data and analytics leaders must create a data-driven culture focused on using enterprise analytics to drive digital transformation and redefine the CX.</td>\n",
       "      <td>151</td>\n",
       "      <td>[data, analytics, leader, must, create, data, driven, culture, focus, use, enterprise, analytics, drive, digital, transformation, redefine, cx]</td>\n",
       "    </tr>\n",
       "    <tr>\n",
       "      <th>10</th>\n",
       "      <td>Digitalization strategy for Business Transformation</td>\n",
       "      <td>The Gartner IT Roadmap for Digital Transformation is based on unbiased research and interactions with thousands of organizations who have successfully implemented digital business transformation initiatives.</td>\n",
       "      <td>207</td>\n",
       "      <td>[gartner, roadmap, digital, transformation, base, unbiased, research, interaction, thousand, organization, successfully, implement, digital, business, transformation, initiative]</td>\n",
       "    </tr>\n",
       "    <tr>\n",
       "      <th>11</th>\n",
       "      <td>Digitalization Transforms IT</td>\n",
       "      <td>Digitalization is changing how the business works with IT. Gartner helps you adopt the right IT talent management strategy to drive digital transformation.</td>\n",
       "      <td>155</td>\n",
       "      <td>[digitalization, change, business, work, gartner, help, adopt, right, talent, management, strategy, drive, digital, transformation]</td>\n",
       "    </tr>\n",
       "    <tr>\n",
       "      <th>12</th>\n",
       "      <td>What Generative AI Means for Business</td>\n",
       "      <td>An executive’s guide to understanding, implementing and planning for the future of GenAI</td>\n",
       "      <td>88</td>\n",
       "      <td>[executive, guide, understand, implement, planning, future, genai]</td>\n",
       "    </tr>\n",
       "  </tbody>\n",
       "</table>\n",
       "</div>"
      ],
      "text/plain": [
       "                                                                                    title  \\\n",
       "0                                                   What Generative AI Means for Business   \n",
       "1                                                        Build a Better IT Strategic Plan   \n",
       "2   Use Gartner Cybersecurity Research & Insights to Develop Your Ideal Security Strategy   \n",
       "3                                                    What Is Artificial Intelligence (AI)   \n",
       "4                              Explore The Latest Cloud Computing Technology and Security   \n",
       "5                                         Gartner 2023 Top 10 Strategic Technology Trends   \n",
       "6                               Use Artificial Intelligence to Grow Your Business Revenue   \n",
       "7                                             Reinvest in Growth with Smarter IT Spending   \n",
       "8                                         Technology Priorities CIOs Must Address in 2023   \n",
       "9                                    How Data Analytics Help in Making Business Decisions   \n",
       "10                                    Digitalization strategy for Business Transformation   \n",
       "11                                                           Digitalization Transforms IT   \n",
       "12                                                  What Generative AI Means for Business   \n",
       "\n",
       "                                                                                                                                                                                                                                                   description  \\\n",
       "0                                                                                                                                                                     An executive’s guide to understanding, implementing and planning for the future of GenAI   \n",
       "1                                                                               Explore here a one-page IT strategy plan template to build a successful IT strategic plan & communicate your strategy effectively. Unlock your IT Strategic plan template now.   \n",
       "2                                                                                           Use Gartner Cybersecurity Research, tools and insights to build a resilient security strategy and save time on planning and scoping against cybersecurity threats.   \n",
       "3                                                                                                                                                                         Everything you need to know about artificial intelligence (AI) terms and techniques.   \n",
       "4                                                                                                   Cloud computing forms the foundation for many digital business initiatives. A solid cloud strategy will help maximize the value of your cloud investments.   \n",
       "5                                                                                                           Download the eBook on Gartner Top Strategic Technology Trends and see when and how these 10 trends will drive strategic impact in 2023 and beyond.   \n",
       "6                                                                                                Gartner's Artificial Intelligence insights help leadership to drive revenue growth and achieve business goals by improving quality, speed, and functionality.   \n",
       "7   To maximize cost savings, IT leaders should pursue cost optimization through both function-specific and enterprise-wide programs. Cost optimization is a business-focused, continuous discipline intended to maximize business value while reducing costs.   \n",
       "8                                                                                                                                      The 2023 Gartner CIO Agenda Report outlines the 4 key actions that CIOs can take to accelerate impact. Learn more here.   \n",
       "9                                                                                                      Data and analytics leaders must create a data-driven culture focused on using enterprise analytics to drive digital transformation and redefine the CX.   \n",
       "10                                             The Gartner IT Roadmap for Digital Transformation is based on unbiased research and interactions with thousands of organizations who have successfully implemented digital business transformation initiatives.   \n",
       "11                                                                                                 Digitalization is changing how the business works with IT. Gartner helps you adopt the right IT talent management strategy to drive digital transformation.   \n",
       "12                                                                                                                                                                    An executive’s guide to understanding, implementing and planning for the future of GenAI   \n",
       "\n",
       "    description_length  \\\n",
       "0                   88   \n",
       "1                  174   \n",
       "2                  162   \n",
       "3                   84   \n",
       "4                  154   \n",
       "5                  146   \n",
       "6                  157   \n",
       "7                  250   \n",
       "8                  119   \n",
       "9                  151   \n",
       "10                 207   \n",
       "11                 155   \n",
       "12                  88   \n",
       "\n",
       "                                                                                                                                                                                                                    lemma_words  \n",
       "0                                                                                                                                                            [executive, guide, understand, implement, planning, future, genai]  \n",
       "1                                                                     [explore, one, page, strategy, plan, template, build, successful, strategic, plan, communicate, strategy, effectively, unlock, strategic, plan, template]  \n",
       "2                                                                                [use, gartner, cybersecurity, research, tool, insight, build, resilient, security, strategy, save, time, plan, scoping, cybersecurity, threat]  \n",
       "3                                                                                                                                                       [everything, need, know, artificial, intelligence, ai, term, technique]  \n",
       "4                                                                                     [cloud, compute, form, foundation, many, digital, business, initiative, solid, cloud, strategy, help, maximize, value, cloud, investment]  \n",
       "5                                                                                                         [download, ebook, gartner, top, strategic, technology, trend, see, 10, trend, drive, strategic, impact, 2023, beyond]  \n",
       "6                                                                       [gartner, artificial, intelligence, insight, help, leadership, drive, revenue, growth, achieve, business, goal, improve, quality, speed, functionality]  \n",
       "7   [maximize, cost, saving, leader, pursue, cost, optimization, function, specific, enterprise, wide, program, cost, optimization, business, focus, continuous, discipline, intend, maximize, business, value, reducing, cost]  \n",
       "8                                                                                                                           [2023, gartner, cio, agenda, report, outline, 4, key, action, cio, take, accelerate, impact, learn]  \n",
       "9                                                                               [data, analytics, leader, must, create, data, driven, culture, focus, use, enterprise, analytics, drive, digital, transformation, redefine, cx]  \n",
       "10                                           [gartner, roadmap, digital, transformation, base, unbiased, research, interaction, thousand, organization, successfully, implement, digital, business, transformation, initiative]  \n",
       "11                                                                                          [digitalization, change, business, work, gartner, help, adopt, right, talent, management, strategy, drive, digital, transformation]  \n",
       "12                                                                                                                                                           [executive, guide, understand, implement, planning, future, genai]  "
      ]
     },
     "execution_count": 19,
     "metadata": {},
     "output_type": "execute_result"
    }
   ],
   "source": [
    "df['lemma_words'] = df['description'].apply(lambda x: clean_text_lemma(x))\n",
    "df"
   ]
  },
  {
   "cell_type": "markdown",
   "id": "423a6d81-fdfd-48e1-a0d7-9bb8a61ad4fc",
   "metadata": {},
   "source": [
    "count vectorization"
   ]
  },
  {
   "cell_type": "code",
   "execution_count": 20,
   "id": "a40d78d6-ac29-4391-83e6-677ad1f1d4e9",
   "metadata": {
    "execution": {
     "iopub.execute_input": "2023-09-21T13:00:40.294367Z",
     "iopub.status.busy": "2023-09-21T13:00:40.294367Z",
     "iopub.status.idle": "2023-09-21T13:00:40.304051Z",
     "shell.execute_reply": "2023-09-21T13:00:40.302888Z",
     "shell.execute_reply.started": "2023-09-21T13:00:40.294367Z"
    }
   },
   "outputs": [],
   "source": [
    "\n",
    "def countVectorizer(var):\n",
    "    # Initialize the CountVectorizer\n",
    "    count_vectorizer = CountVectorizer()\n",
    "    \n",
    "    # Fit and transform the words using CountVectorizer\n",
    "    word_counts = count_vectorizer.fit_transform(var)\n",
    "    \n",
    "    # # Get the vocabulary (unique words)\n",
    "    vocabulary = count_vectorizer.get_feature_names_out()\n",
    "    \n",
    "    # # Sum the word counts for each word in the list\n",
    "    word_counts = word_counts.sum(axis=0)\n",
    "    \n",
    "    # # Create a dictionary to store the word counts\n",
    "    word_count_dict = {word: count for word, count in zip(vocabulary, word_counts.tolist()[0])}\n",
    "\n",
    "    return word_count_dict"
   ]
  },
  {
   "cell_type": "code",
   "execution_count": 21,
   "id": "49e3d86f-b005-4aa9-9332-063a8d5391ae",
   "metadata": {
    "execution": {
     "iopub.execute_input": "2023-09-21T13:00:40.304051Z",
     "iopub.status.busy": "2023-09-21T13:00:40.304051Z",
     "iopub.status.idle": "2023-09-21T13:00:40.334912Z",
     "shell.execute_reply": "2023-09-21T13:00:40.333910Z",
     "shell.execute_reply.started": "2023-09-21T13:00:40.304051Z"
    }
   },
   "outputs": [
    {
     "data": {
      "text/html": [
       "<div>\n",
       "<style scoped>\n",
       "    .dataframe tbody tr th:only-of-type {\n",
       "        vertical-align: middle;\n",
       "    }\n",
       "\n",
       "    .dataframe tbody tr th {\n",
       "        vertical-align: top;\n",
       "    }\n",
       "\n",
       "    .dataframe thead th {\n",
       "        text-align: right;\n",
       "    }\n",
       "</style>\n",
       "<table border=\"1\" class=\"dataframe\">\n",
       "  <thead>\n",
       "    <tr style=\"text-align: right;\">\n",
       "      <th></th>\n",
       "      <th>title</th>\n",
       "      <th>description</th>\n",
       "      <th>description_length</th>\n",
       "      <th>lemma_words</th>\n",
       "      <th>word_freq</th>\n",
       "    </tr>\n",
       "  </thead>\n",
       "  <tbody>\n",
       "    <tr>\n",
       "      <th>0</th>\n",
       "      <td>What Generative AI Means for Business</td>\n",
       "      <td>An executive’s guide to understanding, implementing and planning for the future of GenAI</td>\n",
       "      <td>88</td>\n",
       "      <td>[executive, guide, understand, implement, planning, future, genai]</td>\n",
       "      <td>{'executive': 1, 'future': 1, 'genai': 1, 'guide': 1, 'implement': 1, 'planning': 1, 'understand': 1}</td>\n",
       "    </tr>\n",
       "    <tr>\n",
       "      <th>1</th>\n",
       "      <td>Build a Better IT Strategic Plan</td>\n",
       "      <td>Explore here a one-page IT strategy plan template to build a successful IT strategic plan &amp; communicate your strategy effectively. Unlock your IT Strategic plan template now.</td>\n",
       "      <td>174</td>\n",
       "      <td>[explore, one, page, strategy, plan, template, build, successful, strategic, plan, communicate, strategy, effectively, unlock, strategic, plan, template]</td>\n",
       "      <td>{'build': 1, 'communicate': 1, 'effectively': 1, 'explore': 1, 'one': 1, 'page': 1, 'plan': 3, 'strategic': 2, 'strategy': 2, 'successful': 1, 'template': 2, 'unlock': 1}</td>\n",
       "    </tr>\n",
       "    <tr>\n",
       "      <th>2</th>\n",
       "      <td>Use Gartner Cybersecurity Research &amp; Insights to Develop Your Ideal Security Strategy</td>\n",
       "      <td>Use Gartner Cybersecurity Research, tools and insights to build a resilient security strategy and save time on planning and scoping against cybersecurity threats.</td>\n",
       "      <td>162</td>\n",
       "      <td>[use, gartner, cybersecurity, research, tool, insight, build, resilient, security, strategy, save, time, plan, scoping, cybersecurity, threat]</td>\n",
       "      <td>{'build': 1, 'cybersecurity': 2, 'gartner': 1, 'insight': 1, 'plan': 1, 'research': 1, 'resilient': 1, 'save': 1, 'scoping': 1, 'security': 1, 'strategy': 1, 'threat': 1, 'time': 1, 'tool': 1, 'use': 1}</td>\n",
       "    </tr>\n",
       "    <tr>\n",
       "      <th>3</th>\n",
       "      <td>What Is Artificial Intelligence (AI)</td>\n",
       "      <td>Everything you need to know about artificial intelligence (AI) terms and techniques.</td>\n",
       "      <td>84</td>\n",
       "      <td>[everything, need, know, artificial, intelligence, ai, term, technique]</td>\n",
       "      <td>{'ai': 1, 'artificial': 1, 'everything': 1, 'intelligence': 1, 'know': 1, 'need': 1, 'technique': 1, 'term': 1}</td>\n",
       "    </tr>\n",
       "    <tr>\n",
       "      <th>4</th>\n",
       "      <td>Explore The Latest Cloud Computing Technology and Security</td>\n",
       "      <td>Cloud computing forms the foundation for many digital business initiatives. A solid cloud strategy will help maximize the value of your cloud investments.</td>\n",
       "      <td>154</td>\n",
       "      <td>[cloud, compute, form, foundation, many, digital, business, initiative, solid, cloud, strategy, help, maximize, value, cloud, investment]</td>\n",
       "      <td>{'business': 1, 'cloud': 3, 'compute': 1, 'digital': 1, 'form': 1, 'foundation': 1, 'help': 1, 'initiative': 1, 'investment': 1, 'many': 1, 'maximize': 1, 'solid': 1, 'strategy': 1, 'value': 1}</td>\n",
       "    </tr>\n",
       "    <tr>\n",
       "      <th>5</th>\n",
       "      <td>Gartner 2023 Top 10 Strategic Technology Trends</td>\n",
       "      <td>Download the eBook on Gartner Top Strategic Technology Trends and see when and how these 10 trends will drive strategic impact in 2023 and beyond.</td>\n",
       "      <td>146</td>\n",
       "      <td>[download, ebook, gartner, top, strategic, technology, trend, see, 10, trend, drive, strategic, impact, 2023, beyond]</td>\n",
       "      <td>{'10': 1, '2023': 1, 'beyond': 1, 'download': 1, 'drive': 1, 'ebook': 1, 'gartner': 1, 'impact': 1, 'see': 1, 'strategic': 2, 'technology': 1, 'top': 1, 'trend': 2}</td>\n",
       "    </tr>\n",
       "    <tr>\n",
       "      <th>6</th>\n",
       "      <td>Use Artificial Intelligence to Grow Your Business Revenue</td>\n",
       "      <td>Gartner's Artificial Intelligence insights help leadership to drive revenue growth and achieve business goals by improving quality, speed, and functionality.</td>\n",
       "      <td>157</td>\n",
       "      <td>[gartner, artificial, intelligence, insight, help, leadership, drive, revenue, growth, achieve, business, goal, improve, quality, speed, functionality]</td>\n",
       "      <td>{'achieve': 1, 'artificial': 1, 'business': 1, 'drive': 1, 'functionality': 1, 'gartner': 1, 'goal': 1, 'growth': 1, 'help': 1, 'improve': 1, 'insight': 1, 'intelligence': 1, 'leadership': 1, 'quality': 1, 'revenue': 1, 'speed': 1}</td>\n",
       "    </tr>\n",
       "    <tr>\n",
       "      <th>7</th>\n",
       "      <td>Reinvest in Growth with Smarter IT Spending</td>\n",
       "      <td>To maximize cost savings, IT leaders should pursue cost optimization through both function-specific and enterprise-wide programs. Cost optimization is a business-focused, continuous discipline intended to maximize business value while reducing costs.</td>\n",
       "      <td>250</td>\n",
       "      <td>[maximize, cost, saving, leader, pursue, cost, optimization, function, specific, enterprise, wide, program, cost, optimization, business, focus, continuous, discipline, intend, maximize, business, value, reducing, cost]</td>\n",
       "      <td>{'business': 2, 'continuous': 1, 'cost': 4, 'discipline': 1, 'enterprise': 1, 'focus': 1, 'function': 1, 'intend': 1, 'leader': 1, 'maximize': 2, 'optimization': 2, 'program': 1, 'pursue': 1, 'reducing': 1, 'saving': 1, 'specific': 1, 'value': 1, 'wide': 1}</td>\n",
       "    </tr>\n",
       "    <tr>\n",
       "      <th>8</th>\n",
       "      <td>Technology Priorities CIOs Must Address in 2023</td>\n",
       "      <td>The 2023 Gartner CIO Agenda Report outlines the 4 key actions that CIOs can take to accelerate impact. Learn more here.</td>\n",
       "      <td>119</td>\n",
       "      <td>[2023, gartner, cio, agenda, report, outline, 4, key, action, cio, take, accelerate, impact, learn]</td>\n",
       "      <td>{'2023': 1, 'accelerate': 1, 'action': 1, 'agenda': 1, 'cio': 2, 'gartner': 1, 'impact': 1, 'key': 1, 'learn': 1, 'outline': 1, 'report': 1, 'take': 1}</td>\n",
       "    </tr>\n",
       "    <tr>\n",
       "      <th>9</th>\n",
       "      <td>How Data Analytics Help in Making Business Decisions</td>\n",
       "      <td>Data and analytics leaders must create a data-driven culture focused on using enterprise analytics to drive digital transformation and redefine the CX.</td>\n",
       "      <td>151</td>\n",
       "      <td>[data, analytics, leader, must, create, data, driven, culture, focus, use, enterprise, analytics, drive, digital, transformation, redefine, cx]</td>\n",
       "      <td>{'analytics': 2, 'create': 1, 'culture': 1, 'cx': 1, 'data': 2, 'digital': 1, 'drive': 1, 'driven': 1, 'enterprise': 1, 'focus': 1, 'leader': 1, 'must': 1, 'redefine': 1, 'transformation': 1, 'use': 1}</td>\n",
       "    </tr>\n",
       "    <tr>\n",
       "      <th>10</th>\n",
       "      <td>Digitalization strategy for Business Transformation</td>\n",
       "      <td>The Gartner IT Roadmap for Digital Transformation is based on unbiased research and interactions with thousands of organizations who have successfully implemented digital business transformation initiatives.</td>\n",
       "      <td>207</td>\n",
       "      <td>[gartner, roadmap, digital, transformation, base, unbiased, research, interaction, thousand, organization, successfully, implement, digital, business, transformation, initiative]</td>\n",
       "      <td>{'base': 1, 'business': 1, 'digital': 2, 'gartner': 1, 'implement': 1, 'initiative': 1, 'interaction': 1, 'organization': 1, 'research': 1, 'roadmap': 1, 'successfully': 1, 'thousand': 1, 'transformation': 2, 'unbiased': 1}</td>\n",
       "    </tr>\n",
       "    <tr>\n",
       "      <th>11</th>\n",
       "      <td>Digitalization Transforms IT</td>\n",
       "      <td>Digitalization is changing how the business works with IT. Gartner helps you adopt the right IT talent management strategy to drive digital transformation.</td>\n",
       "      <td>155</td>\n",
       "      <td>[digitalization, change, business, work, gartner, help, adopt, right, talent, management, strategy, drive, digital, transformation]</td>\n",
       "      <td>{'adopt': 1, 'business': 1, 'change': 1, 'digital': 1, 'digitalization': 1, 'drive': 1, 'gartner': 1, 'help': 1, 'management': 1, 'right': 1, 'strategy': 1, 'talent': 1, 'transformation': 1, 'work': 1}</td>\n",
       "    </tr>\n",
       "    <tr>\n",
       "      <th>12</th>\n",
       "      <td>What Generative AI Means for Business</td>\n",
       "      <td>An executive’s guide to understanding, implementing and planning for the future of GenAI</td>\n",
       "      <td>88</td>\n",
       "      <td>[executive, guide, understand, implement, planning, future, genai]</td>\n",
       "      <td>{'executive': 1, 'future': 1, 'genai': 1, 'guide': 1, 'implement': 1, 'planning': 1, 'understand': 1}</td>\n",
       "    </tr>\n",
       "  </tbody>\n",
       "</table>\n",
       "</div>"
      ],
      "text/plain": [
       "                                                                                    title  \\\n",
       "0                                                   What Generative AI Means for Business   \n",
       "1                                                        Build a Better IT Strategic Plan   \n",
       "2   Use Gartner Cybersecurity Research & Insights to Develop Your Ideal Security Strategy   \n",
       "3                                                    What Is Artificial Intelligence (AI)   \n",
       "4                              Explore The Latest Cloud Computing Technology and Security   \n",
       "5                                         Gartner 2023 Top 10 Strategic Technology Trends   \n",
       "6                               Use Artificial Intelligence to Grow Your Business Revenue   \n",
       "7                                             Reinvest in Growth with Smarter IT Spending   \n",
       "8                                         Technology Priorities CIOs Must Address in 2023   \n",
       "9                                    How Data Analytics Help in Making Business Decisions   \n",
       "10                                    Digitalization strategy for Business Transformation   \n",
       "11                                                           Digitalization Transforms IT   \n",
       "12                                                  What Generative AI Means for Business   \n",
       "\n",
       "                                                                                                                                                                                                                                                   description  \\\n",
       "0                                                                                                                                                                     An executive’s guide to understanding, implementing and planning for the future of GenAI   \n",
       "1                                                                               Explore here a one-page IT strategy plan template to build a successful IT strategic plan & communicate your strategy effectively. Unlock your IT Strategic plan template now.   \n",
       "2                                                                                           Use Gartner Cybersecurity Research, tools and insights to build a resilient security strategy and save time on planning and scoping against cybersecurity threats.   \n",
       "3                                                                                                                                                                         Everything you need to know about artificial intelligence (AI) terms and techniques.   \n",
       "4                                                                                                   Cloud computing forms the foundation for many digital business initiatives. A solid cloud strategy will help maximize the value of your cloud investments.   \n",
       "5                                                                                                           Download the eBook on Gartner Top Strategic Technology Trends and see when and how these 10 trends will drive strategic impact in 2023 and beyond.   \n",
       "6                                                                                                Gartner's Artificial Intelligence insights help leadership to drive revenue growth and achieve business goals by improving quality, speed, and functionality.   \n",
       "7   To maximize cost savings, IT leaders should pursue cost optimization through both function-specific and enterprise-wide programs. Cost optimization is a business-focused, continuous discipline intended to maximize business value while reducing costs.   \n",
       "8                                                                                                                                      The 2023 Gartner CIO Agenda Report outlines the 4 key actions that CIOs can take to accelerate impact. Learn more here.   \n",
       "9                                                                                                      Data and analytics leaders must create a data-driven culture focused on using enterprise analytics to drive digital transformation and redefine the CX.   \n",
       "10                                             The Gartner IT Roadmap for Digital Transformation is based on unbiased research and interactions with thousands of organizations who have successfully implemented digital business transformation initiatives.   \n",
       "11                                                                                                 Digitalization is changing how the business works with IT. Gartner helps you adopt the right IT talent management strategy to drive digital transformation.   \n",
       "12                                                                                                                                                                    An executive’s guide to understanding, implementing and planning for the future of GenAI   \n",
       "\n",
       "    description_length  \\\n",
       "0                   88   \n",
       "1                  174   \n",
       "2                  162   \n",
       "3                   84   \n",
       "4                  154   \n",
       "5                  146   \n",
       "6                  157   \n",
       "7                  250   \n",
       "8                  119   \n",
       "9                  151   \n",
       "10                 207   \n",
       "11                 155   \n",
       "12                  88   \n",
       "\n",
       "                                                                                                                                                                                                                    lemma_words  \\\n",
       "0                                                                                                                                                            [executive, guide, understand, implement, planning, future, genai]   \n",
       "1                                                                     [explore, one, page, strategy, plan, template, build, successful, strategic, plan, communicate, strategy, effectively, unlock, strategic, plan, template]   \n",
       "2                                                                                [use, gartner, cybersecurity, research, tool, insight, build, resilient, security, strategy, save, time, plan, scoping, cybersecurity, threat]   \n",
       "3                                                                                                                                                       [everything, need, know, artificial, intelligence, ai, term, technique]   \n",
       "4                                                                                     [cloud, compute, form, foundation, many, digital, business, initiative, solid, cloud, strategy, help, maximize, value, cloud, investment]   \n",
       "5                                                                                                         [download, ebook, gartner, top, strategic, technology, trend, see, 10, trend, drive, strategic, impact, 2023, beyond]   \n",
       "6                                                                       [gartner, artificial, intelligence, insight, help, leadership, drive, revenue, growth, achieve, business, goal, improve, quality, speed, functionality]   \n",
       "7   [maximize, cost, saving, leader, pursue, cost, optimization, function, specific, enterprise, wide, program, cost, optimization, business, focus, continuous, discipline, intend, maximize, business, value, reducing, cost]   \n",
       "8                                                                                                                           [2023, gartner, cio, agenda, report, outline, 4, key, action, cio, take, accelerate, impact, learn]   \n",
       "9                                                                               [data, analytics, leader, must, create, data, driven, culture, focus, use, enterprise, analytics, drive, digital, transformation, redefine, cx]   \n",
       "10                                           [gartner, roadmap, digital, transformation, base, unbiased, research, interaction, thousand, organization, successfully, implement, digital, business, transformation, initiative]   \n",
       "11                                                                                          [digitalization, change, business, work, gartner, help, adopt, right, talent, management, strategy, drive, digital, transformation]   \n",
       "12                                                                                                                                                           [executive, guide, understand, implement, planning, future, genai]   \n",
       "\n",
       "                                                                                                                                                                                                                                                            word_freq  \n",
       "0                                                                                                                                                               {'executive': 1, 'future': 1, 'genai': 1, 'guide': 1, 'implement': 1, 'planning': 1, 'understand': 1}  \n",
       "1                                                                                          {'build': 1, 'communicate': 1, 'effectively': 1, 'explore': 1, 'one': 1, 'page': 1, 'plan': 3, 'strategic': 2, 'strategy': 2, 'successful': 1, 'template': 2, 'unlock': 1}  \n",
       "2                                                          {'build': 1, 'cybersecurity': 2, 'gartner': 1, 'insight': 1, 'plan': 1, 'research': 1, 'resilient': 1, 'save': 1, 'scoping': 1, 'security': 1, 'strategy': 1, 'threat': 1, 'time': 1, 'tool': 1, 'use': 1}  \n",
       "3                                                                                                                                                     {'ai': 1, 'artificial': 1, 'everything': 1, 'intelligence': 1, 'know': 1, 'need': 1, 'technique': 1, 'term': 1}  \n",
       "4                                                                   {'business': 1, 'cloud': 3, 'compute': 1, 'digital': 1, 'form': 1, 'foundation': 1, 'help': 1, 'initiative': 1, 'investment': 1, 'many': 1, 'maximize': 1, 'solid': 1, 'strategy': 1, 'value': 1}  \n",
       "5                                                                                                {'10': 1, '2023': 1, 'beyond': 1, 'download': 1, 'drive': 1, 'ebook': 1, 'gartner': 1, 'impact': 1, 'see': 1, 'strategic': 2, 'technology': 1, 'top': 1, 'trend': 2}  \n",
       "6                             {'achieve': 1, 'artificial': 1, 'business': 1, 'drive': 1, 'functionality': 1, 'gartner': 1, 'goal': 1, 'growth': 1, 'help': 1, 'improve': 1, 'insight': 1, 'intelligence': 1, 'leadership': 1, 'quality': 1, 'revenue': 1, 'speed': 1}  \n",
       "7   {'business': 2, 'continuous': 1, 'cost': 4, 'discipline': 1, 'enterprise': 1, 'focus': 1, 'function': 1, 'intend': 1, 'leader': 1, 'maximize': 2, 'optimization': 2, 'program': 1, 'pursue': 1, 'reducing': 1, 'saving': 1, 'specific': 1, 'value': 1, 'wide': 1}  \n",
       "8                                                                                                             {'2023': 1, 'accelerate': 1, 'action': 1, 'agenda': 1, 'cio': 2, 'gartner': 1, 'impact': 1, 'key': 1, 'learn': 1, 'outline': 1, 'report': 1, 'take': 1}  \n",
       "9                                                           {'analytics': 2, 'create': 1, 'culture': 1, 'cx': 1, 'data': 2, 'digital': 1, 'drive': 1, 'driven': 1, 'enterprise': 1, 'focus': 1, 'leader': 1, 'must': 1, 'redefine': 1, 'transformation': 1, 'use': 1}  \n",
       "10                                    {'base': 1, 'business': 1, 'digital': 2, 'gartner': 1, 'implement': 1, 'initiative': 1, 'interaction': 1, 'organization': 1, 'research': 1, 'roadmap': 1, 'successfully': 1, 'thousand': 1, 'transformation': 2, 'unbiased': 1}  \n",
       "11                                                          {'adopt': 1, 'business': 1, 'change': 1, 'digital': 1, 'digitalization': 1, 'drive': 1, 'gartner': 1, 'help': 1, 'management': 1, 'right': 1, 'strategy': 1, 'talent': 1, 'transformation': 1, 'work': 1}  \n",
       "12                                                                                                                                                              {'executive': 1, 'future': 1, 'genai': 1, 'guide': 1, 'implement': 1, 'planning': 1, 'understand': 1}  "
      ]
     },
     "execution_count": 21,
     "metadata": {},
     "output_type": "execute_result"
    }
   ],
   "source": [
    "df['word_freq'] = df['lemma_words'].apply(lambda x : countVectorizer(x))\n",
    "df"
   ]
  },
  {
   "cell_type": "markdown",
   "id": "3b01505d-ba2b-442b-8588-20cbebba3e8e",
   "metadata": {
    "execution": {
     "iopub.execute_input": "2023-09-21T10:42:48.397917Z",
     "iopub.status.busy": "2023-09-21T10:42:48.396911Z",
     "iopub.status.idle": "2023-09-21T10:42:48.415465Z",
     "shell.execute_reply": "2023-09-21T10:42:48.414955Z",
     "shell.execute_reply.started": "2023-09-21T10:42:48.397917Z"
    }
   },
   "source": [
    "# Topic Modelling"
   ]
  },
  {
   "cell_type": "code",
   "execution_count": 22,
   "id": "f8235056-5a20-470b-96f8-62a045daec59",
   "metadata": {
    "execution": {
     "iopub.execute_input": "2023-09-21T13:00:40.336980Z",
     "iopub.status.busy": "2023-09-21T13:00:40.336980Z",
     "iopub.status.idle": "2023-09-21T13:00:40.443457Z",
     "shell.execute_reply": "2023-09-21T13:00:40.442462Z",
     "shell.execute_reply.started": "2023-09-21T13:00:40.336980Z"
    }
   },
   "outputs": [
    {
     "data": {
      "text/plain": [
       "0                                                                                                                                                              [executive, guide, understand, implement, planning, future, genai]\n",
       "1                                                                       [explore, one, page, strategy, plan, template, build, successful, strategic, plan, communicate, strategy, effectively, unlock, strategic, plan, template]\n",
       "2                                                                                  [use, gartner, cybersecurity, research, tool, insight, build, resilient, security, strategy, save, time, plan, scoping, cybersecurity, threat]\n",
       "3                                                                                                                                                         [everything, need, know, artificial, intelligence, ai, term, technique]\n",
       "4                                                                                       [cloud, compute, form, foundation, many, digital, business, initiative, solid, cloud, strategy, help, maximize, value, cloud, investment]\n",
       "5                                                                                                           [download, ebook, gartner, top, strategic, technology, trend, see, 10, trend, drive, strategic, impact, 2023, beyond]\n",
       "6                                                                         [gartner, artificial, intelligence, insight, help, leadership, drive, revenue, growth, achieve, business, goal, improve, quality, speed, functionality]\n",
       "7     [maximize, cost, saving, leader, pursue, cost, optimization, function, specific, enterprise, wide, program, cost, optimization, business, focus, continuous, discipline, intend, maximize, business, value, reducing, cost]\n",
       "8                                                                                                                             [2023, gartner, cio, agenda, report, outline, 4, key, action, cio, take, accelerate, impact, learn]\n",
       "9                                                                                 [data, analytics, leader, must, create, data, driven, culture, focus, use, enterprise, analytics, drive, digital, transformation, redefine, cx]\n",
       "10                                             [gartner, roadmap, digital, transformation, base, unbiased, research, interaction, thousand, organization, successfully, implement, digital, business, transformation, initiative]\n",
       "11                                                                                            [digitalization, change, business, work, gartner, help, adopt, right, talent, management, strategy, drive, digital, transformation]\n",
       "12                                                                                                                                                             [executive, guide, understand, implement, planning, future, genai]\n",
       "Name: description, dtype: object"
      ]
     },
     "execution_count": 22,
     "metadata": {},
     "output_type": "execute_result"
    }
   ],
   "source": [
    "data_lemmatized = df['description'].apply(lambda x: clean_text_lemma(x))\n",
    "data_lemmatized"
   ]
  },
  {
   "cell_type": "code",
   "execution_count": 23,
   "id": "8d96cfb1-3069-45f7-a82c-8e739b881aba",
   "metadata": {
    "execution": {
     "iopub.execute_input": "2023-09-21T13:00:40.444634Z",
     "iopub.status.busy": "2023-09-21T13:00:40.443457Z",
     "iopub.status.idle": "2023-09-21T13:00:40.451806Z",
     "shell.execute_reply": "2023-09-21T13:00:40.451806Z",
     "shell.execute_reply.started": "2023-09-21T13:00:40.444634Z"
    }
   },
   "outputs": [
    {
     "name": "stdout",
     "output_type": "stream",
     "text": [
      "[(0, 1), (1, 1), (2, 1), (3, 1), (4, 1), (5, 1), (6, 1)]\n",
      "[(7, 1), (8, 1), (9, 1), (10, 1), (11, 1), (12, 1), (13, 3), (14, 2), (15, 2), (16, 1), (17, 2), (18, 1)]\n",
      "[(7, 1), (13, 1), (15, 1), (19, 2), (20, 1), (21, 1), (22, 1), (23, 1), (24, 1), (25, 1), (26, 1), (27, 1), (28, 1), (29, 1), (30, 1)]\n",
      "[(31, 1), (32, 1), (33, 1), (34, 1), (35, 1), (36, 1), (37, 1), (38, 1)]\n",
      "[(15, 1), (39, 1), (40, 3), (41, 1), (42, 1), (43, 1), (44, 1), (45, 1), (46, 1), (47, 1), (48, 1), (49, 1), (50, 1), (51, 1)]\n",
      "[(14, 2), (20, 1), (52, 1), (53, 1), (54, 1), (55, 1), (56, 1), (57, 1), (58, 1), (59, 1), (60, 1), (61, 1), (62, 2)]\n",
      "[(20, 1), (21, 1), (32, 1), (34, 1), (39, 1), (45, 1), (56, 1), (63, 1), (64, 1), (65, 1), (66, 1), (67, 1), (68, 1), (69, 1), (70, 1), (71, 1)]\n",
      "[(39, 2), (49, 2), (51, 1), (72, 1), (73, 4), (74, 1), (75, 1), (76, 1), (77, 1), (78, 1), (79, 1), (80, 2), (81, 1), (82, 1), (83, 1), (84, 1), (85, 1), (86, 1)]\n",
      "[(20, 1), (53, 1), (58, 1), (87, 1), (88, 1), (89, 1), (90, 1), (91, 2), (92, 1), (93, 1), (94, 1), (95, 1), (96, 1)]\n",
      "[(30, 1), (42, 1), (56, 1), (75, 1), (76, 1), (79, 1), (97, 2), (98, 1), (99, 1), (100, 1), (101, 2), (102, 1), (103, 1), (104, 1), (105, 1)]\n",
      "[(4, 1), (20, 1), (22, 1), (39, 1), (42, 2), (46, 1), (105, 2), (106, 1), (107, 1), (108, 1), (109, 1), (110, 1), (111, 1), (112, 1)]\n",
      "[(15, 1), (20, 1), (39, 1), (42, 1), (45, 1), (56, 1), (105, 1), (113, 1), (114, 1), (115, 1), (116, 1), (117, 1), (118, 1), (119, 1)]\n",
      "[(0, 1), (1, 1), (2, 1), (3, 1), (4, 1), (5, 1), (6, 1)]\n"
     ]
    }
   ],
   "source": [
    "# create dictionary. The Dictionary object is used to map words to unique numerical IDs. It builds a vocabulary of all unique words present in your corpus.\n",
    "id2word=corpora.Dictionary(data_lemmatized)\n",
    "\n",
    "\n",
    "# create corpus with  TF-IDF weighting. \n",
    "# corpus will be a list of documents where each document as a list of tuple contains a word's numerical ID (from the dictionary) and its TF-IDF weight within that document.\n",
    "# The doc2bow function converts a document (a list of words) into a bag-of-words format, where each word is represented as a tuple (word_id, word_count).\n",
    "corpus = [id2word.doc2bow(text) for text in data_lemmatized]\n",
    "\n",
    "# corpus[1]   \n",
    "for cp in corpus:\n",
    "    print(cp)\n",
    "# gensim creates a unique id for each word in the document, mapping of (word_id, word_frequency).\n",
    "#  (7,1) below implies, word id 7 occurs once in the first document. And this will be used as the input by the LDA model of Gensim."
   ]
  },
  {
   "cell_type": "code",
   "execution_count": 24,
   "id": "77fc0a6e-3e40-4a33-a821-febe36906bf3",
   "metadata": {
    "execution": {
     "iopub.execute_input": "2023-09-21T13:00:40.453048Z",
     "iopub.status.busy": "2023-09-21T13:00:40.453048Z",
     "iopub.status.idle": "2023-09-21T13:00:40.466497Z",
     "shell.execute_reply": "2023-09-21T13:00:40.466497Z",
     "shell.execute_reply.started": "2023-09-21T13:00:40.453048Z"
    }
   },
   "outputs": [
    {
     "data": {
      "text/plain": [
       "[[('executive', 1),\n",
       "  ('future', 1),\n",
       "  ('genai', 1),\n",
       "  ('guide', 1),\n",
       "  ('implement', 1),\n",
       "  ('planning', 1),\n",
       "  ('understand', 1)]]"
      ]
     },
     "execution_count": 24,
     "metadata": {},
     "output_type": "execute_result"
    }
   ],
   "source": [
    "[[(id2word[id], freq) for id, freq in cp] for cp in corpus[:1]]"
   ]
  },
  {
   "cell_type": "code",
   "execution_count": 25,
   "id": "2e9a0936-8036-4888-a551-9e0902310941",
   "metadata": {
    "execution": {
     "iopub.execute_input": "2023-09-21T13:00:40.466497Z",
     "iopub.status.busy": "2023-09-21T13:00:40.466497Z",
     "iopub.status.idle": "2023-09-21T13:00:40.496437Z",
     "shell.execute_reply": "2023-09-21T13:00:40.495398Z",
     "shell.execute_reply.started": "2023-09-21T13:00:40.466497Z"
    }
   },
   "outputs": [],
   "source": [
    "# Build LDA model\n",
    "# define 5 topics to start with.\n",
    "# The hyperparameter alpha affects sparsity of the document-topic (theta) distributions, whose default value is 1\n",
    "lda_model= gensim.models.ldamodel.LdaModel(corpus = corpus,\n",
    "                                           id2word = id2word,\n",
    "                                           num_topics = 5,\n",
    "                                           random_state=100,\n",
    "                                           update_every=1,\n",
    "                                           alpha='auto',\n",
    "                                           per_word_topics=True)"
   ]
  },
  {
   "cell_type": "code",
   "execution_count": 42,
   "id": "a257d780-33cb-4664-a1cd-4980ea2df521",
   "metadata": {
    "execution": {
     "iopub.execute_input": "2023-09-21T17:30:49.713762Z",
     "iopub.status.busy": "2023-09-21T17:30:49.713762Z",
     "iopub.status.idle": "2023-09-21T17:30:49.734117Z",
     "shell.execute_reply": "2023-09-21T17:30:49.733885Z",
     "shell.execute_reply.started": "2023-09-21T17:30:49.713762Z"
    }
   },
   "outputs": [
    {
     "data": {
      "text/plain": [
       "[(0,\n",
       "  '0.040*\"business\" + 0.034*\"gartner\" + 0.033*\"help\" + 0.033*\"drive\" + 0.028*\"strategy\" + 0.021*\"plan\" + 0.019*\"insight\" + 0.018*\"intelligence\" + 0.018*\"artificial\" + 0.018*\"improve\"'),\n",
       " (1,\n",
       "  '0.037*\"cost\" + 0.025*\"trend\" + 0.025*\"strategic\" + 0.025*\"gartner\" + 0.024*\"cybersecurity\" + 0.022*\"maximize\" + 0.020*\"business\" + 0.019*\"optimization\" + 0.014*\"drive\" + 0.014*\"planning\"'),\n",
       " (2,\n",
       "  '0.080*\"cloud\" + 0.030*\"strategy\" + 0.030*\"business\" + 0.030*\"help\" + 0.030*\"digital\" + 0.030*\"initiative\" + 0.030*\"value\" + 0.030*\"foundation\" + 0.030*\"form\" + 0.030*\"compute\"'),\n",
       " (3,\n",
       "  '0.039*\"digital\" + 0.039*\"transformation\" + 0.038*\"implement\" + 0.035*\"gartner\" + 0.029*\"cio\" + 0.022*\"business\" + 0.021*\"initiative\" + 0.021*\"unbiased\" + 0.021*\"interaction\" + 0.021*\"organization\"'),\n",
       " (4,\n",
       "  '0.039*\"data\" + 0.039*\"analytics\" + 0.036*\"plan\" + 0.029*\"template\" + 0.028*\"strategy\" + 0.027*\"strategic\" + 0.021*\"transformation\" + 0.021*\"drive\" + 0.021*\"leader\" + 0.021*\"focus\"')]"
      ]
     },
     "execution_count": 42,
     "metadata": {},
     "output_type": "execute_result"
    }
   ],
   "source": [
    "# print the 5 topics\n",
    "top_topics = lda_model.print_topics()\n",
    "top_topics"
   ]
  },
  {
   "cell_type": "code",
   "execution_count": 49,
   "id": "85f84032-02d8-4dc7-9334-88027565cb6a",
   "metadata": {
    "execution": {
     "iopub.execute_input": "2023-09-21T17:39:29.522535Z",
     "iopub.status.busy": "2023-09-21T17:39:29.522535Z",
     "iopub.status.idle": "2023-09-21T17:39:29.533446Z",
     "shell.execute_reply": "2023-09-21T17:39:29.532703Z",
     "shell.execute_reply.started": "2023-09-21T17:39:29.522535Z"
    }
   },
   "outputs": [
    {
     "data": {
      "text/html": [
       "<div>\n",
       "<style scoped>\n",
       "    .dataframe tbody tr th:only-of-type {\n",
       "        vertical-align: middle;\n",
       "    }\n",
       "\n",
       "    .dataframe tbody tr th {\n",
       "        vertical-align: top;\n",
       "    }\n",
       "\n",
       "    .dataframe thead th {\n",
       "        text-align: right;\n",
       "    }\n",
       "</style>\n",
       "<table border=\"1\" class=\"dataframe\">\n",
       "  <thead>\n",
       "    <tr style=\"text-align: right;\">\n",
       "      <th></th>\n",
       "      <th>topic_name</th>\n",
       "      <th>topic_words</th>\n",
       "    </tr>\n",
       "  </thead>\n",
       "  <tbody>\n",
       "    <tr>\n",
       "      <th>0</th>\n",
       "      <td>Topic 0</td>\n",
       "      <td>business gartner help drive strategy plan insight intelligence artificial improve</td>\n",
       "    </tr>\n",
       "    <tr>\n",
       "      <th>1</th>\n",
       "      <td>Topic 1</td>\n",
       "      <td>cost trend strategic gartner cybersecurity maximize business optimization drive planning</td>\n",
       "    </tr>\n",
       "    <tr>\n",
       "      <th>2</th>\n",
       "      <td>Topic 2</td>\n",
       "      <td>cloud strategy business help digital initiative value foundation form compute</td>\n",
       "    </tr>\n",
       "    <tr>\n",
       "      <th>3</th>\n",
       "      <td>Topic 3</td>\n",
       "      <td>digital transformation implement gartner cio business initiative unbiased interaction organization</td>\n",
       "    </tr>\n",
       "    <tr>\n",
       "      <th>4</th>\n",
       "      <td>Topic 4</td>\n",
       "      <td>data analytics plan template strategy strategic transformation drive leader focus</td>\n",
       "    </tr>\n",
       "  </tbody>\n",
       "</table>\n",
       "</div>"
      ],
      "text/plain": [
       "  topic_name  \\\n",
       "0    Topic 0   \n",
       "1    Topic 1   \n",
       "2    Topic 2   \n",
       "3    Topic 3   \n",
       "4    Topic 4   \n",
       "\n",
       "                                                                                          topic_words  \n",
       "0                   business gartner help drive strategy plan insight intelligence artificial improve  \n",
       "1            cost trend strategic gartner cybersecurity maximize business optimization drive planning  \n",
       "2                       cloud strategy business help digital initiative value foundation form compute  \n",
       "3  digital transformation implement gartner cio business initiative unbiased interaction organization  \n",
       "4                   data analytics plan template strategy strategic transformation drive leader focus  "
      ]
     },
     "execution_count": 49,
     "metadata": {},
     "output_type": "execute_result"
    }
   ],
   "source": [
    "# Initialize lists to store topic names and topic words\n",
    "topic_names = []\n",
    "topic_words = []\n",
    "\n",
    "# Parse the list of topics\n",
    "for topic_num, topic_str in top_topics:\n",
    "    # Extract the numeric part of the topic number\n",
    "    topic_num = int(re.search(r'\\d+', str(topic_num)).group())\n",
    "    \n",
    "    # Extract words from the topic string\n",
    "    words = re.findall(r'\"([^\"]*)\"', topic_str)\n",
    "    \n",
    "    # Join the words to form the topic words string\n",
    "    topic_words_str = ' '.join(words)\n",
    "    \n",
    "    # Append topic number and topic words to respective lists\n",
    "    topic_names.append(f\"Topic {topic_num}\")\n",
    "    topic_words.append(topic_words_str)\n",
    "\n",
    "# Create a DataFrame to store the data\n",
    "df_topics = pd.DataFrame({\n",
    "    'topic_name': topic_names,\n",
    "    'topic_words': topic_words\n",
    "})\n",
    "\n",
    "# Display the DataFrame\n",
    "df_topics['topic_name'] = df_topics['topic_name'].astype(str)\n",
    "df_topics\n"
   ]
  },
  {
   "cell_type": "code",
   "execution_count": 50,
   "id": "bb7f6069-0e77-4c6c-8d79-5d4bdf9b799c",
   "metadata": {
    "execution": {
     "iopub.execute_input": "2023-09-21T17:39:30.814898Z",
     "iopub.status.busy": "2023-09-21T17:39:30.813915Z",
     "iopub.status.idle": "2023-09-21T17:39:30.833083Z",
     "shell.execute_reply": "2023-09-21T17:39:30.832047Z",
     "shell.execute_reply.started": "2023-09-21T17:39:30.814898Z"
    }
   },
   "outputs": [
    {
     "data": {
      "text/html": [
       "<div>\n",
       "<style scoped>\n",
       "    .dataframe tbody tr th:only-of-type {\n",
       "        vertical-align: middle;\n",
       "    }\n",
       "\n",
       "    .dataframe tbody tr th {\n",
       "        vertical-align: top;\n",
       "    }\n",
       "\n",
       "    .dataframe thead th {\n",
       "        text-align: right;\n",
       "    }\n",
       "</style>\n",
       "<table border=\"1\" class=\"dataframe\">\n",
       "  <thead>\n",
       "    <tr style=\"text-align: right;\">\n",
       "      <th></th>\n",
       "      <th>topic_name</th>\n",
       "      <th>topic_words</th>\n",
       "    </tr>\n",
       "  </thead>\n",
       "  <tbody>\n",
       "    <tr>\n",
       "      <th>0</th>\n",
       "      <td>Business Strategy and Artificial Intelligence</td>\n",
       "      <td>business gartner help drive strategy plan insight intelligence artificial improve</td>\n",
       "    </tr>\n",
       "    <tr>\n",
       "      <th>1</th>\n",
       "      <td>Cybersecurity and Cost Optimization</td>\n",
       "      <td>cost trend strategic gartner cybersecurity maximize business optimization drive planning</td>\n",
       "    </tr>\n",
       "    <tr>\n",
       "      <th>2</th>\n",
       "      <td>Digital Business Transformation and Cloud Strategy</td>\n",
       "      <td>cloud strategy business help digital initiative value foundation form compute</td>\n",
       "    </tr>\n",
       "    <tr>\n",
       "      <th>3</th>\n",
       "      <td>Digital Transformation and Leadership</td>\n",
       "      <td>digital transformation implement gartner cio business initiative unbiased interaction organization</td>\n",
       "    </tr>\n",
       "    <tr>\n",
       "      <th>4</th>\n",
       "      <td>Data Analytics and Strategic Planning</td>\n",
       "      <td>data analytics plan template strategy strategic transformation drive leader focus</td>\n",
       "    </tr>\n",
       "  </tbody>\n",
       "</table>\n",
       "</div>"
      ],
      "text/plain": [
       "                                           topic_name  \\\n",
       "0       Business Strategy and Artificial Intelligence   \n",
       "1                 Cybersecurity and Cost Optimization   \n",
       "2  Digital Business Transformation and Cloud Strategy   \n",
       "3               Digital Transformation and Leadership   \n",
       "4               Data Analytics and Strategic Planning   \n",
       "\n",
       "                                                                                          topic_words  \n",
       "0                   business gartner help drive strategy plan insight intelligence artificial improve  \n",
       "1            cost trend strategic gartner cybersecurity maximize business optimization drive planning  \n",
       "2                       cloud strategy business help digital initiative value foundation form compute  \n",
       "3  digital transformation implement gartner cio business initiative unbiased interaction organization  \n",
       "4                   data analytics plan template strategy strategic transformation drive leader focus  "
      ]
     },
     "execution_count": 50,
     "metadata": {},
     "output_type": "execute_result"
    }
   ],
   "source": [
    "# Interpret the topics and assign names\n",
    "topic_names = {\n",
    "    'Topic 0': \"Business Strategy and Artificial Intelligence\",\n",
    "    'Topic 1': \"Cybersecurity and Cost Optimization\",\n",
    "    'Topic 2': \"Digital Business Transformation and Cloud Strategy\",\n",
    "    'Topic 3': \"Digital Transformation and Leadership\",\n",
    "    'Topic 4': \"Data Analytics and Strategic Planning\"\n",
    "}\n",
    "# Add a new column with topic names\n",
    "df_topics['topic_name'] = df_topics['topic_name'].map(topic_names)\n",
    "df_topics"
   ]
  },
  {
   "cell_type": "markdown",
   "id": "81f2474b-2380-41f0-9797-087b6ac7e051",
   "metadata": {
    "execution": {
     "iopub.execute_input": "2023-09-21T12:22:43.666530Z",
     "iopub.status.busy": "2023-09-21T12:22:43.666530Z",
     "iopub.status.idle": "2023-09-21T12:22:43.682457Z",
     "shell.execute_reply": "2023-09-21T12:22:43.682457Z",
     "shell.execute_reply.started": "2023-09-21T12:22:43.666530Z"
    }
   },
   "source": [
    "---\n",
    "#### output interpretation\n",
    "-  Each section starts with a topic number (e.g., (0, ...)), indicating the topic's index.\n",
    "-  (e.g., '0.040*\"business\" + 0.034*\"gartner\" + ...') The numbers next to each word represent the weight or importance of that word within the topic. These weights are usually probabilities assigned by the LDA model.\n",
    "---\n"
   ]
  },
  {
   "cell_type": "markdown",
   "id": "1370ba3c-c1d5-47f9-8333-4fda1e9834f0",
   "metadata": {
    "execution": {
     "iopub.execute_input": "2023-09-21T12:23:42.581504Z",
     "iopub.status.busy": "2023-09-21T12:23:42.577975Z",
     "iopub.status.idle": "2023-09-21T12:23:42.594544Z",
     "shell.execute_reply": "2023-09-21T12:23:42.593461Z",
     "shell.execute_reply.started": "2023-09-21T12:23:42.581504Z"
    }
   },
   "source": [
    "## Model evaluation and visualization\n",
    "- Perplexity(lower) is a measure of how well the LDA model predicts a unseen set of documents (in this case, the corpus). A measure of how good the model is. lower the better.) Range \n",
    "- Coherence(higher) is a measure of how interpretable and coherent the topics generated by the LDA model are. Higher coherence scores indicate better-defined topics."
   ]
  },
  {
   "cell_type": "code",
   "execution_count": 51,
   "id": "6a6e6c95-6b87-4c08-9dcf-b3520c121571",
   "metadata": {
    "execution": {
     "iopub.execute_input": "2023-09-21T17:39:53.119347Z",
     "iopub.status.busy": "2023-09-21T17:39:53.119347Z",
     "iopub.status.idle": "2023-09-21T17:39:53.131722Z",
     "shell.execute_reply": "2023-09-21T17:39:53.130722Z",
     "shell.execute_reply.started": "2023-09-21T17:39:53.119347Z"
    }
   },
   "outputs": [
    {
     "name": "stdout",
     "output_type": "stream",
     "text": [
      "Perplexity score of model is : -5.397127278985824\n"
     ]
    }
   ],
   "source": [
    "# compute perplexity\n",
    "print(f\"Perplexity score of model is : {lda_model.log_perplexity(corpus)}\")"
   ]
  },
  {
   "cell_type": "code",
   "execution_count": 52,
   "id": "bc79e770-13a0-41b6-bb92-254494b31bd7",
   "metadata": {
    "execution": {
     "iopub.execute_input": "2023-09-21T17:39:54.407305Z",
     "iopub.status.busy": "2023-09-21T17:39:54.406313Z",
     "iopub.status.idle": "2023-09-21T17:39:56.198415Z",
     "shell.execute_reply": "2023-09-21T17:39:56.197911Z",
     "shell.execute_reply.started": "2023-09-21T17:39:54.407305Z"
    }
   },
   "outputs": [
    {
     "name": "stdout",
     "output_type": "stream",
     "text": [
      "nCoherence Score: 0.5014372901428072\n"
     ]
    }
   ],
   "source": [
    "# compute coherence score\n",
    "coherence_model_lda=CoherenceModel(model=lda_model,texts=data_lemmatized,dictionary=id2word,coherence='c_v')\n",
    "coherence_lda=coherence_model_lda.get_coherence()\n",
    "print(f\"nCoherence Score: {coherence_lda}\")"
   ]
  },
  {
   "cell_type": "code",
   "execution_count": 53,
   "id": "273807cf-f49e-4684-812f-cacef2f3b093",
   "metadata": {
    "execution": {
     "iopub.execute_input": "2023-09-21T17:39:56.200422Z",
     "iopub.status.busy": "2023-09-21T17:39:56.199425Z",
     "iopub.status.idle": "2023-09-21T17:39:58.549116Z",
     "shell.execute_reply": "2023-09-21T17:39:58.548116Z",
     "shell.execute_reply.started": "2023-09-21T17:39:56.199425Z"
    }
   },
   "outputs": [
    {
     "data": {
      "text/html": [
       "\n",
       "<link rel=\"stylesheet\" type=\"text/css\" href=\"https://cdn.jsdelivr.net/gh/bmabey/pyLDAvis@3.4.0/pyLDAvis/js/ldavis.v1.0.0.css\">\n",
       "\n",
       "\n",
       "<div id=\"ldavis_el1746820540808011208122043063\" style=\"background-color:white;\"></div>\n",
       "<script type=\"text/javascript\">\n",
       "\n",
       "var ldavis_el1746820540808011208122043063_data = {\"mdsDat\": {\"x\": [0.08135649580582967, -0.08887007448705245, -0.041611271267239014, 0.0488524033165285, 0.0002724466319332746], \"y\": [-0.06506468692779385, -0.06859912735944076, 0.07950970014250185, 0.05127157650925978, 0.0028825376354730307], \"topics\": [1, 2, 3, 4, 5], \"cluster\": [1, 1, 1, 1, 1], \"Freq\": [33.43029323432825, 23.078233239698555, 18.312169909249814, 16.405827665086996, 8.773475951636375]}, \"tinfo\": {\"Term\": [\"cloud\", \"help\", \"digital\", \"data\", \"analytics\", \"initiative\", \"business\", \"strategy\", \"maximize\", \"value\", \"foundation\", \"form\", \"compute\", \"many\", \"solid\", \"investment\", \"transformation\", \"plan\", \"implement\", \"template\", \"drive\", \"cio\", \"cost\", \"cx\", \"driven\", \"redefine\", \"create\", \"must\", \"culture\", \"gartner\", \"trend\", \"cybersecurity\", \"cost\", \"technology\", \"ebook\", \"10\", \"beyond\", \"download\", \"see\", \"top\", \"term\", \"everything\", \"technique\", \"know\", \"need\", \"ai\", \"time\", \"security\", \"save\", \"resilient\", \"scoping\", \"tool\", \"optimization\", \"threat\", \"maximize\", \"pursue\", \"specific\", \"reducing\", \"program\", \"discipline\", \"strategic\", \"gartner\", \"intelligence\", \"artificial\", \"business\", \"impact\", \"2023\", \"planning\", \"genai\", \"executive\", \"understand\", \"guide\", \"drive\", \"implement\", \"unbiased\", \"interaction\", \"organization\", \"base\", \"successfully\", \"roadmap\", \"thousand\", \"cio\", \"implement\", \"agenda\", \"report\", \"accelerate\", \"transformation\", \"learn\", \"outline\", \"take\", \"4\", \"initiative\", \"action\", \"digital\", \"key\", \"research\", \"future\", \"guide\", \"understand\", \"executive\", \"genai\", \"planning\", \"2023\", \"gartner\", \"business\", \"data\", \"analytics\", \"cx\", \"driven\", \"redefine\", \"create\", \"must\", \"culture\", \"template\", \"successful\", \"effectively\", \"unlock\", \"page\", \"one\", \"explore\", \"communicate\", \"plan\", \"leader\", \"enterprise\", \"focus\", \"use\", \"strategic\", \"strategy\", \"build\", \"key\", \"drive\", \"action\", \"4\", \"take\", \"outline\", \"transformation\", \"cio\", \"digital\", \"impact\", \"improve\", \"goal\", \"functionality\", \"revenue\", \"speed\", \"leadership\", \"quality\", \"achieve\", \"growth\", \"help\", \"adopt\", \"management\", \"change\", \"talent\", \"digitalization\", \"work\", \"right\", \"drive\", \"insight\", \"artificial\", \"intelligence\", \"business\", \"strategy\", \"communicate\", \"gartner\", \"explore\", \"saving\", \"one\", \"plan\", \"page\", \"template\", \"cost\", \"transformation\", \"digital\", \"optimization\", \"strategic\", \"cloud\", \"foundation\", \"form\", \"compute\", \"many\", \"solid\", \"investment\", \"value\", \"initiative\", \"help\", \"maximize\", \"strategy\", \"digital\", \"business\", \"growth\", \"achieve\", \"speed\", \"revenue\", \"quality\", \"goal\", \"functionality\", \"improve\", \"leadership\", \"adopt\", \"management\", \"change\", \"talent\", \"digitalization\", \"work\", \"right\", \"executive\", \"future\", \"ai\", \"genai\", \"understand\", \"technique\", \"drive\", \"strategic\", \"gartner\", \"transformation\", \"implement\", \"guide\", \"artificial\", \"plan\", \"planning\", \"2023\", \"cost\"], \"Freq\": [1.0, 1.0, 3.0, 1.0, 1.0, 1.0, 4.0, 3.0, 2.0, 1.0, 0.0, 0.0, 0.0, 0.0, 1.0, 1.0, 3.0, 2.0, 2.0, 1.0, 2.0, 2.0, 3.0, 1.0, 1.0, 1.0, 1.0, 1.0, 1.0, 4.0, 1.5632265339902687, 1.5187398682484097, 2.291969674971317, 0.8530853326230737, 0.8530575028396111, 0.8530197172131108, 0.852963941203577, 0.8529469988040214, 0.8528542522662476, 0.8526940272367727, 0.8525246032412162, 0.8521756247431521, 0.851949551418497, 0.8519698124323987, 0.8519176461437324, 0.8516646745764839, 0.8363874043242331, 0.8361070687439565, 0.8324776690755692, 0.8324963581142544, 0.832210899059198, 0.8305560749266533, 1.1977165623364736, 0.8118078251750563, 1.380061146189255, 0.7165793131983454, 0.6979673595201499, 0.6955705048641108, 0.6948526361819071, 0.6904079053678928, 1.5622733347960238, 1.5423512853281325, 0.8525347337481669, 0.8520473632097463, 1.2524585615055905, 0.8532404341777688, 0.8527548684997819, 0.8534851383198047, 0.8525413127555546, 0.8523989616665044, 0.8518428317676877, 0.851684295156038, 0.8536101976814733, 0.8517139880212387, 0.9019870994468567, 0.9019399135298295, 0.901901650333058, 0.9018793033399854, 0.9017789830257609, 0.9015670885159082, 0.9014810767080393, 1.234255375566622, 1.653297427711141, 0.7259276810681088, 0.6938218043518051, 0.6917019750197395, 1.6835804971795618, 0.6858488313018289, 0.6812532284458815, 0.6772054484596784, 0.6726131011908514, 0.9022071932131605, 0.6548134800540241, 1.6916681794349857, 0.6029981583343016, 0.9018501236332038, 0.9015077644839388, 0.9011805176897012, 0.9009746520448861, 0.9004410572966304, 0.9001235370713201, 0.9002395324346423, 0.7088277298151044, 1.5050325240830527, 0.9288138607816906, 1.3308050869887103, 1.330685938532015, 0.7261204822151152, 0.7259791369367229, 0.7258371538186268, 0.7258009883074136, 0.7257063328953495, 0.7255912666127594, 0.9868616991077477, 0.559130986094064, 0.5445078092576544, 0.536999224046889, 0.527612073340091, 0.516706385758147, 0.5076373894956723, 0.4913438061506097, 1.2475835894573508, 0.7262462642047314, 0.7261616866599895, 0.7262065905751466, 0.7260654366486655, 0.9282219697103522, 0.9721376798141458, 0.5235189921759625, 0.3614291893086374, 0.7264689340453755, 0.32008933106521936, 0.3057447307195039, 0.30204459070498535, 0.29869720793872867, 0.7266431280685204, 0.4586188660844343, 0.7260977751216551, 0.3591975476444909, 0.5642166504040826, 0.5640551617395968, 0.5640584760858601, 0.5640079608772949, 0.5639735031049364, 0.5639776174658151, 0.5639130448575812, 0.5638593867344559, 0.5636937265651905, 1.0207785340874729, 0.550387083469124, 0.5490172870160497, 0.5478085220762523, 0.5462763798001757, 0.5453435056148501, 0.5444017169809543, 0.5421091608130476, 1.019644113362996, 0.5759885797485234, 0.5643118521433017, 0.5643416241157706, 1.2252978132612748, 0.8494372324632437, 0.27635919160098554, 1.0327736103656777, 0.26374527544590587, 0.2749631375253594, 0.25663737416468646, 0.651240468794054, 0.2484757679192826, 0.36156394818749776, 0.5534057100443046, 0.5453935636722067, 0.5417374397364446, 0.33659429202247176, 0.4083257738973336, 1.3098483260190876, 0.49106973907537343, 0.49104923378373816, 0.49103438196297106, 0.49098414247049954, 0.49080274245388716, 0.49071045336187746, 0.4911572914755747, 0.491189684335684, 0.49127696170216734, 0.4908632498718273, 0.49173177579368393, 0.49124838875480675, 0.49163404714592, 0.08216785119060516, 0.08211034622408554, 0.08209340109113211, 0.08208835116647828, 0.08208583002406411, 0.08207481339569672, 0.08206294110687362, 0.0820395938001533, 0.08203212205081675, 0.082069427318721, 0.08205080142415812, 0.08209546384401643, 0.0821156635426318, 0.08208505076186336, 0.0821235936814982, 0.08213689461768933, 0.08281203363672802, 0.08276200805937045, 0.08233455982278588, 0.08264627234290899, 0.082646211224305, 0.08226904831914492, 0.08289450555297342, 0.0828708450134077, 0.08270614565533281, 0.0826255302166833, 0.08260704947880487, 0.0826045359762162, 0.08249413285795196, 0.08247762319505189, 0.08243540551935276, 0.08242179135031623, 0.08239395182620338], \"Total\": [1.0, 1.0, 3.0, 1.0, 1.0, 1.0, 4.0, 3.0, 2.0, 1.0, 0.0, 0.0, 0.0, 0.0, 1.0, 1.0, 3.0, 2.0, 2.0, 1.0, 2.0, 2.0, 3.0, 1.0, 1.0, 1.0, 1.0, 1.0, 1.0, 4.0, 2.0127368416247946, 1.9975270465297588, 3.2006784281726786, 1.301396366253856, 1.3013954216068537, 1.3013974031322262, 1.3013745244268364, 1.3013788652828941, 1.3013622544285794, 1.3013086817823225, 1.301228355707656, 1.3011937187096274, 1.3010803603518724, 1.3011161964536648, 1.3011475358094715, 1.3010233467318981, 1.2957548792527906, 1.2956708525538012, 1.2944097625410782, 1.2944500975297488, 1.2943867291618558, 1.293804708981108, 1.8887461572899205, 1.2874939018653213, 2.360512557641477, 1.2551448964211005, 1.2488275484489537, 1.2480111004492414, 1.2477763698682685, 1.2462914762433466, 3.133439551655766, 4.426656622064266, 1.771957298004967, 1.771824174427468, 4.020207239497777, 1.9957118364729007, 2.015562056800186, 2.0529559728888365, 2.0525801461142326, 2.0526680433817743, 2.0527196345368823, 2.052735061869936, 2.85683772210618, 2.8050748795872815, 1.342127018023492, 1.3421348999421414, 1.3421215632787789, 1.3421122906785383, 1.3420687566265936, 1.3419980540204037, 1.3420012627858764, 2.0124280253420452, 2.8050748795872815, 1.3077369150519507, 1.3014749724322785, 1.3010533297621791, 3.1818017255877216, 1.2999522189085992, 1.2990228791694436, 1.2982385227547346, 1.2973497045179632, 1.752060341742425, 1.2939240164711812, 3.5946553577329037, 1.2836680906565834, 2.047574023140243, 2.0526183896297345, 2.052735061869936, 2.0527196345368823, 2.0526680433817743, 2.0525801461142326, 2.0529559728888365, 2.015562056800186, 4.426656622064266, 4.020207239497777, 1.801098971790308, 1.8010814007771931, 1.1955166315776726, 1.1955180454176861, 1.195459048391156, 1.1955103751699514, 1.1955058921360204, 1.1955243718075326, 1.724427188730092, 1.158322450550558, 1.1550673710783417, 1.1534016050488225, 1.151266019736976, 1.1489333735422773, 1.1468767276145488, 1.1432618409007491, 2.9533996340354753, 1.843310500089893, 1.8524108153855583, 1.8667820966523967, 1.8982950097411198, 3.133439551655766, 3.3112547958423364, 1.8507462773071097, 1.2836680906565834, 2.85683772210618, 1.2939240164711812, 1.2973497045179632, 1.2982385227547346, 1.2990228791694436, 3.1818017255877216, 2.0124280253420452, 3.5946553577329037, 1.9957118364729007, 1.0606814817078212, 1.0607167407326203, 1.0607245334893247, 1.060729517771199, 1.0607517036902867, 1.0607855837972333, 1.0607745093216956, 1.0607778026455466, 1.0607971174755164, 1.9494330910897417, 1.0689056534890033, 1.0697475430830845, 1.0704163084675489, 1.0713328026448785, 1.0718897308483706, 1.0724243241822777, 1.0737896205953776, 2.85683772210618, 1.7660375474622052, 1.771824174427468, 1.771957298004967, 4.020207239497777, 3.3112547958423364, 1.1432618409007491, 4.426656622064266, 1.1468767276145488, 1.208815913458233, 1.1489333735422773, 2.9533996340354753, 1.151266019736976, 1.724427188730092, 3.2006784281726786, 3.1818017255877216, 3.5946553577329037, 1.8887461572899205, 3.133439551655766, 1.8195432125366382, 0.9999485014199437, 0.9999584746400731, 0.9999572200125859, 0.9999913159096059, 1.0000617742388809, 1.0001182650494505, 1.6648428793919716, 1.752060341742425, 1.9494330910897417, 2.360512557641477, 3.3112547958423364, 3.5946553577329037, 4.020207239497777, 1.0607971174755164, 1.0607778026455466, 1.0607517036902867, 1.060729517771199, 1.0607745093216956, 1.0607167407326203, 1.0607245334893247, 1.0606814817078212, 1.0607855837972333, 1.0689056534890033, 1.0697475430830845, 1.0704163084675489, 1.0713328026448785, 1.0718897308483706, 1.0724243241822777, 1.0737896205953776, 2.0526680433817743, 2.0526183896297345, 1.3010233467318981, 2.0525801461142326, 2.0527196345368823, 1.3010803603518724, 2.85683772210618, 3.133439551655766, 4.426656622064266, 3.1818017255877216, 2.8050748795872815, 2.052735061869936, 1.771824174427468, 2.9533996340354753, 2.0529559728888365, 2.015562056800186, 3.2006784281726786], \"Category\": [\"Default\", \"Default\", \"Default\", \"Default\", \"Default\", \"Default\", \"Default\", \"Default\", \"Default\", \"Default\", \"Default\", \"Default\", \"Default\", \"Default\", \"Default\", \"Default\", \"Default\", \"Default\", \"Default\", \"Default\", \"Default\", \"Default\", \"Default\", \"Default\", \"Default\", \"Default\", \"Default\", \"Default\", \"Default\", \"Default\", \"Topic1\", \"Topic1\", \"Topic1\", \"Topic1\", \"Topic1\", \"Topic1\", \"Topic1\", \"Topic1\", \"Topic1\", \"Topic1\", \"Topic1\", \"Topic1\", \"Topic1\", \"Topic1\", \"Topic1\", \"Topic1\", \"Topic1\", \"Topic1\", \"Topic1\", \"Topic1\", \"Topic1\", \"Topic1\", \"Topic1\", \"Topic1\", \"Topic1\", \"Topic1\", \"Topic1\", \"Topic1\", \"Topic1\", \"Topic1\", \"Topic1\", \"Topic1\", \"Topic1\", \"Topic1\", \"Topic1\", \"Topic1\", \"Topic1\", \"Topic1\", \"Topic1\", \"Topic1\", \"Topic1\", \"Topic1\", \"Topic1\", \"Topic1\", \"Topic2\", \"Topic2\", \"Topic2\", \"Topic2\", \"Topic2\", \"Topic2\", \"Topic2\", \"Topic2\", \"Topic2\", \"Topic2\", \"Topic2\", \"Topic2\", \"Topic2\", \"Topic2\", \"Topic2\", \"Topic2\", \"Topic2\", \"Topic2\", \"Topic2\", \"Topic2\", \"Topic2\", \"Topic2\", \"Topic2\", \"Topic2\", \"Topic2\", \"Topic2\", \"Topic2\", \"Topic2\", \"Topic2\", \"Topic2\", \"Topic2\", \"Topic3\", \"Topic3\", \"Topic3\", \"Topic3\", \"Topic3\", \"Topic3\", \"Topic3\", \"Topic3\", \"Topic3\", \"Topic3\", \"Topic3\", \"Topic3\", \"Topic3\", \"Topic3\", \"Topic3\", \"Topic3\", \"Topic3\", \"Topic3\", \"Topic3\", \"Topic3\", \"Topic3\", \"Topic3\", \"Topic3\", \"Topic3\", \"Topic3\", \"Topic3\", \"Topic3\", \"Topic3\", \"Topic3\", \"Topic3\", \"Topic3\", \"Topic3\", \"Topic3\", \"Topic3\", \"Topic4\", \"Topic4\", \"Topic4\", \"Topic4\", \"Topic4\", \"Topic4\", \"Topic4\", \"Topic4\", \"Topic4\", \"Topic4\", \"Topic4\", \"Topic4\", \"Topic4\", \"Topic4\", \"Topic4\", \"Topic4\", \"Topic4\", \"Topic4\", \"Topic4\", \"Topic4\", \"Topic4\", \"Topic4\", \"Topic4\", \"Topic4\", \"Topic4\", \"Topic4\", \"Topic4\", \"Topic4\", \"Topic4\", \"Topic4\", \"Topic4\", \"Topic4\", \"Topic4\", \"Topic4\", \"Topic4\", \"Topic4\", \"Topic5\", \"Topic5\", \"Topic5\", \"Topic5\", \"Topic5\", \"Topic5\", \"Topic5\", \"Topic5\", \"Topic5\", \"Topic5\", \"Topic5\", \"Topic5\", \"Topic5\", \"Topic5\", \"Topic5\", \"Topic5\", \"Topic5\", \"Topic5\", \"Topic5\", \"Topic5\", \"Topic5\", \"Topic5\", \"Topic5\", \"Topic5\", \"Topic5\", \"Topic5\", \"Topic5\", \"Topic5\", \"Topic5\", \"Topic5\", \"Topic5\", \"Topic5\", \"Topic5\", \"Topic5\", \"Topic5\", \"Topic5\", \"Topic5\", \"Topic5\", \"Topic5\", \"Topic5\", \"Topic5\", \"Topic5\", \"Topic5\", \"Topic5\", \"Topic5\", \"Topic5\", \"Topic5\"], \"logprob\": [30.0, 29.0, 28.0, 27.0, 26.0, 25.0, 24.0, 23.0, 22.0, 21.0, 20.0, 19.0, 18.0, 17.0, 16.0, 15.0, 14.0, 13.0, 12.0, 11.0, 10.0, 9.0, 8.0, 7.0, 6.0, 5.0, 4.0, 3.0, 2.0, 1.0, -3.6886, -3.7175, -3.306, -4.2943, -4.2943, -4.2944, -4.2944, -4.2945, -4.2946, -4.2948, -4.295, -4.2954, -4.2956, -4.2956, -4.2957, -4.296, -4.3141, -4.3144, -4.3187, -4.3187, -4.3191, -4.3211, -3.955, -4.3439, -3.8133, -4.4687, -4.495, -4.4984, -4.4995, -4.5059, -3.6893, -3.7021, -4.2949, -4.2955, -3.9103, -4.2941, -4.2947, -4.2938, -4.2949, -4.2951, -4.2958, -4.2959, -4.2937, -4.2959, -3.868, -3.868, -3.8681, -3.8681, -3.8682, -3.8684, -3.8685, -3.5544, -3.2621, -4.0851, -4.1304, -4.1334, -3.2439, -4.1419, -4.1486, -4.1546, -4.1614, -3.8677, -4.1882, -3.2391, -4.2707, -3.8681, -3.8685, -3.8689, -3.8691, -3.8697, -3.8701, -3.8699, -4.109, -3.356, -3.8387, -3.2477, -3.2478, -3.8535, -3.8537, -3.8539, -3.854, -3.8541, -3.8543, -3.5467, -4.1149, -4.1414, -4.1553, -4.1729, -4.1938, -4.2115, -4.2441, -3.3123, -3.8534, -3.8535, -3.8534, -3.8536, -3.608, -3.5618, -4.1807, -4.5512, -3.8531, -4.6727, -4.7185, -4.7307, -4.7418, -3.8528, -4.313, -3.8536, -4.5574, -3.9959, -3.9962, -3.9962, -3.9963, -3.9963, -3.9963, -3.9964, -3.9965, -3.9968, -3.403, -4.0207, -4.0232, -4.0254, -4.0282, -4.0299, -4.0316, -4.0359, -3.4041, -3.9752, -3.9957, -3.9957, -3.2204, -3.5868, -4.7096, -3.3913, -4.7563, -4.7147, -4.7837, -3.8525, -4.816, -4.4409, -4.0152, -4.0298, -4.0365, -4.5125, -4.3193, -2.5278, -3.5088, -3.5089, -3.5089, -3.509, -3.5094, -3.5096, -3.5087, -3.5086, -3.5084, -3.5093, -3.5075, -3.5085, -3.5077, -5.2967, -5.2974, -5.2976, -5.2976, -5.2977, -5.2978, -5.2979, -5.2982, -5.2983, -5.2979, -5.2981, -5.2975, -5.2973, -5.2977, -5.2972, -5.297, -5.2889, -5.2895, -5.2946, -5.2909, -5.2909, -5.2954, -5.2879, -5.2881, -5.2901, -5.2911, -5.2913, -5.2914, -5.2927, -5.2929, -5.2934, -5.2936, -5.2939], \"loglift\": [30.0, 29.0, 28.0, 27.0, 26.0, 25.0, 24.0, 23.0, 22.0, 21.0, 20.0, 19.0, 18.0, 17.0, 16.0, 15.0, 14.0, 13.0, 12.0, 11.0, 10.0, 9.0, 8.0, 7.0, 6.0, 5.0, 4.0, 3.0, 2.0, 1.0, 0.843, 0.8217, 0.7618, 0.6734, 0.6733, 0.6733, 0.6732, 0.6732, 0.6731, 0.673, 0.6728, 0.6725, 0.6723, 0.6723, 0.6722, 0.672, 0.658, 0.6577, 0.6543, 0.6543, 0.654, 0.6525, 0.6402, 0.6345, 0.559, 0.5352, 0.5139, 0.5111, 0.5103, 0.5051, 0.3997, 0.0414, 0.3641, 0.3636, -0.0705, 0.246, 0.2355, 0.218, 0.2171, 0.2169, 0.2162, 0.216, -0.1123, -0.0962, 1.0689, 1.0688, 1.0688, 1.0688, 1.0687, 1.0685, 1.0684, 0.9774, 0.9376, 0.8777, 0.8372, 0.8345, 0.8298, 0.8269, 0.8208, 0.8155, 0.8094, 0.8026, 0.7852, 0.7125, 0.7107, 0.6463, 0.6435, 0.6431, 0.6428, 0.6423, 0.642, 0.6419, 0.4212, 0.3875, 0.0011, 1.395, 1.3949, 1.199, 1.1988, 1.1986, 1.1986, 1.1984, 1.1983, 1.1395, 0.9693, 0.9456, 0.9331, 0.9173, 0.8985, 0.8826, 0.8531, 0.8359, 0.7662, 0.7611, 0.7535, 0.7365, 0.481, 0.472, 0.4348, 0.4302, 0.3283, 0.3008, 0.2523, 0.2394, 0.2277, 0.2208, 0.2187, 0.0981, -0.0173, 1.1763, 1.176, 1.176, 1.1759, 1.1758, 1.1758, 1.1757, 1.1756, 1.1753, 1.1606, 1.1438, 1.1405, 1.1377, 1.134, 1.1318, 1.1295, 1.1241, 0.7773, 0.6871, 0.6634, 0.6634, 0.6194, 0.447, 0.3876, 0.3521, 0.3377, 0.3268, 0.3086, 0.2957, 0.2743, 0.2453, 0.0525, 0.0438, -0.0849, 0.0827, -0.2303, 2.1048, 1.7223, 1.7223, 1.7222, 1.7221, 1.7217, 1.7214, 1.2127, 1.1617, 1.0552, 0.863, 0.5263, 0.4432, 0.3321, -0.1246, -0.1253, -0.1254, -0.1255, -0.1256, -0.1256, -0.1258, -0.126, -0.1262, -0.1334, -0.1344, -0.1345, -0.1351, -0.136, -0.136, -0.1371, -0.7769, -0.7775, -0.3267, -0.7788, -0.7789, -0.3275, -1.1065, -1.1992, -1.5467, -1.2174, -1.0917, -0.7794, -0.6336, -1.1447, -0.7816, -0.7634, -1.2262]}, \"token.table\": {\"Topic\": [1, 1, 2, 2, 2, 4, 2, 4, 2, 1, 3, 1, 4, 2, 1, 1, 3, 1, 2, 4, 4, 2, 5, 1, 4, 3, 3, 3, 1, 3, 2, 3, 4, 4, 1, 1, 1, 3, 4, 3, 1, 3, 1, 3, 1, 1, 2, 3, 1, 3, 4, 1, 2, 1, 2, 4, 1, 2, 4, 4, 1, 2, 4, 1, 2, 1, 2, 4, 2, 1, 4, 1, 4, 2, 2, 1, 1, 3, 4, 2, 4, 1, 3, 1, 3, 1, 2, 2, 3, 1, 3, 4, 1, 2, 1, 1, 4, 3, 1, 2, 1, 2, 1, 4, 4, 2, 1, 1, 1, 1, 1, 1, 4, 1, 3, 1, 3, 4, 3, 2, 2, 4, 1, 1, 3, 1, 2, 1, 1, 1, 1, 2, 3, 4, 1, 2, 1, 2, 3, 1, 3, 1, 4], \"Freq\": [0.768404791336745, 0.49613952427123686, 0.49613952427123686, 0.7708021950577736, 0.7686080017817494, 0.9427044924073933, 0.7728429082931954, 0.9355362624717259, 0.7646797979701249, 0.7686257149127624, 0.55522199028233, 0.5643900870260624, 0.5643900870260624, 0.7450941377598331, 0.7684183002125613, 0.540322578119692, 0.540322578119692, 0.24874339565761405, 0.24874339565761405, 0.24874339565761405, 0.9342159607336703, 0.4969121814083431, 0.5495884863354759, 0.6248675225839022, 0.3124337612919511, 0.8364628369350973, 0.8364530440212472, 0.8364584595367296, 1.0012380075025955, 0.5552165736933331, 0.5563815723522855, 0.27819078617614273, 0.27819078617614273, 0.932931785071332, 0.8023805177696196, 0.7684157370902283, 0.35003738303439874, 0.35003738303439874, 0.35003738303439874, 0.8364574703267011, 0.7684059613221046, 0.8657503666356927, 0.5398370554168144, 0.5398370554168144, 0.7685250747995338, 0.48717083272388173, 0.48717083272388173, 0.871933291453175, 0.5356811605346162, 0.5356811605346162, 0.9427518346449787, 0.487182617603064, 0.487182617603064, 0.45180825411918835, 0.45180825411918835, 0.22590412705959417, 0.4871916947521458, 0.4871916947521458, 0.942758760750128, 0.9426873277896896, 0.4871549273821296, 0.4871549273821296, 0.5129696446473039, 0.5010743443639333, 0.5010743443639333, 0.35649672216491163, 0.7129934443298233, 0.9427900998044042, 0.5707565979180257, 0.5662393766412268, 0.5662393766412268, 0.5643476855372825, 0.5643476855372825, 0.7450815860932529, 0.77901757259426, 0.7685708645589148, 0.5425021991418336, 0.5425021991418336, 0.9426975774127296, 0.769259043105115, 0.9347999969394019, 0.4236368058126991, 0.8364659735915576, 0.7685523528105357, 0.8703724889781026, 0.52945177208718, 0.7450889899697446, 0.7698093821406519, 0.8686089772965462, 0.33859285024479296, 0.33859285024479296, 0.33859285024479296, 0.4871025064375056, 0.4871025064375056, 0.80142565939566, 0.7967207633567913, 0.9427074191662492, 0.8364987502882646, 0.8012749242695311, 0.7683589935895094, 0.4883828319263199, 0.4883828319263199, 0.7725288150608047, 0.9427474047306578, 0.9312811195227758, 0.7451575633840644, 0.7725528877632093, 0.8272558202341633, 0.7725666352030063, 0.7718009539451889, 0.7684255453060563, 0.8007510734704739, 0.9427276869045457, 0.6382762351177842, 0.3191381175588921, 0.3020003176003296, 0.3020003176003296, 0.3020003176003296, 0.8633174635652565, 0.745118307137696, 0.7702744776653971, 0.9334167660424716, 0.768592033569359, 0.7684054035578395, 0.5799027100334826, 0.768504617666561, 0.7451557816898682, 0.7767027079127908, 0.7717509044431764, 0.7729141755771751, 0.7684571800676543, 0.6285746795333619, 0.31428733976668094, 0.31428733976668094, 0.9936718793230253, 0.7450859617390523, 0.48715858862314226, 0.48715858862314226, 0.8670007009030223, 0.5267885101464683, 0.5267885101464683, 0.6006572826651465, 0.9324667274425157], \"Term\": [\"10\", \"2023\", \"2023\", \"4\", \"accelerate\", \"achieve\", \"action\", \"adopt\", \"agenda\", \"ai\", \"analytics\", \"artificial\", \"artificial\", \"base\", \"beyond\", \"build\", \"build\", \"business\", \"business\", \"business\", \"change\", \"cio\", \"cloud\", \"cost\", \"cost\", \"create\", \"culture\", \"cx\", \"cybersecurity\", \"data\", \"digital\", \"digital\", \"digital\", \"digitalization\", \"discipline\", \"download\", \"drive\", \"drive\", \"drive\", \"driven\", \"ebook\", \"effectively\", \"enterprise\", \"enterprise\", \"everything\", \"executive\", \"executive\", \"explore\", \"focus\", \"focus\", \"functionality\", \"future\", \"future\", \"gartner\", \"gartner\", \"gartner\", \"genai\", \"genai\", \"goal\", \"growth\", \"guide\", \"guide\", \"help\", \"impact\", \"impact\", \"implement\", \"implement\", \"improve\", \"initiative\", \"insight\", \"insight\", \"intelligence\", \"intelligence\", \"interaction\", \"key\", \"know\", \"leader\", \"leader\", \"leadership\", \"learn\", \"management\", \"maximize\", \"must\", \"need\", \"one\", \"optimization\", \"organization\", \"outline\", \"page\", \"plan\", \"plan\", \"plan\", \"planning\", \"planning\", \"program\", \"pursue\", \"quality\", \"redefine\", \"reducing\", \"report\", \"research\", \"research\", \"resilient\", \"revenue\", \"right\", \"roadmap\", \"save\", \"saving\", \"scoping\", \"security\", \"see\", \"specific\", \"speed\", \"strategic\", \"strategic\", \"strategy\", \"strategy\", \"strategy\", \"successful\", \"successfully\", \"take\", \"talent\", \"technique\", \"technology\", \"template\", \"term\", \"thousand\", \"threat\", \"time\", \"tool\", \"top\", \"transformation\", \"transformation\", \"transformation\", \"trend\", \"unbiased\", \"understand\", \"understand\", \"unlock\", \"use\", \"use\", \"value\", \"work\"]}, \"R\": 30, \"lambda.step\": 0.01, \"plot.opts\": {\"xlab\": \"PC1\", \"ylab\": \"PC2\"}, \"topic.order\": [2, 4, 5, 1, 3]};\n",
       "\n",
       "function LDAvis_load_lib(url, callback){\n",
       "  var s = document.createElement('script');\n",
       "  s.src = url;\n",
       "  s.async = true;\n",
       "  s.onreadystatechange = s.onload = callback;\n",
       "  s.onerror = function(){console.warn(\"failed to load library \" + url);};\n",
       "  document.getElementsByTagName(\"head\")[0].appendChild(s);\n",
       "}\n",
       "\n",
       "if(typeof(LDAvis) !== \"undefined\"){\n",
       "   // already loaded: just create the visualization\n",
       "   !function(LDAvis){\n",
       "       new LDAvis(\"#\" + \"ldavis_el1746820540808011208122043063\", ldavis_el1746820540808011208122043063_data);\n",
       "   }(LDAvis);\n",
       "}else if(typeof define === \"function\" && define.amd){\n",
       "   // require.js is available: use it to load d3/LDAvis\n",
       "   require.config({paths: {d3: \"https://d3js.org/d3.v5\"}});\n",
       "   require([\"d3\"], function(d3){\n",
       "      window.d3 = d3;\n",
       "      LDAvis_load_lib(\"https://cdn.jsdelivr.net/gh/bmabey/pyLDAvis@3.4.0/pyLDAvis/js/ldavis.v3.0.0.js\", function(){\n",
       "        new LDAvis(\"#\" + \"ldavis_el1746820540808011208122043063\", ldavis_el1746820540808011208122043063_data);\n",
       "      });\n",
       "    });\n",
       "}else{\n",
       "    // require.js not available: dynamically load d3 & LDAvis\n",
       "    LDAvis_load_lib(\"https://d3js.org/d3.v5.js\", function(){\n",
       "         LDAvis_load_lib(\"https://cdn.jsdelivr.net/gh/bmabey/pyLDAvis@3.4.0/pyLDAvis/js/ldavis.v3.0.0.js\", function(){\n",
       "                 new LDAvis(\"#\" + \"ldavis_el1746820540808011208122043063\", ldavis_el1746820540808011208122043063_data);\n",
       "            })\n",
       "         });\n",
       "}\n",
       "</script>"
      ],
      "text/plain": [
       "PreparedData(topic_coordinates=              x         y  topics  cluster       Freq\n",
       "topic                                                \n",
       "1      0.081356 -0.065065       1        1  33.430293\n",
       "3     -0.088870 -0.068599       2        1  23.078233\n",
       "4     -0.041611  0.079510       3        1  18.312170\n",
       "0      0.048852  0.051272       4        1  16.405828\n",
       "2      0.000272  0.002883       5        1   8.773476, topic_info=               Term      Freq     Total Category  logprob  loglift\n",
       "40            cloud  1.000000  1.000000  Default  30.0000  30.0000\n",
       "45             help  1.000000  1.000000  Default  29.0000  29.0000\n",
       "42          digital  3.000000  3.000000  Default  28.0000  28.0000\n",
       "101            data  1.000000  1.000000  Default  27.0000  27.0000\n",
       "97        analytics  1.000000  1.000000  Default  26.0000  26.0000\n",
       "46       initiative  1.000000  1.000000  Default  25.0000  25.0000\n",
       "39         business  4.000000  4.000000  Default  24.0000  24.0000\n",
       "15         strategy  3.000000  3.000000  Default  23.0000  23.0000\n",
       "49         maximize  2.000000  2.000000  Default  22.0000  22.0000\n",
       "51            value  1.000000  1.000000  Default  21.0000  21.0000\n",
       "44       foundation  0.000000  0.000000  Default  20.0000  20.0000\n",
       "43             form  0.000000  0.000000  Default  19.0000  19.0000\n",
       "41          compute  0.000000  0.000000  Default  18.0000  18.0000\n",
       "48             many  0.000000  0.000000  Default  17.0000  17.0000\n",
       "50            solid  1.000000  1.000000  Default  16.0000  16.0000\n",
       "47       investment  1.000000  1.000000  Default  15.0000  15.0000\n",
       "105  transformation  3.000000  3.000000  Default  14.0000  14.0000\n",
       "13             plan  2.000000  2.000000  Default  13.0000  13.0000\n",
       "4         implement  2.000000  2.000000  Default  12.0000  12.0000\n",
       "17         template  1.000000  1.000000  Default  11.0000  11.0000\n",
       "56            drive  2.000000  2.000000  Default  10.0000  10.0000\n",
       "91              cio  2.000000  2.000000  Default   9.0000   9.0000\n",
       "73             cost  3.000000  3.000000  Default   8.0000   8.0000\n",
       "100              cx  1.000000  1.000000  Default   7.0000   7.0000\n",
       "102          driven  1.000000  1.000000  Default   6.0000   6.0000\n",
       "104        redefine  1.000000  1.000000  Default   5.0000   5.0000\n",
       "98           create  1.000000  1.000000  Default   4.0000   4.0000\n",
       "103            must  1.000000  1.000000  Default   3.0000   3.0000\n",
       "99          culture  1.000000  1.000000  Default   2.0000   2.0000\n",
       "20          gartner  4.000000  4.000000  Default   1.0000   1.0000\n",
       "62            trend  1.563227  2.012737   Topic1  -3.6886   0.8430\n",
       "19    cybersecurity  1.518740  1.997527   Topic1  -3.7175   0.8217\n",
       "73             cost  2.291970  3.200678   Topic1  -3.3060   0.7618\n",
       "60       technology  0.853085  1.301396   Topic1  -4.2943   0.6734\n",
       "57            ebook  0.853058  1.301395   Topic1  -4.2943   0.6733\n",
       "52               10  0.853020  1.301397   Topic1  -4.2944   0.6733\n",
       "54           beyond  0.852964  1.301375   Topic1  -4.2944   0.6732\n",
       "55         download  0.852947  1.301379   Topic1  -4.2945   0.6732\n",
       "59              see  0.852854  1.301362   Topic1  -4.2946   0.6731\n",
       "61              top  0.852694  1.301309   Topic1  -4.2948   0.6730\n",
       "38             term  0.852525  1.301228   Topic1  -4.2950   0.6728\n",
       "33       everything  0.852176  1.301194   Topic1  -4.2954   0.6725\n",
       "37        technique  0.851950  1.301080   Topic1  -4.2956   0.6723\n",
       "35             know  0.851970  1.301116   Topic1  -4.2956   0.6723\n",
       "36             need  0.851918  1.301148   Topic1  -4.2957   0.6722\n",
       "31               ai  0.851665  1.301023   Topic1  -4.2960   0.6720\n",
       "28             time  0.836387  1.295755   Topic1  -4.3141   0.6580\n",
       "26         security  0.836107  1.295671   Topic1  -4.3144   0.6577\n",
       "24             save  0.832478  1.294410   Topic1  -4.3187   0.6543\n",
       "23        resilient  0.832496  1.294450   Topic1  -4.3187   0.6543\n",
       "25          scoping  0.832211  1.294387   Topic1  -4.3191   0.6540\n",
       "29             tool  0.830556  1.293805   Topic1  -4.3211   0.6525\n",
       "80     optimization  1.197717  1.888746   Topic1  -3.9550   0.6402\n",
       "27           threat  0.811808  1.287494   Topic1  -4.3439   0.6345\n",
       "49         maximize  1.380061  2.360513   Topic1  -3.8133   0.5590\n",
       "82           pursue  0.716579  1.255145   Topic1  -4.4687   0.5352\n",
       "85         specific  0.697967  1.248828   Topic1  -4.4950   0.5139\n",
       "83         reducing  0.695571  1.248011   Topic1  -4.4984   0.5111\n",
       "81          program  0.694853  1.247776   Topic1  -4.4995   0.5103\n",
       "74       discipline  0.690408  1.246291   Topic1  -4.5059   0.5051\n",
       "14        strategic  1.562273  3.133440   Topic1  -3.6893   0.3997\n",
       "20          gartner  1.542351  4.426657   Topic1  -3.7021   0.0414\n",
       "34     intelligence  0.852535  1.771957   Topic1  -4.2949   0.3641\n",
       "32       artificial  0.852047  1.771824   Topic1  -4.2955   0.3636\n",
       "39         business  1.252459  4.020207   Topic1  -3.9103  -0.0705\n",
       "58           impact  0.853240  1.995712   Topic1  -4.2941   0.2460\n",
       "53             2023  0.852755  2.015562   Topic1  -4.2947   0.2355\n",
       "5          planning  0.853485  2.052956   Topic1  -4.2938   0.2180\n",
       "2             genai  0.852541  2.052580   Topic1  -4.2949   0.2171\n",
       "0         executive  0.852399  2.052668   Topic1  -4.2951   0.2169\n",
       "6        understand  0.851843  2.052720   Topic1  -4.2958   0.2162\n",
       "3             guide  0.851684  2.052735   Topic1  -4.2959   0.2160\n",
       "56            drive  0.853610  2.856838   Topic1  -4.2937  -0.1123\n",
       "4         implement  0.851714  2.805075   Topic1  -4.2959  -0.0962\n",
       "112        unbiased  0.901987  1.342127   Topic2  -3.8680   1.0689\n",
       "107     interaction  0.901940  1.342135   Topic2  -3.8680   1.0688\n",
       "108    organization  0.901902  1.342122   Topic2  -3.8681   1.0688\n",
       "106            base  0.901879  1.342112   Topic2  -3.8681   1.0688\n",
       "110    successfully  0.901779  1.342069   Topic2  -3.8682   1.0687\n",
       "109         roadmap  0.901567  1.341998   Topic2  -3.8684   1.0685\n",
       "111        thousand  0.901481  1.342001   Topic2  -3.8685   1.0684\n",
       "91              cio  1.234255  2.012428   Topic2  -3.5544   0.9774\n",
       "4         implement  1.653297  2.805075   Topic2  -3.2621   0.9376\n",
       "90           agenda  0.725928  1.307737   Topic2  -4.0851   0.8777\n",
       "95           report  0.693822  1.301475   Topic2  -4.1304   0.8372\n",
       "88       accelerate  0.691702  1.301053   Topic2  -4.1334   0.8345\n",
       "105  transformation  1.683580  3.181802   Topic2  -3.2439   0.8298\n",
       "93            learn  0.685849  1.299952   Topic2  -4.1419   0.8269\n",
       "94          outline  0.681253  1.299023   Topic2  -4.1486   0.8208\n",
       "96             take  0.677205  1.298239   Topic2  -4.1546   0.8155\n",
       "87                4  0.672613  1.297350   Topic2  -4.1614   0.8094\n",
       "46       initiative  0.902207  1.752060   Topic2  -3.8677   0.8026\n",
       "89           action  0.654813  1.293924   Topic2  -4.1882   0.7852\n",
       "42          digital  1.691668  3.594655   Topic2  -3.2391   0.7125\n",
       "92              key  0.602998  1.283668   Topic2  -4.2707   0.7107\n",
       "22         research  0.901850  2.047574   Topic2  -3.8681   0.6463\n",
       "1            future  0.901508  2.052618   Topic2  -3.8685   0.6435\n",
       "3             guide  0.901181  2.052735   Topic2  -3.8689   0.6431\n",
       "6        understand  0.900975  2.052720   Topic2  -3.8691   0.6428\n",
       "0         executive  0.900441  2.052668   Topic2  -3.8697   0.6423\n",
       "2             genai  0.900124  2.052580   Topic2  -3.8701   0.6420\n",
       "5          planning  0.900240  2.052956   Topic2  -3.8699   0.6419\n",
       "53             2023  0.708828  2.015562   Topic2  -4.1090   0.4212\n",
       "20          gartner  1.505033  4.426657   Topic2  -3.3560   0.3875\n",
       "39         business  0.928814  4.020207   Topic2  -3.8387   0.0011\n",
       "101            data  1.330805  1.801099   Topic3  -3.2477   1.3950\n",
       "97        analytics  1.330686  1.801081   Topic3  -3.2478   1.3949\n",
       "100              cx  0.726120  1.195517   Topic3  -3.8535   1.1990\n",
       "102          driven  0.725979  1.195518   Topic3  -3.8537   1.1988\n",
       "104        redefine  0.725837  1.195459   Topic3  -3.8539   1.1986\n",
       "98           create  0.725801  1.195510   Topic3  -3.8540   1.1986\n",
       "103            must  0.725706  1.195506   Topic3  -3.8541   1.1984\n",
       "99          culture  0.725591  1.195524   Topic3  -3.8543   1.1983\n",
       "17         template  0.986862  1.724427   Topic3  -3.5467   1.1395\n",
       "16       successful  0.559131  1.158322   Topic3  -4.1149   0.9693\n",
       "9       effectively  0.544508  1.155067   Topic3  -4.1414   0.9456\n",
       "18           unlock  0.536999  1.153402   Topic3  -4.1553   0.9331\n",
       "12             page  0.527612  1.151266   Topic3  -4.1729   0.9173\n",
       "11              one  0.516706  1.148933   Topic3  -4.1938   0.8985\n",
       "10          explore  0.507637  1.146877   Topic3  -4.2115   0.8826\n",
       "8       communicate  0.491344  1.143262   Topic3  -4.2441   0.8531\n",
       "13             plan  1.247584  2.953400   Topic3  -3.3123   0.8359\n",
       "79           leader  0.726246  1.843311   Topic3  -3.8534   0.7662\n",
       "75       enterprise  0.726162  1.852411   Topic3  -3.8535   0.7611\n",
       "76            focus  0.726207  1.866782   Topic3  -3.8534   0.7535\n",
       "30              use  0.726065  1.898295   Topic3  -3.8536   0.7365\n",
       "14        strategic  0.928222  3.133440   Topic3  -3.6080   0.4810\n",
       "15         strategy  0.972138  3.311255   Topic3  -3.5618   0.4720\n",
       "7             build  0.523519  1.850746   Topic3  -4.1807   0.4348\n",
       "92              key  0.361429  1.283668   Topic3  -4.5512   0.4302\n",
       "56            drive  0.726469  2.856838   Topic3  -3.8531   0.3283\n",
       "89           action  0.320089  1.293924   Topic3  -4.6727   0.3008\n",
       "87                4  0.305745  1.297350   Topic3  -4.7185   0.2523\n",
       "96             take  0.302045  1.298239   Topic3  -4.7307   0.2394\n",
       "94          outline  0.298697  1.299023   Topic3  -4.7418   0.2277\n",
       "105  transformation  0.726643  3.181802   Topic3  -3.8528   0.2208\n",
       "91              cio  0.458619  2.012428   Topic3  -4.3130   0.2187\n",
       "42          digital  0.726098  3.594655   Topic3  -3.8536   0.0981\n",
       "58           impact  0.359198  1.995712   Topic3  -4.5574  -0.0173\n",
       "67          improve  0.564217  1.060681   Topic4  -3.9959   1.1763\n",
       "65             goal  0.564055  1.060717   Topic4  -3.9962   1.1760\n",
       "64    functionality  0.564058  1.060725   Topic4  -3.9962   1.1760\n",
       "70          revenue  0.564008  1.060730   Topic4  -3.9963   1.1759\n",
       "71            speed  0.563974  1.060752   Topic4  -3.9963   1.1758\n",
       "68       leadership  0.563978  1.060786   Topic4  -3.9963   1.1758\n",
       "69          quality  0.563913  1.060775   Topic4  -3.9964   1.1757\n",
       "63          achieve  0.563859  1.060778   Topic4  -3.9965   1.1756\n",
       "66           growth  0.563694  1.060797   Topic4  -3.9968   1.1753\n",
       "45             help  1.020779  1.949433   Topic4  -3.4030   1.1606\n",
       "113           adopt  0.550387  1.068906   Topic4  -4.0207   1.1438\n",
       "116      management  0.549017  1.069748   Topic4  -4.0232   1.1405\n",
       "114          change  0.547809  1.070416   Topic4  -4.0254   1.1377\n",
       "118          talent  0.546276  1.071333   Topic4  -4.0282   1.1340\n",
       "115  digitalization  0.545344  1.071890   Topic4  -4.0299   1.1318\n",
       "119            work  0.544402  1.072424   Topic4  -4.0316   1.1295\n",
       "117           right  0.542109  1.073790   Topic4  -4.0359   1.1241\n",
       "56            drive  1.019644  2.856838   Topic4  -3.4041   0.7773\n",
       "21          insight  0.575989  1.766038   Topic4  -3.9752   0.6871\n",
       "32       artificial  0.564312  1.771824   Topic4  -3.9957   0.6634\n",
       "34     intelligence  0.564342  1.771957   Topic4  -3.9957   0.6634\n",
       "39         business  1.225298  4.020207   Topic4  -3.2204   0.6194\n",
       "15         strategy  0.849437  3.311255   Topic4  -3.5868   0.4470\n",
       "8       communicate  0.276359  1.143262   Topic4  -4.7096   0.3876\n",
       "20          gartner  1.032774  4.426657   Topic4  -3.3913   0.3521\n",
       "10          explore  0.263745  1.146877   Topic4  -4.7563   0.3377\n",
       "84           saving  0.274963  1.208816   Topic4  -4.7147   0.3268\n",
       "11              one  0.256637  1.148933   Topic4  -4.7837   0.3086\n",
       "13             plan  0.651240  2.953400   Topic4  -3.8525   0.2957\n",
       "12             page  0.248476  1.151266   Topic4  -4.8160   0.2743\n",
       "17         template  0.361564  1.724427   Topic4  -4.4409   0.2453\n",
       "73             cost  0.553406  3.200678   Topic4  -4.0152   0.0525\n",
       "105  transformation  0.545394  3.181802   Topic4  -4.0298   0.0438\n",
       "42          digital  0.541737  3.594655   Topic4  -4.0365  -0.0849\n",
       "80     optimization  0.336594  1.888746   Topic4  -4.5125   0.0827\n",
       "14        strategic  0.408326  3.133440   Topic4  -4.3193  -0.2303\n",
       "40            cloud  1.309848  1.819543   Topic5  -2.5278   2.1048\n",
       "44       foundation  0.491070  0.999949   Topic5  -3.5088   1.7223\n",
       "43             form  0.491049  0.999958   Topic5  -3.5089   1.7223\n",
       "41          compute  0.491034  0.999957   Topic5  -3.5089   1.7222\n",
       "48             many  0.490984  0.999991   Topic5  -3.5090   1.7221\n",
       "50            solid  0.490803  1.000062   Topic5  -3.5094   1.7217\n",
       "47       investment  0.490710  1.000118   Topic5  -3.5096   1.7214\n",
       "51            value  0.491157  1.664843   Topic5  -3.5087   1.2127\n",
       "46       initiative  0.491190  1.752060   Topic5  -3.5086   1.1617\n",
       "45             help  0.491277  1.949433   Topic5  -3.5084   1.0552\n",
       "49         maximize  0.490863  2.360513   Topic5  -3.5093   0.8630\n",
       "15         strategy  0.491732  3.311255   Topic5  -3.5075   0.5263\n",
       "42          digital  0.491248  3.594655   Topic5  -3.5085   0.4432\n",
       "39         business  0.491634  4.020207   Topic5  -3.5077   0.3321\n",
       "66           growth  0.082168  1.060797   Topic5  -5.2967  -0.1246\n",
       "63          achieve  0.082110  1.060778   Topic5  -5.2974  -0.1253\n",
       "71            speed  0.082093  1.060752   Topic5  -5.2976  -0.1254\n",
       "70          revenue  0.082088  1.060730   Topic5  -5.2976  -0.1255\n",
       "69          quality  0.082086  1.060775   Topic5  -5.2977  -0.1256\n",
       "65             goal  0.082075  1.060717   Topic5  -5.2978  -0.1256\n",
       "64    functionality  0.082063  1.060725   Topic5  -5.2979  -0.1258\n",
       "67          improve  0.082040  1.060681   Topic5  -5.2982  -0.1260\n",
       "68       leadership  0.082032  1.060786   Topic5  -5.2983  -0.1262\n",
       "113           adopt  0.082069  1.068906   Topic5  -5.2979  -0.1334\n",
       "116      management  0.082051  1.069748   Topic5  -5.2981  -0.1344\n",
       "114          change  0.082095  1.070416   Topic5  -5.2975  -0.1345\n",
       "118          talent  0.082116  1.071333   Topic5  -5.2973  -0.1351\n",
       "115  digitalization  0.082085  1.071890   Topic5  -5.2977  -0.1360\n",
       "119            work  0.082124  1.072424   Topic5  -5.2972  -0.1360\n",
       "117           right  0.082137  1.073790   Topic5  -5.2970  -0.1371\n",
       "0         executive  0.082812  2.052668   Topic5  -5.2889  -0.7769\n",
       "1            future  0.082762  2.052618   Topic5  -5.2895  -0.7775\n",
       "31               ai  0.082335  1.301023   Topic5  -5.2946  -0.3267\n",
       "2             genai  0.082646  2.052580   Topic5  -5.2909  -0.7788\n",
       "6        understand  0.082646  2.052720   Topic5  -5.2909  -0.7789\n",
       "37        technique  0.082269  1.301080   Topic5  -5.2954  -0.3275\n",
       "56            drive  0.082895  2.856838   Topic5  -5.2879  -1.1065\n",
       "14        strategic  0.082871  3.133440   Topic5  -5.2881  -1.1992\n",
       "20          gartner  0.082706  4.426657   Topic5  -5.2901  -1.5467\n",
       "105  transformation  0.082626  3.181802   Topic5  -5.2911  -1.2174\n",
       "4         implement  0.082607  2.805075   Topic5  -5.2913  -1.0917\n",
       "3             guide  0.082605  2.052735   Topic5  -5.2914  -0.7794\n",
       "32       artificial  0.082494  1.771824   Topic5  -5.2927  -0.6336\n",
       "13             plan  0.082478  2.953400   Topic5  -5.2929  -1.1447\n",
       "5          planning  0.082435  2.052956   Topic5  -5.2934  -0.7816\n",
       "53             2023  0.082422  2.015562   Topic5  -5.2936  -0.7634\n",
       "73             cost  0.082394  3.200678   Topic5  -5.2939  -1.2262, token_table=      Topic      Freq            Term\n",
       "term                                 \n",
       "52        1  0.768405              10\n",
       "53        1  0.496140            2023\n",
       "53        2  0.496140            2023\n",
       "87        2  0.770802               4\n",
       "88        2  0.768608      accelerate\n",
       "63        4  0.942704         achieve\n",
       "89        2  0.772843          action\n",
       "113       4  0.935536           adopt\n",
       "90        2  0.764680          agenda\n",
       "31        1  0.768626              ai\n",
       "97        3  0.555222       analytics\n",
       "32        1  0.564390      artificial\n",
       "32        4  0.564390      artificial\n",
       "106       2  0.745094            base\n",
       "54        1  0.768418          beyond\n",
       "7         1  0.540323           build\n",
       "7         3  0.540323           build\n",
       "39        1  0.248743        business\n",
       "39        2  0.248743        business\n",
       "39        4  0.248743        business\n",
       "114       4  0.934216          change\n",
       "91        2  0.496912             cio\n",
       "40        5  0.549588           cloud\n",
       "73        1  0.624868            cost\n",
       "73        4  0.312434            cost\n",
       "98        3  0.836463          create\n",
       "99        3  0.836453         culture\n",
       "100       3  0.836458              cx\n",
       "19        1  1.001238   cybersecurity\n",
       "101       3  0.555217            data\n",
       "42        2  0.556382         digital\n",
       "42        3  0.278191         digital\n",
       "42        4  0.278191         digital\n",
       "115       4  0.932932  digitalization\n",
       "74        1  0.802381      discipline\n",
       "55        1  0.768416        download\n",
       "56        1  0.350037           drive\n",
       "56        3  0.350037           drive\n",
       "56        4  0.350037           drive\n",
       "102       3  0.836457          driven\n",
       "57        1  0.768406           ebook\n",
       "9         3  0.865750     effectively\n",
       "75        1  0.539837      enterprise\n",
       "75        3  0.539837      enterprise\n",
       "33        1  0.768525      everything\n",
       "0         1  0.487171       executive\n",
       "0         2  0.487171       executive\n",
       "10        3  0.871933         explore\n",
       "76        1  0.535681           focus\n",
       "76        3  0.535681           focus\n",
       "64        4  0.942752   functionality\n",
       "1         1  0.487183          future\n",
       "1         2  0.487183          future\n",
       "20        1  0.451808         gartner\n",
       "20        2  0.451808         gartner\n",
       "20        4  0.225904         gartner\n",
       "2         1  0.487192           genai\n",
       "2         2  0.487192           genai\n",
       "65        4  0.942759            goal\n",
       "66        4  0.942687          growth\n",
       "3         1  0.487155           guide\n",
       "3         2  0.487155           guide\n",
       "45        4  0.512970            help\n",
       "58        1  0.501074          impact\n",
       "58        2  0.501074          impact\n",
       "4         1  0.356497       implement\n",
       "4         2  0.712993       implement\n",
       "67        4  0.942790         improve\n",
       "46        2  0.570757      initiative\n",
       "21        1  0.566239         insight\n",
       "21        4  0.566239         insight\n",
       "34        1  0.564348    intelligence\n",
       "34        4  0.564348    intelligence\n",
       "107       2  0.745082     interaction\n",
       "92        2  0.779018             key\n",
       "35        1  0.768571            know\n",
       "79        1  0.542502          leader\n",
       "79        3  0.542502          leader\n",
       "68        4  0.942698      leadership\n",
       "93        2  0.769259           learn\n",
       "116       4  0.934800      management\n",
       "49        1  0.423637        maximize\n",
       "103       3  0.836466            must\n",
       "36        1  0.768552            need\n",
       "11        3  0.870372             one\n",
       "80        1  0.529452    optimization\n",
       "108       2  0.745089    organization\n",
       "94        2  0.769809         outline\n",
       "12        3  0.868609            page\n",
       "13        1  0.338593            plan\n",
       "13        3  0.338593            plan\n",
       "13        4  0.338593            plan\n",
       "5         1  0.487103        planning\n",
       "5         2  0.487103        planning\n",
       "81        1  0.801426         program\n",
       "82        1  0.796721          pursue\n",
       "69        4  0.942707         quality\n",
       "104       3  0.836499        redefine\n",
       "83        1  0.801275        reducing\n",
       "95        2  0.768359          report\n",
       "22        1  0.488383        research\n",
       "22        2  0.488383        research\n",
       "23        1  0.772529       resilient\n",
       "70        4  0.942747         revenue\n",
       "117       4  0.931281           right\n",
       "109       2  0.745158         roadmap\n",
       "24        1  0.772553            save\n",
       "84        1  0.827256          saving\n",
       "25        1  0.772567         scoping\n",
       "26        1  0.771801        security\n",
       "59        1  0.768426             see\n",
       "85        1  0.800751        specific\n",
       "71        4  0.942728           speed\n",
       "14        1  0.638276       strategic\n",
       "14        3  0.319138       strategic\n",
       "15        1  0.302000        strategy\n",
       "15        3  0.302000        strategy\n",
       "15        4  0.302000        strategy\n",
       "16        3  0.863317      successful\n",
       "110       2  0.745118    successfully\n",
       "96        2  0.770274            take\n",
       "118       4  0.933417          talent\n",
       "37        1  0.768592       technique\n",
       "60        1  0.768405      technology\n",
       "17        3  0.579903        template\n",
       "38        1  0.768505            term\n",
       "111       2  0.745156        thousand\n",
       "27        1  0.776703          threat\n",
       "28        1  0.771751            time\n",
       "29        1  0.772914            tool\n",
       "61        1  0.768457             top\n",
       "105       2  0.628575  transformation\n",
       "105       3  0.314287  transformation\n",
       "105       4  0.314287  transformation\n",
       "62        1  0.993672           trend\n",
       "112       2  0.745086        unbiased\n",
       "6         1  0.487159      understand\n",
       "6         2  0.487159      understand\n",
       "18        3  0.867001          unlock\n",
       "30        1  0.526789             use\n",
       "30        3  0.526789             use\n",
       "51        1  0.600657           value\n",
       "119       4  0.932467            work, R=30, lambda_step=0.01, plot_opts={'xlab': 'PC1', 'ylab': 'PC2'}, topic_order=[2, 4, 5, 1, 3])"
      ]
     },
     "execution_count": 53,
     "metadata": {},
     "output_type": "execute_result"
    }
   ],
   "source": [
    "# visulaise the topics\n",
    "pyLDAvis.enable_notebook()\n",
    "vis=pyLDAvis.gensim.prepare(lda_model,corpus,id2word)\n",
    "vis"
   ]
  },
  {
   "cell_type": "markdown",
   "id": "2c0e48cd-b129-410c-a6ff-8170a6b4b1c0",
   "metadata": {
    "execution": {
     "iopub.execute_input": "2023-09-21T13:22:06.707724Z",
     "iopub.status.busy": "2023-09-21T13:22:06.706553Z",
     "iopub.status.idle": "2023-09-21T13:22:06.722056Z",
     "shell.execute_reply": "2023-09-21T13:22:06.722056Z",
     "shell.execute_reply.started": "2023-09-21T13:22:06.707632Z"
    }
   },
   "source": [
    "---\n",
    "# interpretation\n",
    "- Each bubble represents a topic. The larger the bubble, the higher percentage of the number of terms/words in the corpus is about that topic.\n",
    "- Blue bars represent the overall frequency of each word in the corpus. If no topic is selected, the blue bars of the most frequently used words will be displayed.\n",
    "- Red bars give the estimated number of times a given term was generated by a given topic\n",
    "- The word with the longest red bar is the word that is used the most by the topic belonging to that topic.\n",
    "- The further the bubbles are away from each other, the more different they are\n",
    "- A good topic model will have big and non-overlapping bubbles scattered throughout the chart.\n",
    "---\n"
   ]
  },
  {
   "cell_type": "markdown",
   "id": "ead340a8-6802-425e-80dc-78494ebddd08",
   "metadata": {},
   "source": [
    "--- \n",
    "\n",
    "Word Cloud\n",
    "\n",
    "---\n"
   ]
  },
  {
   "cell_type": "code",
   "execution_count": 56,
   "id": "cc5ffcd4-0777-4725-aff8-dfbe9463fb00",
   "metadata": {
    "execution": {
     "iopub.execute_input": "2023-09-21T17:44:23.448957Z",
     "iopub.status.busy": "2023-09-21T17:44:23.448957Z",
     "iopub.status.idle": "2023-09-21T17:44:23.874294Z",
     "shell.execute_reply": "2023-09-21T17:44:23.873287Z",
     "shell.execute_reply.started": "2023-09-21T17:44:23.448957Z"
    }
   },
   "outputs": [
    {
     "data": {
      "text/plain": [
       "<Figure size 1200x600 with 0 Axes>"
      ]
     },
     "execution_count": 56,
     "metadata": {},
     "output_type": "execute_result"
    },
    {
     "data": {
      "text/plain": [
       "<AxesSubplot: >"
      ]
     },
     "execution_count": 56,
     "metadata": {},
     "output_type": "execute_result"
    },
    {
     "data": {
      "text/plain": [
       "<matplotlib.image.AxesImage at 0x1de411fe620>"
      ]
     },
     "execution_count": 56,
     "metadata": {},
     "output_type": "execute_result"
    },
    {
     "data": {
      "text/plain": [
       "Text(0.5, 1.0, 'Topic Names Word Cloud')"
      ]
     },
     "execution_count": 56,
     "metadata": {},
     "output_type": "execute_result"
    },
    {
     "data": {
      "text/plain": [
       "(-0.5, 799.5, 399.5, -0.5)"
      ]
     },
     "execution_count": 56,
     "metadata": {},
     "output_type": "execute_result"
    },
    {
     "data": {
      "text/plain": [
       "<AxesSubplot: >"
      ]
     },
     "execution_count": 56,
     "metadata": {},
     "output_type": "execute_result"
    },
    {
     "data": {
      "text/plain": [
       "<matplotlib.image.AxesImage at 0x1de4123c880>"
      ]
     },
     "execution_count": 56,
     "metadata": {},
     "output_type": "execute_result"
    },
    {
     "data": {
      "text/plain": [
       "Text(0.5, 1.0, 'Topic Words Word Cloud')"
      ]
     },
     "execution_count": 56,
     "metadata": {},
     "output_type": "execute_result"
    },
    {
     "data": {
      "text/plain": [
       "(-0.5, 799.5, 399.5, -0.5)"
      ]
     },
     "execution_count": 56,
     "metadata": {},
     "output_type": "execute_result"
    },
    {
     "data": {
      "image/png": "[encoded data removed]",
      "text/plain": [
       "<Figure size 1200x600 with 2 Axes>"
      ]
     },
     "metadata": {},
     "output_type": "display_data"
    }
   ],
   "source": [
    "# Create a WordCloud for topic names\n",
    "topic_names_wordcloud = WordCloud(width=800, height=400, background_color='white').generate(' '.join(df_topics['topic_name']))\n",
    "\n",
    "# Create a WordCloud for topic words\n",
    "topic_words_wordcloud = WordCloud(width=800, height=400, background_color='white').generate(' '.join(df_topics['topic_words']))\n",
    "\n",
    "# Display the word clouds using matplotlib\n",
    "plt.figure(figsize=(12, 6))\n",
    "plt.subplot(1, 2, 1)\n",
    "plt.imshow(topic_names_wordcloud, interpolation='bilinear')\n",
    "plt.title('Topic Names Word Cloud')\n",
    "plt.axis(\"off\")\n",
    "\n",
    "plt.subplot(1, 2, 2)\n",
    "plt.imshow(topic_words_wordcloud, interpolation='bilinear')\n",
    "plt.title('Topic Words Word Cloud')\n",
    "plt.axis(\"off\")\n",
    "\n",
    "plt.show()"
   ]
  },
  {
   "cell_type": "code",
   "execution_count": null,
   "id": "cd7f8fbd-7d92-4db0-994e-889b87a9545c",
   "metadata": {},
   "outputs": [],
   "source": []
  },
  {
   "cell_type": "code",
   "execution_count": null,
   "id": "72458e9e-cda4-4bc2-a875-cd2e4b580097",
   "metadata": {},
   "outputs": [],
   "source": []
  },
  {
   "cell_type": "code",
   "execution_count": null,
   "id": "1b8b5143-e465-462c-b654-3d538ec3e99e",
   "metadata": {},
   "outputs": [],
   "source": []
  },
  {
   "cell_type": "code",
   "execution_count": null,
   "id": "b138d040-e66c-42ed-865f-e37feb0ef867",
   "metadata": {},
   "outputs": [],
   "source": []
  },
  {
   "cell_type": "code",
   "execution_count": null,
   "id": "a34b261d-b1d9-471c-93ec-7dd7d23d776a",
   "metadata": {},
   "outputs": [],
   "source": []
  },
  {
   "cell_type": "code",
   "execution_count": null,
   "id": "8b9f3f38-92a4-432e-990d-6759e5caecd9",
   "metadata": {},
   "outputs": [],
   "source": []
  },
  {
   "cell_type": "code",
   "execution_count": null,
   "id": "b0fc1235-7b2d-4e77-9fc9-12356aae212d",
   "metadata": {},
   "outputs": [],
   "source": []
  },
  {
   "cell_type": "code",
   "execution_count": null,
   "id": "f6f5f7ac-da65-46c8-85db-52f4e5e048cc",
   "metadata": {},
   "outputs": [],
   "source": []
  },
  {
   "cell_type": "code",
   "execution_count": null,
   "id": "a66f5096-e3dc-46f9-a460-2767b96f18d3",
   "metadata": {},
   "outputs": [],
   "source": []
  },
  {
   "cell_type": "code",
   "execution_count": null,
   "id": "f1bc65d8-952c-48f5-8bb3-e8ad061c0d7f",
   "metadata": {},
   "outputs": [],
   "source": []
  },
  {
   "cell_type": "code",
   "execution_count": null,
   "id": "86f91a8c-7fd6-45e9-b353-e8ac24e2809b",
   "metadata": {},
   "outputs": [],
   "source": []
  }
 ],
 "metadata": {
  "kernelspec": {
   "display_name": "Python 3 (ipykernel)",
   "language": "python",
   "name": "python3"
  },
  "language_info": {
   "codemirror_mode": {
    "name": "ipython",
    "version": 3
   },
   "file_extension": ".py",
   "mimetype": "text/x-python",
   "name": "python",
   "nbconvert_exporter": "python",
   "pygments_lexer": "ipython3",
   "version": "3.10.8"
  }
 },
 "nbformat": 4,
 "nbformat_minor": 5
}
